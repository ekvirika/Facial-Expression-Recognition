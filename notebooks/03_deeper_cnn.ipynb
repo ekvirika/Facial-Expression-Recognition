{
  "cells": [
    {
      "cell_type": "markdown",
      "id": "675cc3cb",
      "metadata": {
        "colab_type": "text",
        "id": "view-in-github"
      },
      "source": [
        "<a href=\"https://colab.research.google.com/github/ekvirika/Facial-Expression-Recognition/blob/main/notebooks/03_deeper_cnn.ipynb\" target=\"_parent\"><img src=\"https://colab.research.google.com/assets/colab-badge.svg\" alt=\"Open In Colab\"/></a>"
      ]
    },
    {
      "cell_type": "code",
      "execution_count": 1,
      "id": "u-1hG-PWxtsn",
      "metadata": {
        "colab": {
          "base_uri": "https://localhost:8080/"
        },
        "id": "u-1hG-PWxtsn",
        "outputId": "0d696d55-e7c7-4015-aadd-95d1bdb341f0"
      },
      "outputs": [
        {
          "name": "stdout",
          "output_type": "stream",
          "text": [
            "Mounted at /content/drive\n"
          ]
        }
      ],
      "source": [
        "from google.colab import drive\n",
        "drive.mount('/content/drive')"
      ]
    },
    {
      "cell_type": "code",
      "execution_count": 2,
      "id": "C4M70QuAxveU",
      "metadata": {
        "colab": {
          "base_uri": "https://localhost:8080/"
        },
        "id": "C4M70QuAxveU",
        "outputId": "9527bb2e-e15f-4550-9cb5-7db4c51fdce8"
      },
      "outputs": [
        {
          "name": "stdout",
          "output_type": "stream",
          "text": [
            "Requirement already satisfied: wandb in /usr/local/lib/python3.11/dist-packages (0.19.11)\n",
            "Requirement already satisfied: torch in /usr/local/lib/python3.11/dist-packages (2.6.0+cu124)\n",
            "Requirement already satisfied: torchvision in /usr/local/lib/python3.11/dist-packages (0.21.0+cu124)\n",
            "Requirement already satisfied: pandas in /usr/local/lib/python3.11/dist-packages (2.2.2)\n",
            "Requirement already satisfied: numpy in /usr/local/lib/python3.11/dist-packages (2.0.2)\n",
            "Requirement already satisfied: matplotlib in /usr/local/lib/python3.11/dist-packages (3.10.0)\n",
            "Requirement already satisfied: seaborn in /usr/local/lib/python3.11/dist-packages (0.13.2)\n",
            "Requirement already satisfied: scikit-learn in /usr/local/lib/python3.11/dist-packages (1.6.1)\n",
            "Requirement already satisfied: click!=8.0.0,>=7.1 in /usr/local/lib/python3.11/dist-packages (from wandb) (8.2.1)\n",
            "Requirement already satisfied: docker-pycreds>=0.4.0 in /usr/local/lib/python3.11/dist-packages (from wandb) (0.4.0)\n",
            "Requirement already satisfied: gitpython!=3.1.29,>=1.0.0 in /usr/local/lib/python3.11/dist-packages (from wandb) (3.1.44)\n",
            "Requirement already satisfied: platformdirs in /usr/local/lib/python3.11/dist-packages (from wandb) (4.3.8)\n",
            "Requirement already satisfied: protobuf!=4.21.0,!=5.28.0,<7,>=3.19.0 in /usr/local/lib/python3.11/dist-packages (from wandb) (5.29.4)\n",
            "Requirement already satisfied: psutil>=5.0.0 in /usr/local/lib/python3.11/dist-packages (from wandb) (5.9.5)\n",
            "Requirement already satisfied: pydantic<3 in /usr/local/lib/python3.11/dist-packages (from wandb) (2.11.4)\n",
            "Requirement already satisfied: pyyaml in /usr/local/lib/python3.11/dist-packages (from wandb) (6.0.2)\n",
            "Requirement already satisfied: requests<3,>=2.0.0 in /usr/local/lib/python3.11/dist-packages (from wandb) (2.32.3)\n",
            "Requirement already satisfied: sentry-sdk>=2.0.0 in /usr/local/lib/python3.11/dist-packages (from wandb) (2.29.1)\n",
            "Requirement already satisfied: setproctitle in /usr/local/lib/python3.11/dist-packages (from wandb) (1.3.6)\n",
            "Requirement already satisfied: setuptools in /usr/local/lib/python3.11/dist-packages (from wandb) (75.2.0)\n",
            "Requirement already satisfied: typing-extensions<5,>=4.4 in /usr/local/lib/python3.11/dist-packages (from wandb) (4.13.2)\n",
            "Requirement already satisfied: filelock in /usr/local/lib/python3.11/dist-packages (from torch) (3.18.0)\n",
            "Requirement already satisfied: networkx in /usr/local/lib/python3.11/dist-packages (from torch) (3.4.2)\n",
            "Requirement already satisfied: jinja2 in /usr/local/lib/python3.11/dist-packages (from torch) (3.1.6)\n",
            "Requirement already satisfied: fsspec in /usr/local/lib/python3.11/dist-packages (from torch) (2025.3.2)\n",
            "Collecting nvidia-cuda-nvrtc-cu12==12.4.127 (from torch)\n",
            "  Downloading nvidia_cuda_nvrtc_cu12-12.4.127-py3-none-manylinux2014_x86_64.whl.metadata (1.5 kB)\n",
            "Collecting nvidia-cuda-runtime-cu12==12.4.127 (from torch)\n",
            "  Downloading nvidia_cuda_runtime_cu12-12.4.127-py3-none-manylinux2014_x86_64.whl.metadata (1.5 kB)\n",
            "Collecting nvidia-cuda-cupti-cu12==12.4.127 (from torch)\n",
            "  Downloading nvidia_cuda_cupti_cu12-12.4.127-py3-none-manylinux2014_x86_64.whl.metadata (1.6 kB)\n",
            "Collecting nvidia-cudnn-cu12==9.1.0.70 (from torch)\n",
            "  Downloading nvidia_cudnn_cu12-9.1.0.70-py3-none-manylinux2014_x86_64.whl.metadata (1.6 kB)\n",
            "Collecting nvidia-cublas-cu12==12.4.5.8 (from torch)\n",
            "  Downloading nvidia_cublas_cu12-12.4.5.8-py3-none-manylinux2014_x86_64.whl.metadata (1.5 kB)\n",
            "Collecting nvidia-cufft-cu12==11.2.1.3 (from torch)\n",
            "  Downloading nvidia_cufft_cu12-11.2.1.3-py3-none-manylinux2014_x86_64.whl.metadata (1.5 kB)\n",
            "Collecting nvidia-curand-cu12==10.3.5.147 (from torch)\n",
            "  Downloading nvidia_curand_cu12-10.3.5.147-py3-none-manylinux2014_x86_64.whl.metadata (1.5 kB)\n",
            "Collecting nvidia-cusolver-cu12==11.6.1.9 (from torch)\n",
            "  Downloading nvidia_cusolver_cu12-11.6.1.9-py3-none-manylinux2014_x86_64.whl.metadata (1.6 kB)\n",
            "Collecting nvidia-cusparse-cu12==12.3.1.170 (from torch)\n",
            "  Downloading nvidia_cusparse_cu12-12.3.1.170-py3-none-manylinux2014_x86_64.whl.metadata (1.6 kB)\n",
            "Requirement already satisfied: nvidia-cusparselt-cu12==0.6.2 in /usr/local/lib/python3.11/dist-packages (from torch) (0.6.2)\n",
            "Requirement already satisfied: nvidia-nccl-cu12==2.21.5 in /usr/local/lib/python3.11/dist-packages (from torch) (2.21.5)\n",
            "Requirement already satisfied: nvidia-nvtx-cu12==12.4.127 in /usr/local/lib/python3.11/dist-packages (from torch) (12.4.127)\n",
            "Collecting nvidia-nvjitlink-cu12==12.4.127 (from torch)\n",
            "  Downloading nvidia_nvjitlink_cu12-12.4.127-py3-none-manylinux2014_x86_64.whl.metadata (1.5 kB)\n",
            "Requirement already satisfied: triton==3.2.0 in /usr/local/lib/python3.11/dist-packages (from torch) (3.2.0)\n",
            "Requirement already satisfied: sympy==1.13.1 in /usr/local/lib/python3.11/dist-packages (from torch) (1.13.1)\n",
            "Requirement already satisfied: mpmath<1.4,>=1.1.0 in /usr/local/lib/python3.11/dist-packages (from sympy==1.13.1->torch) (1.3.0)\n",
            "Requirement already satisfied: pillow!=8.3.*,>=5.3.0 in /usr/local/lib/python3.11/dist-packages (from torchvision) (11.2.1)\n",
            "Requirement already satisfied: python-dateutil>=2.8.2 in /usr/local/lib/python3.11/dist-packages (from pandas) (2.9.0.post0)\n",
            "Requirement already satisfied: pytz>=2020.1 in /usr/local/lib/python3.11/dist-packages (from pandas) (2025.2)\n",
            "Requirement already satisfied: tzdata>=2022.7 in /usr/local/lib/python3.11/dist-packages (from pandas) (2025.2)\n",
            "Requirement already satisfied: contourpy>=1.0.1 in /usr/local/lib/python3.11/dist-packages (from matplotlib) (1.3.2)\n",
            "Requirement already satisfied: cycler>=0.10 in /usr/local/lib/python3.11/dist-packages (from matplotlib) (0.12.1)\n",
            "Requirement already satisfied: fonttools>=4.22.0 in /usr/local/lib/python3.11/dist-packages (from matplotlib) (4.58.0)\n",
            "Requirement already satisfied: kiwisolver>=1.3.1 in /usr/local/lib/python3.11/dist-packages (from matplotlib) (1.4.8)\n",
            "Requirement already satisfied: packaging>=20.0 in /usr/local/lib/python3.11/dist-packages (from matplotlib) (24.2)\n",
            "Requirement already satisfied: pyparsing>=2.3.1 in /usr/local/lib/python3.11/dist-packages (from matplotlib) (3.2.3)\n",
            "Requirement already satisfied: scipy>=1.6.0 in /usr/local/lib/python3.11/dist-packages (from scikit-learn) (1.15.3)\n",
            "Requirement already satisfied: joblib>=1.2.0 in /usr/local/lib/python3.11/dist-packages (from scikit-learn) (1.5.0)\n",
            "Requirement already satisfied: threadpoolctl>=3.1.0 in /usr/local/lib/python3.11/dist-packages (from scikit-learn) (3.6.0)\n",
            "Requirement already satisfied: six>=1.4.0 in /usr/local/lib/python3.11/dist-packages (from docker-pycreds>=0.4.0->wandb) (1.17.0)\n",
            "Requirement already satisfied: gitdb<5,>=4.0.1 in /usr/local/lib/python3.11/dist-packages (from gitpython!=3.1.29,>=1.0.0->wandb) (4.0.12)\n",
            "Requirement already satisfied: annotated-types>=0.6.0 in /usr/local/lib/python3.11/dist-packages (from pydantic<3->wandb) (0.7.0)\n",
            "Requirement already satisfied: pydantic-core==2.33.2 in /usr/local/lib/python3.11/dist-packages (from pydantic<3->wandb) (2.33.2)\n",
            "Requirement already satisfied: typing-inspection>=0.4.0 in /usr/local/lib/python3.11/dist-packages (from pydantic<3->wandb) (0.4.1)\n",
            "Requirement already satisfied: charset-normalizer<4,>=2 in /usr/local/lib/python3.11/dist-packages (from requests<3,>=2.0.0->wandb) (3.4.2)\n",
            "Requirement already satisfied: idna<4,>=2.5 in /usr/local/lib/python3.11/dist-packages (from requests<3,>=2.0.0->wandb) (3.10)\n",
            "Requirement already satisfied: urllib3<3,>=1.21.1 in /usr/local/lib/python3.11/dist-packages (from requests<3,>=2.0.0->wandb) (2.4.0)\n",
            "Requirement already satisfied: certifi>=2017.4.17 in /usr/local/lib/python3.11/dist-packages (from requests<3,>=2.0.0->wandb) (2025.4.26)\n",
            "Requirement already satisfied: MarkupSafe>=2.0 in /usr/local/lib/python3.11/dist-packages (from jinja2->torch) (3.0.2)\n",
            "Requirement already satisfied: smmap<6,>=3.0.1 in /usr/local/lib/python3.11/dist-packages (from gitdb<5,>=4.0.1->gitpython!=3.1.29,>=1.0.0->wandb) (5.0.2)\n",
            "Downloading nvidia_cublas_cu12-12.4.5.8-py3-none-manylinux2014_x86_64.whl (363.4 MB)\n",
            "\u001b[2K   \u001b[90m━━━━━━━━━━━━━━━━━━━━━━━━━━━━━━━━━━━━━━━━\u001b[0m \u001b[32m363.4/363.4 MB\u001b[0m \u001b[31m4.5 MB/s\u001b[0m eta \u001b[36m0:00:00\u001b[0m\n",
            "\u001b[?25hDownloading nvidia_cuda_cupti_cu12-12.4.127-py3-none-manylinux2014_x86_64.whl (13.8 MB)\n",
            "\u001b[2K   \u001b[90m━━━━━━━━━━━━━━━━━━━━━━━━━━━━━━━━━━━━━━━━\u001b[0m \u001b[32m13.8/13.8 MB\u001b[0m \u001b[31m121.6 MB/s\u001b[0m eta \u001b[36m0:00:00\u001b[0m\n",
            "\u001b[?25hDownloading nvidia_cuda_nvrtc_cu12-12.4.127-py3-none-manylinux2014_x86_64.whl (24.6 MB)\n",
            "\u001b[2K   \u001b[90m━━━━━━━━━━━━━━━━━━━━━━━━━━━━━━━━━━━━━━━━\u001b[0m \u001b[32m24.6/24.6 MB\u001b[0m \u001b[31m91.6 MB/s\u001b[0m eta \u001b[36m0:00:00\u001b[0m\n",
            "\u001b[?25hDownloading nvidia_cuda_runtime_cu12-12.4.127-py3-none-manylinux2014_x86_64.whl (883 kB)\n",
            "\u001b[2K   \u001b[90m━━━━━━━━━━━━━━━━━━━━━━━━━━━━━━━━━━━━━━━━\u001b[0m \u001b[32m883.7/883.7 kB\u001b[0m \u001b[31m47.8 MB/s\u001b[0m eta \u001b[36m0:00:00\u001b[0m\n",
            "\u001b[?25hDownloading nvidia_cudnn_cu12-9.1.0.70-py3-none-manylinux2014_x86_64.whl (664.8 MB)\n",
            "\u001b[2K   \u001b[90m━━━━━━━━━━━━━━━━━━━━━━━━━━━━━━━━━━━━━━━━\u001b[0m \u001b[32m664.8/664.8 MB\u001b[0m \u001b[31m2.8 MB/s\u001b[0m eta \u001b[36m0:00:00\u001b[0m\n",
            "\u001b[?25hDownloading nvidia_cufft_cu12-11.2.1.3-py3-none-manylinux2014_x86_64.whl (211.5 MB)\n",
            "\u001b[2K   \u001b[90m━━━━━━━━━━━━━━━━━━━━━━━━━━━━━━━━━━━━━━━━\u001b[0m \u001b[32m211.5/211.5 MB\u001b[0m \u001b[31m6.4 MB/s\u001b[0m eta \u001b[36m0:00:00\u001b[0m\n",
            "\u001b[?25hDownloading nvidia_curand_cu12-10.3.5.147-py3-none-manylinux2014_x86_64.whl (56.3 MB)\n",
            "\u001b[2K   \u001b[90m━━━━━━━━━━━━━━━━━━━━━━━━━━━━━━━━━━━━━━━━\u001b[0m \u001b[32m56.3/56.3 MB\u001b[0m \u001b[31m15.7 MB/s\u001b[0m eta \u001b[36m0:00:00\u001b[0m\n",
            "\u001b[?25hDownloading nvidia_cusolver_cu12-11.6.1.9-py3-none-manylinux2014_x86_64.whl (127.9 MB)\n",
            "\u001b[2K   \u001b[90m━━━━━━━━━━━━━━━━━━━━━━━━━━━━━━━━━━━━━━━━\u001b[0m \u001b[32m127.9/127.9 MB\u001b[0m \u001b[31m8.1 MB/s\u001b[0m eta \u001b[36m0:00:00\u001b[0m\n",
            "\u001b[?25hDownloading nvidia_cusparse_cu12-12.3.1.170-py3-none-manylinux2014_x86_64.whl (207.5 MB)\n",
            "\u001b[2K   \u001b[90m━━━━━━━━━━━━━━━━━━━━━━━━━━━━━━━━━━━━━━━━\u001b[0m \u001b[32m207.5/207.5 MB\u001b[0m \u001b[31m5.7 MB/s\u001b[0m eta \u001b[36m0:00:00\u001b[0m\n",
            "\u001b[?25hDownloading nvidia_nvjitlink_cu12-12.4.127-py3-none-manylinux2014_x86_64.whl (21.1 MB)\n",
            "\u001b[2K   \u001b[90m━━━━━━━━━━━━━━━━━━━━━━━━━━━━━━━━━━━━━━━━\u001b[0m \u001b[32m21.1/21.1 MB\u001b[0m \u001b[31m87.2 MB/s\u001b[0m eta \u001b[36m0:00:00\u001b[0m\n",
            "\u001b[?25hInstalling collected packages: nvidia-nvjitlink-cu12, nvidia-curand-cu12, nvidia-cufft-cu12, nvidia-cuda-runtime-cu12, nvidia-cuda-nvrtc-cu12, nvidia-cuda-cupti-cu12, nvidia-cublas-cu12, nvidia-cusparse-cu12, nvidia-cudnn-cu12, nvidia-cusolver-cu12\n",
            "  Attempting uninstall: nvidia-nvjitlink-cu12\n",
            "    Found existing installation: nvidia-nvjitlink-cu12 12.5.82\n",
            "    Uninstalling nvidia-nvjitlink-cu12-12.5.82:\n",
            "      Successfully uninstalled nvidia-nvjitlink-cu12-12.5.82\n",
            "  Attempting uninstall: nvidia-curand-cu12\n",
            "    Found existing installation: nvidia-curand-cu12 10.3.6.82\n",
            "    Uninstalling nvidia-curand-cu12-10.3.6.82:\n",
            "      Successfully uninstalled nvidia-curand-cu12-10.3.6.82\n",
            "  Attempting uninstall: nvidia-cufft-cu12\n",
            "    Found existing installation: nvidia-cufft-cu12 11.2.3.61\n",
            "    Uninstalling nvidia-cufft-cu12-11.2.3.61:\n",
            "      Successfully uninstalled nvidia-cufft-cu12-11.2.3.61\n",
            "  Attempting uninstall: nvidia-cuda-runtime-cu12\n",
            "    Found existing installation: nvidia-cuda-runtime-cu12 12.5.82\n",
            "    Uninstalling nvidia-cuda-runtime-cu12-12.5.82:\n",
            "      Successfully uninstalled nvidia-cuda-runtime-cu12-12.5.82\n",
            "  Attempting uninstall: nvidia-cuda-nvrtc-cu12\n",
            "    Found existing installation: nvidia-cuda-nvrtc-cu12 12.5.82\n",
            "    Uninstalling nvidia-cuda-nvrtc-cu12-12.5.82:\n",
            "      Successfully uninstalled nvidia-cuda-nvrtc-cu12-12.5.82\n",
            "  Attempting uninstall: nvidia-cuda-cupti-cu12\n",
            "    Found existing installation: nvidia-cuda-cupti-cu12 12.5.82\n",
            "    Uninstalling nvidia-cuda-cupti-cu12-12.5.82:\n",
            "      Successfully uninstalled nvidia-cuda-cupti-cu12-12.5.82\n",
            "  Attempting uninstall: nvidia-cublas-cu12\n",
            "    Found existing installation: nvidia-cublas-cu12 12.5.3.2\n",
            "    Uninstalling nvidia-cublas-cu12-12.5.3.2:\n",
            "      Successfully uninstalled nvidia-cublas-cu12-12.5.3.2\n",
            "  Attempting uninstall: nvidia-cusparse-cu12\n",
            "    Found existing installation: nvidia-cusparse-cu12 12.5.1.3\n",
            "    Uninstalling nvidia-cusparse-cu12-12.5.1.3:\n",
            "      Successfully uninstalled nvidia-cusparse-cu12-12.5.1.3\n",
            "  Attempting uninstall: nvidia-cudnn-cu12\n",
            "    Found existing installation: nvidia-cudnn-cu12 9.3.0.75\n",
            "    Uninstalling nvidia-cudnn-cu12-9.3.0.75:\n",
            "      Successfully uninstalled nvidia-cudnn-cu12-9.3.0.75\n",
            "  Attempting uninstall: nvidia-cusolver-cu12\n",
            "    Found existing installation: nvidia-cusolver-cu12 11.6.3.83\n",
            "    Uninstalling nvidia-cusolver-cu12-11.6.3.83:\n",
            "      Successfully uninstalled nvidia-cusolver-cu12-11.6.3.83\n",
            "Successfully installed nvidia-cublas-cu12-12.4.5.8 nvidia-cuda-cupti-cu12-12.4.127 nvidia-cuda-nvrtc-cu12-12.4.127 nvidia-cuda-runtime-cu12-12.4.127 nvidia-cudnn-cu12-9.1.0.70 nvidia-cufft-cu12-11.2.1.3 nvidia-curand-cu12-10.3.5.147 nvidia-cusolver-cu12-11.6.1.9 nvidia-cusparse-cu12-12.3.1.170 nvidia-nvjitlink-cu12-12.4.127\n",
            "Requirement already satisfied: kaggle in /usr/local/lib/python3.11/dist-packages (1.7.4.5)\n",
            "Requirement already satisfied: bleach in /usr/local/lib/python3.11/dist-packages (from kaggle) (6.2.0)\n",
            "Requirement already satisfied: certifi>=14.05.14 in /usr/local/lib/python3.11/dist-packages (from kaggle) (2025.4.26)\n",
            "Requirement already satisfied: charset-normalizer in /usr/local/lib/python3.11/dist-packages (from kaggle) (3.4.2)\n",
            "Requirement already satisfied: idna in /usr/local/lib/python3.11/dist-packages (from kaggle) (3.10)\n",
            "Requirement already satisfied: protobuf in /usr/local/lib/python3.11/dist-packages (from kaggle) (5.29.4)\n",
            "Requirement already satisfied: python-dateutil>=2.5.3 in /usr/local/lib/python3.11/dist-packages (from kaggle) (2.9.0.post0)\n",
            "Requirement already satisfied: python-slugify in /usr/local/lib/python3.11/dist-packages (from kaggle) (8.0.4)\n",
            "Requirement already satisfied: requests in /usr/local/lib/python3.11/dist-packages (from kaggle) (2.32.3)\n",
            "Requirement already satisfied: setuptools>=21.0.0 in /usr/local/lib/python3.11/dist-packages (from kaggle) (75.2.0)\n",
            "Requirement already satisfied: six>=1.10 in /usr/local/lib/python3.11/dist-packages (from kaggle) (1.17.0)\n",
            "Requirement already satisfied: text-unidecode in /usr/local/lib/python3.11/dist-packages (from kaggle) (1.3)\n",
            "Requirement already satisfied: tqdm in /usr/local/lib/python3.11/dist-packages (from kaggle) (4.67.1)\n",
            "Requirement already satisfied: urllib3>=1.15.1 in /usr/local/lib/python3.11/dist-packages (from kaggle) (2.4.0)\n",
            "Requirement already satisfied: webencodings in /usr/local/lib/python3.11/dist-packages (from kaggle) (0.5.1)\n"
          ]
        }
      ],
      "source": [
        "# Install required packages\n",
        "!pip install wandb torch torchvision pandas numpy matplotlib seaborn scikit-learn\n",
        "\n",
        "# Set up Kaggle API\n",
        "!pip install kaggle"
      ]
    },
    {
      "cell_type": "code",
      "execution_count": 3,
      "id": "Tp8VRlTuxzDy",
      "metadata": {
        "id": "Tp8VRlTuxzDy"
      },
      "outputs": [],
      "source": [
        "# Upload your kaggle.json to Colab and run:\n",
        "!mkdir -p ~/.kaggle\n",
        "!cp /content/drive/MyDrive/ColabNotebooks/kaggle_API_credentials/kaggle.json ~/.kaggle/kaggle.json\n",
        "! chmod 600 ~/.kaggle/kaggle.json"
      ]
    },
    {
      "cell_type": "code",
      "execution_count": 4,
      "id": "duURmvINx0V1",
      "metadata": {
        "colab": {
          "base_uri": "https://localhost:8080/"
        },
        "id": "duURmvINx0V1",
        "outputId": "3ab3530d-9473-45b4-d3ce-be0cb5528ded"
      },
      "outputs": [
        {
          "name": "stdout",
          "output_type": "stream",
          "text": [
            "Downloading challenges-in-representation-learning-facial-expression-recognition-challenge.zip to /content\n",
            " 93% 264M/285M [00:02<00:00, 78.3MB/s]\n",
            "100% 285M/285M [00:07<00:00, 40.7MB/s]\n"
          ]
        }
      ],
      "source": [
        "# Download the dataset\n",
        "!kaggle competitions download -c challenges-in-representation-learning-facial-expression-recognition-challenge\n",
        "!unzip -q challenges-in-representation-learning-facial-expression-recognition-challenge.zip\n"
      ]
    },
    {
      "cell_type": "code",
      "execution_count": 5,
      "id": "2c73c17f",
      "metadata": {
        "id": "2c73c17f"
      },
      "outputs": [],
      "source": [
        "import pandas as pd\n",
        "import numpy as np\n",
        "import matplotlib.pyplot as plt\n",
        "import torch\n",
        "import torch.nn as nn\n",
        "import torch.optim as optim\n",
        "import torch.nn.functional as F\n",
        "from torch.utils.data import Dataset, DataLoader\n",
        "import torchvision.transforms as transforms\n",
        "from sklearn.metrics import classification_report, confusion_matrix\n",
        "import wandb\n",
        "import time\n",
        "from datetime import datetime\n",
        "import seaborn as sns\n"
      ]
    },
    {
      "cell_type": "code",
      "execution_count": 6,
      "id": "57813625",
      "metadata": {
        "colab": {
          "base_uri": "https://localhost:8080/",
          "height": 247
        },
        "id": "57813625",
        "outputId": "aa81ca4d-f182-48a7-939c-6bfd308a126d"
      },
      "outputs": [
        {
          "name": "stdout",
          "output_type": "stream",
          "text": [
            "Using device: cuda\n"
          ]
        },
        {
          "data": {
            "application/javascript": "\n        window._wandbApiKey = new Promise((resolve, reject) => {\n            function loadScript(url) {\n            return new Promise(function(resolve, reject) {\n                let newScript = document.createElement(\"script\");\n                newScript.onerror = reject;\n                newScript.onload = resolve;\n                document.body.appendChild(newScript);\n                newScript.src = url;\n            });\n            }\n            loadScript(\"https://cdn.jsdelivr.net/npm/postmate/build/postmate.min.js\").then(() => {\n            const iframe = document.createElement('iframe')\n            iframe.style.cssText = \"width:0;height:0;border:none\"\n            document.body.appendChild(iframe)\n            const handshake = new Postmate({\n                container: iframe,\n                url: 'https://wandb.ai/authorize'\n            });\n            const timeout = setTimeout(() => reject(\"Couldn't auto authenticate\"), 5000)\n            handshake.then(function(child) {\n                child.on('authorize', data => {\n                    clearTimeout(timeout)\n                    resolve(data)\n                });\n            });\n            })\n        });\n    ",
            "text/plain": [
              "<IPython.core.display.Javascript object>"
            ]
          },
          "metadata": {},
          "output_type": "display_data"
        },
        {
          "name": "stderr",
          "output_type": "stream",
          "text": [
            "\u001b[34m\u001b[1mwandb\u001b[0m: \u001b[33mWARNING\u001b[0m If you're specifying your api key in code, ensure this code is not shared publicly.\n",
            "\u001b[34m\u001b[1mwandb\u001b[0m: \u001b[33mWARNING\u001b[0m Consider setting the WANDB_API_KEY environment variable, or running `wandb login` from the command line.\n",
            "\u001b[34m\u001b[1mwandb\u001b[0m: No netrc file found, creating one.\n",
            "\u001b[34m\u001b[1mwandb\u001b[0m: Appending key for api.wandb.ai to your netrc file: /root/.netrc\n",
            "\u001b[34m\u001b[1mwandb\u001b[0m: Currently logged in as: \u001b[33mellekvirikashvili\u001b[0m (\u001b[33mellekvirikashvili-free-university-of-tbilisi-\u001b[0m) to \u001b[32mhttps://api.wandb.ai\u001b[0m. Use \u001b[1m`wandb login --relogin`\u001b[0m to force relogin\n"
          ]
        },
        {
          "data": {
            "text/html": [
              "Tracking run with wandb version 0.19.11"
            ],
            "text/plain": [
              "<IPython.core.display.HTML object>"
            ]
          },
          "metadata": {},
          "output_type": "display_data"
        },
        {
          "data": {
            "text/html": [
              "Run data is saved locally in <code>/content/wandb/run-20250530_104610-f1pw8dnp</code>"
            ],
            "text/plain": [
              "<IPython.core.display.HTML object>"
            ]
          },
          "metadata": {},
          "output_type": "display_data"
        },
        {
          "data": {
            "text/html": [
              "Syncing run <strong><a href='https://wandb.ai/ellekvirikashvili-free-university-of-tbilisi-/facial-expression-recognition/runs/f1pw8dnp' target=\"_blank\">deeper_cnn_bn_20250530_104603</a></strong> to <a href='https://wandb.ai/ellekvirikashvili-free-university-of-tbilisi-/facial-expression-recognition' target=\"_blank\">Weights & Biases</a> (<a href='https://wandb.me/developer-guide' target=\"_blank\">docs</a>)<br>"
            ],
            "text/plain": [
              "<IPython.core.display.HTML object>"
            ]
          },
          "metadata": {},
          "output_type": "display_data"
        },
        {
          "data": {
            "text/html": [
              " View project at <a href='https://wandb.ai/ellekvirikashvili-free-university-of-tbilisi-/facial-expression-recognition' target=\"_blank\">https://wandb.ai/ellekvirikashvili-free-university-of-tbilisi-/facial-expression-recognition</a>"
            ],
            "text/plain": [
              "<IPython.core.display.HTML object>"
            ]
          },
          "metadata": {},
          "output_type": "display_data"
        },
        {
          "data": {
            "text/html": [
              " View run at <a href='https://wandb.ai/ellekvirikashvili-free-university-of-tbilisi-/facial-expression-recognition/runs/f1pw8dnp' target=\"_blank\">https://wandb.ai/ellekvirikashvili-free-university-of-tbilisi-/facial-expression-recognition/runs/f1pw8dnp</a>"
            ],
            "text/plain": [
              "<IPython.core.display.HTML object>"
            ]
          },
          "metadata": {},
          "output_type": "display_data"
        },
        {
          "data": {
            "text/html": [
              "<button onClick=\"this.nextSibling.style.display='block';this.style.display='none';\">Display W&B run</button><iframe src='https://wandb.ai/ellekvirikashvili-free-university-of-tbilisi-/facial-expression-recognition/runs/f1pw8dnp?jupyter=true' style='border:none;width:100%;height:420px;display:none;'></iframe>"
            ],
            "text/plain": [
              "<wandb.sdk.wandb_run.Run at 0x7fe68cbb2e90>"
            ]
          },
          "execution_count": 6,
          "metadata": {},
          "output_type": "execute_result"
        }
      ],
      "source": [
        "\n",
        "# Set device\n",
        "device = torch.device('cuda' if torch.cuda.is_available() else 'cpu')\n",
        "print(f\"Using device: {device}\")\n",
        "\n",
        "# Configuration - Building upon simple CNN lessons\n",
        "CONFIG = {\n",
        "    'model_name': 'deeper_cnn_bn',\n",
        "    'batch_size': 32,\n",
        "    'learning_rate': 0.001,\n",
        "    'epochs': 40,  # More epochs since we expect slower convergence\n",
        "    'image_size': 48,\n",
        "    'num_classes': 7,\n",
        "    'random_seed': 42,\n",
        "    'weight_decay': 1e-4,  # L2 regularization\n",
        "    'dropout_rate': 0.5\n",
        "}\n",
        "\n",
        "# Set random seeds\n",
        "torch.manual_seed(CONFIG['random_seed'])\n",
        "np.random.seed(CONFIG['random_seed'])\n",
        "\n",
        "# Initialize wandb\n",
        "wandb.init(\n",
        "    project=\"facial-expression-recognition\",\n",
        "    name=f\"{CONFIG['model_name']}_{datetime.now().strftime('%Y%m%d_%H%M%S')}\",\n",
        "    config=CONFIG,\n",
        "    job_type=\"training\"\n",
        ")\n"
      ]
    },
    {
      "cell_type": "code",
      "execution_count": 7,
      "id": "26cebb44",
      "metadata": {
        "id": "26cebb44"
      },
      "outputs": [],
      "source": [
        "\n",
        "# Reuse dataset class from previous experiment\n",
        "class FERDataset(Dataset):\n",
        "    def __init__(self, dataframe, indices, transform=None):\n",
        "        self.data = dataframe.iloc[indices].reset_index(drop=True)\n",
        "        self.transform = transform\n",
        "\n",
        "    def __len__(self):\n",
        "        return len(self.data)\n",
        "\n",
        "    def __getitem__(self, idx):\n",
        "        pixels = self.data.iloc[idx]['pixels']\n",
        "        image = np.array(pixels.split(), dtype=np.uint8).reshape(48, 48)\n",
        "        image = image.astype(np.float32) / 255.0\n",
        "        image = torch.from_numpy(image).unsqueeze(0)\n",
        "\n",
        "        if self.transform:\n",
        "            image = self.transform(image)\n",
        "\n",
        "        label = int(self.data.iloc[idx]['emotion'])\n",
        "        return image, label\n"
      ]
    },
    {
      "cell_type": "markdown",
      "id": "JKJXrf6GzJ6B",
      "metadata": {
        "id": "JKJXrf6GzJ6B"
      },
      "source": [
        "## Deeper CNN + Batch Normalization"
      ]
    },
    {
      "cell_type": "code",
      "execution_count": 8,
      "id": "dee2cb51",
      "metadata": {
        "id": "dee2cb51"
      },
      "outputs": [],
      "source": [
        "\n",
        "# Define Deeper CNN with Batch Normalization\n",
        "class DeeperCNN(nn.Module):\n",
        "    def __init__(self, num_classes=7, dropout_rate=0.5):\n",
        "        super(DeeperCNN, self).__init__()\n",
        "\n",
        "        # First conv block\n",
        "        self.conv1 = nn.Conv2d(1, 32, kernel_size=3, padding=1)\n",
        "        self.bn1 = nn.BatchNorm2d(32)\n",
        "        self.conv2 = nn.Conv2d(32, 32, kernel_size=3, padding=1)\n",
        "        self.bn2 = nn.BatchNorm2d(32)\n",
        "\n",
        "        # Second conv block\n",
        "        self.conv3 = nn.Conv2d(32, 64, kernel_size=3, padding=1)\n",
        "        self.bn3 = nn.BatchNorm2d(64)\n",
        "        self.conv4 = nn.Conv2d(64, 64, kernel_size=3, padding=1)\n",
        "        self.bn4 = nn.BatchNorm2d(64)\n",
        "\n",
        "        # Third conv block\n",
        "        self.conv5 = nn.Conv2d(64, 128, kernel_size=3, padding=1)\n",
        "        self.bn5 = nn.BatchNorm2d(128)\n",
        "        self.conv6 = nn.Conv2d(128, 128, kernel_size=3, padding=1)\n",
        "        self.bn6 = nn.BatchNorm2d(128)\n",
        "\n",
        "        # Fourth conv block\n",
        "        self.conv7 = nn.Conv2d(128, 256, kernel_size=3, padding=1)\n",
        "        self.bn7 = nn.BatchNorm2d(256)\n",
        "\n",
        "        self.pool = nn.MaxPool2d(2, 2)\n",
        "        self.adaptive_pool = nn.AdaptiveAvgPool2d((1, 1))  # Global average pooling\n",
        "        self.dropout = nn.Dropout(dropout_rate)\n",
        "\n",
        "        # Fully connected layers\n",
        "        self.fc1 = nn.Linear(256, 512)\n",
        "        self.bn_fc1 = nn.BatchNorm1d(512)\n",
        "        self.fc2 = nn.Linear(512, 256)\n",
        "        self.bn_fc2 = nn.BatchNorm1d(256)\n",
        "        self.fc3 = nn.Linear(256, num_classes)\n",
        "\n",
        "    def forward(self, x):\n",
        "        # Block 1: 48x48 -> 24x24\n",
        "        x = F.relu(self.bn1(self.conv1(x)))\n",
        "        x = F.relu(self.bn2(self.conv2(x)))\n",
        "        x = self.pool(x)\n",
        "\n",
        "        # Block 2: 24x24 -> 12x12\n",
        "        x = F.relu(self.bn3(self.conv3(x)))\n",
        "        x = F.relu(self.bn4(self.conv4(x)))\n",
        "        x = self.pool(x)\n",
        "\n",
        "        # Block 3: 12x12 -> 6x6\n",
        "        x = F.relu(self.bn5(self.conv5(x)))\n",
        "        x = F.relu(self.bn6(self.conv6(x)))\n",
        "        x = self.pool(x)\n",
        "\n",
        "        # Block 4: 6x6 -> 3x3\n",
        "        x = F.relu(self.bn7(self.conv7(x)))\n",
        "        x = self.pool(x)\n",
        "\n",
        "        # Global average pooling: 3x3 -> 1x1\n",
        "        x = self.adaptive_pool(x)\n",
        "        x = x.view(x.size(0), -1)\n",
        "\n",
        "        # Fully connected layers\n",
        "        x = F.relu(self.bn_fc1(self.fc1(x)))\n",
        "        x = self.dropout(x)\n",
        "        x = F.relu(self.bn_fc2(self.fc2(x)))\n",
        "        x = self.dropout(x)\n",
        "        x = self.fc3(x)\n",
        "\n",
        "        return x\n"
      ]
    },
    {
      "cell_type": "markdown",
      "id": "UgNpZIDezT3k",
      "metadata": {
        "id": "UgNpZIDezT3k"
      },
      "source": [
        "## Load Data"
      ]
    },
    {
      "cell_type": "code",
      "execution_count": 10,
      "id": "8c5be33b",
      "metadata": {
        "colab": {
          "base_uri": "https://localhost:8080/"
        },
        "id": "8c5be33b",
        "outputId": "8adfd87e-feea-4520-8a5b-0d7c4e1c7fd2"
      },
      "outputs": [
        {
          "name": "stdout",
          "output_type": "stream",
          "text": [
            "Loading data...\n",
            "Training samples: 22967\n",
            "Validation samples: 5742\n"
          ]
        }
      ],
      "source": [
        "from sklearn.model_selection import train_test_split\n",
        "print(\"Loading data...\")\n",
        "train_df = pd.read_csv('train.csv')\n",
        "train_indices, val_indices = train_test_split(\n",
        "    range(len(train_df)),\n",
        "    test_size=0.2,\n",
        "    stratify=train_df['emotion'],\n",
        "    random_state=42\n",
        ")\n",
        "\n",
        "# Create datasets with same transforms as baseline for fair comparison\n",
        "train_transform = transforms.Compose([\n",
        "    transforms.Normalize(mean=[0.5], std=[0.5])\n",
        "])\n",
        "\n",
        "val_transform = transforms.Compose([\n",
        "    transforms.Normalize(mean=[0.5], std=[0.5])\n",
        "])\n",
        "\n",
        "train_dataset = FERDataset(train_df, train_indices, transform=train_transform)\n",
        "val_dataset = FERDataset(train_df, val_indices, transform=val_transform)\n",
        "\n",
        "train_loader = DataLoader(train_dataset, batch_size=CONFIG['batch_size'], shuffle=True, num_workers=2)\n",
        "val_loader = DataLoader(val_dataset, batch_size=CONFIG['batch_size'], shuffle=False, num_workers=2)\n",
        "\n",
        "print(f\"Training samples: {len(train_dataset)}\")\n",
        "print(f\"Validation samples: {len(val_dataset)}\")\n"
      ]
    },
    {
      "cell_type": "markdown",
      "id": "d81bfcb2",
      "metadata": {
        "id": "d81bfcb2"
      },
      "source": [
        "# Training"
      ]
    },
    {
      "cell_type": "markdown",
      "id": "c0ab1bf4",
      "metadata": {
        "id": "c0ab1bf4"
      },
      "source": [
        "## Initialize model"
      ]
    },
    {
      "cell_type": "code",
      "execution_count": 11,
      "id": "40caed6f",
      "metadata": {
        "colab": {
          "base_uri": "https://localhost:8080/"
        },
        "id": "40caed6f",
        "outputId": "954fcd22-ba3c-4679-f05c-f2e4d0256d09"
      },
      "outputs": [
        {
          "name": "stdout",
          "output_type": "stream",
          "text": [
            "Model Parameters: 849,255 total, 849,255 trainable\n",
            "Parameter increase vs Simple CNN: ~47.2x\n",
            "Class weights: [1.02659574 9.40114613 1.00122063 0.56843382 0.84912008 1.29325976\n",
            " 0.82603223]\n"
          ]
        }
      ],
      "source": [
        "\n",
        "# Initialize model\n",
        "model = DeeperCNN(num_classes=CONFIG['num_classes'], dropout_rate=CONFIG['dropout_rate']).to(device)\n",
        "\n",
        "# Count parameters\n",
        "total_params = sum(p.numel() for p in model.parameters())\n",
        "trainable_params = sum(p.numel() for p in model.parameters() if p.requires_grad)\n",
        "\n",
        "print(f\"Model Parameters: {total_params:,} total, {trainable_params:,} trainable\")\n",
        "print(f\"Parameter increase vs Simple CNN: ~{total_params/18000:.1f}x\")  # Approximate simple CNN params\n",
        "\n",
        "# Calculate class weights for balanced loss\n",
        "train_labels = [train_df.iloc[i]['emotion'] for i in train_indices]\n",
        "class_counts = np.bincount(train_labels)\n",
        "class_weights = len(train_labels) / (len(class_counts) * class_counts)\n",
        "class_weights_tensor = torch.FloatTensor(class_weights).to(device)\n",
        "\n",
        "print(f\"Class weights: {class_weights}\")\n"
      ]
    },
    {
      "cell_type": "markdown",
      "id": "ed701db5",
      "metadata": {
        "id": "ed701db5"
      },
      "source": [
        "## Loss and optimizer"
      ]
    },
    {
      "cell_type": "code",
      "execution_count": 12,
      "id": "423a867f",
      "metadata": {
        "colab": {
          "base_uri": "https://localhost:8080/"
        },
        "id": "423a867f",
        "outputId": "ed4fe4aa-5015-4688-d6b1-00c2922080fc"
      },
      "outputs": [
        {
          "name": "stderr",
          "output_type": "stream",
          "text": [
            "/usr/local/lib/python3.11/dist-packages/torch/optim/lr_scheduler.py:62: UserWarning: The verbose parameter is deprecated. Please use get_last_lr() to access the learning rate.\n",
            "  warnings.warn(\n"
          ]
        }
      ],
      "source": [
        "\n",
        "# Define loss and optimizer with weight decay\n",
        "criterion = nn.CrossEntropyLoss(weight=class_weights_tensor)\n",
        "optimizer = optim.Adam(model.parameters(), lr=CONFIG['learning_rate'], weight_decay=CONFIG['weight_decay'])\n",
        "\n",
        "# Learning rate scheduler\n",
        "scheduler = optim.lr_scheduler.ReduceLROnPlateau(optimizer, mode='max', factor=0.5, patience=5, verbose=True)\n",
        "\n",
        "# Log model info\n",
        "wandb.log({\n",
        "    \"model_parameters\": total_params,\n",
        "    \"trainable_parameters\": trainable_params,\n",
        "    \"class_weights\": class_weights.tolist()\n",
        "})\n"
      ]
    },
    {
      "cell_type": "code",
      "execution_count": 13,
      "id": "879c9631",
      "metadata": {
        "id": "879c9631"
      },
      "outputs": [],
      "source": [
        "\n",
        "# Training function with gradient clipping\n",
        "def train_epoch(model, train_loader, criterion, optimizer, device):\n",
        "    model.train()\n",
        "    running_loss = 0.0\n",
        "    correct = 0\n",
        "    total = 0\n",
        "\n",
        "    for batch_idx, (data, target) in enumerate(train_loader):\n",
        "        data, target = data.to(device), target.to(device)\n",
        "\n",
        "        optimizer.zero_grad()\n",
        "        output = model(data)\n",
        "        loss = criterion(output, target)\n",
        "        loss.backward()\n",
        "\n",
        "        # Gradient clipping to prevent exploding gradients\n",
        "        torch.nn.utils.clip_grad_norm_(model.parameters(), max_norm=1.0)\n",
        "\n",
        "        optimizer.step()\n",
        "\n",
        "        running_loss += loss.item()\n",
        "        _, predicted = torch.max(output.data, 1)\n",
        "        total += target.size(0)\n",
        "        correct += (predicted == target).sum().item()\n",
        "\n",
        "        if batch_idx % 100 == 0:\n",
        "            print(f'Batch {batch_idx}/{len(train_loader)}, Loss: {loss.item():.4f}')\n",
        "\n",
        "    epoch_loss = running_loss / len(train_loader)\n",
        "    epoch_acc = 100.0 * correct / total\n",
        "\n",
        "    return epoch_loss, epoch_acc\n"
      ]
    },
    {
      "cell_type": "code",
      "execution_count": 14,
      "id": "cf73fdbc",
      "metadata": {
        "id": "cf73fdbc"
      },
      "outputs": [],
      "source": [
        "\n",
        "# Validation function (same as before)\n",
        "def validate_epoch(model, val_loader, criterion, device):\n",
        "    model.eval()\n",
        "    running_loss = 0.0\n",
        "    correct = 0\n",
        "    total = 0\n",
        "    all_preds = []\n",
        "    all_targets = []\n",
        "\n",
        "    with torch.no_grad():\n",
        "        for data, target in val_loader:\n",
        "            data, target = data.to(device), target.to(device)\n",
        "            output = model(data)\n",
        "            loss = criterion(output, target)\n",
        "\n",
        "            running_loss += loss.item()\n",
        "            _, predicted = torch.max(output.data, 1)\n",
        "            total += target.size(0)\n",
        "            correct += (predicted == target).sum().item()\n",
        "\n",
        "            all_preds.extend(predicted.cpu().numpy())\n",
        "            all_targets.extend(target.cpu().numpy())\n",
        "\n",
        "    epoch_loss = running_loss / len(val_loader)\n",
        "    epoch_acc = 100.0 * correct / total\n",
        "\n",
        "    return epoch_loss, epoch_acc, all_preds, all_targets\n"
      ]
    },
    {
      "cell_type": "markdown",
      "id": "ef3934da",
      "metadata": {
        "id": "ef3934da"
      },
      "source": [
        "## Training Loop"
      ]
    },
    {
      "cell_type": "code",
      "execution_count": 15,
      "id": "d9131a0c",
      "metadata": {
        "colab": {
          "base_uri": "https://localhost:8080/"
        },
        "id": "d9131a0c",
        "outputId": "563ad5b8-eb45-48d7-d41d-37f60f537409"
      },
      "outputs": [
        {
          "name": "stdout",
          "output_type": "stream",
          "text": [
            "\n",
            "Starting training...\n",
            "Batch 0/718, Loss: 1.8767\n",
            "Batch 100/718, Loss: 1.9606\n",
            "Batch 200/718, Loss: 1.9283\n",
            "Batch 300/718, Loss: 2.7001\n",
            "Batch 400/718, Loss: 1.9152\n",
            "Batch 500/718, Loss: 1.7571\n",
            "Batch 600/718, Loss: 1.7600\n",
            "Batch 700/718, Loss: 1.6193\n",
            "Epoch [1/40]\n",
            "Train Loss: 1.9421, Train Acc: 20.99%\n",
            "Val Loss: 1.8234, Val Acc: 27.27%\n",
            "LR: 0.001000, Time: 32.82s\n",
            "------------------------------------------------------------\n",
            "New best validation accuracy: 27.27%\n",
            "Batch 0/718, Loss: 1.9963\n",
            "Batch 100/718, Loss: 1.9839\n",
            "Batch 200/718, Loss: 1.9210\n",
            "Batch 300/718, Loss: 1.7288\n",
            "Batch 400/718, Loss: 1.6733\n",
            "Batch 500/718, Loss: 1.5107\n",
            "Batch 600/718, Loss: 1.4846\n",
            "Batch 700/718, Loss: 1.9752\n",
            "Epoch [2/40]\n",
            "Train Loss: 1.6772, Train Acc: 37.15%\n",
            "Val Loss: 1.5662, Val Acc: 41.12%\n",
            "LR: 0.001000, Time: 25.05s\n",
            "------------------------------------------------------------\n",
            "New best validation accuracy: 41.12%\n",
            "Batch 0/718, Loss: 1.6248\n",
            "Batch 100/718, Loss: 1.4944\n",
            "Batch 200/718, Loss: 1.1706\n",
            "Batch 300/718, Loss: 2.3648\n",
            "Batch 400/718, Loss: 1.2555\n",
            "Batch 500/718, Loss: 1.5251\n",
            "Batch 600/718, Loss: 1.0842\n",
            "Batch 700/718, Loss: 1.3556\n",
            "Epoch [3/40]\n",
            "Train Loss: 1.4822, Train Acc: 45.40%\n",
            "Val Loss: 1.4201, Val Acc: 49.49%\n",
            "LR: 0.001000, Time: 27.17s\n",
            "------------------------------------------------------------\n",
            "New best validation accuracy: 49.49%\n",
            "Batch 0/718, Loss: 1.3122\n",
            "Batch 100/718, Loss: 1.3406\n",
            "Batch 200/718, Loss: 0.9594\n",
            "Batch 300/718, Loss: 1.1048\n",
            "Batch 400/718, Loss: 2.1368\n",
            "Batch 500/718, Loss: 1.3258\n",
            "Batch 600/718, Loss: 2.0549\n",
            "Batch 700/718, Loss: 1.2938\n",
            "Epoch [4/40]\n",
            "Train Loss: 1.3773, Train Acc: 50.04%\n",
            "Val Loss: 1.3692, Val Acc: 52.40%\n",
            "LR: 0.001000, Time: 29.52s\n",
            "------------------------------------------------------------\n",
            "New best validation accuracy: 52.40%\n",
            "Batch 0/718, Loss: 1.1275\n",
            "Batch 100/718, Loss: 1.2460\n",
            "Batch 200/718, Loss: 0.9830\n",
            "Batch 300/718, Loss: 1.0161\n",
            "Batch 400/718, Loss: 1.0326\n",
            "Batch 500/718, Loss: 1.1414\n",
            "Batch 600/718, Loss: 1.1240\n",
            "Batch 700/718, Loss: 1.1858\n",
            "Epoch [5/40]\n",
            "Train Loss: 1.3065, Train Acc: 52.58%\n",
            "Val Loss: 1.3060, Val Acc: 53.38%\n",
            "LR: 0.001000, Time: 26.76s\n",
            "------------------------------------------------------------\n",
            "New best validation accuracy: 53.38%\n",
            "Batch 0/718, Loss: 0.8543\n",
            "Batch 100/718, Loss: 0.9801\n",
            "Batch 200/718, Loss: 1.7097\n",
            "Batch 300/718, Loss: 1.2452\n",
            "Batch 400/718, Loss: 1.5272\n",
            "Batch 500/718, Loss: 1.8685\n",
            "Batch 600/718, Loss: 1.6764\n",
            "Batch 700/718, Loss: 1.0412\n",
            "Epoch [6/40]\n",
            "Train Loss: 1.2423, Train Acc: 54.43%\n",
            "Val Loss: 1.2563, Val Acc: 54.27%\n",
            "LR: 0.001000, Time: 26.82s\n",
            "------------------------------------------------------------\n",
            "New best validation accuracy: 54.27%\n",
            "Batch 0/718, Loss: 0.8491\n",
            "Batch 100/718, Loss: 1.7807\n",
            "Batch 200/718, Loss: 1.1678\n",
            "Batch 300/718, Loss: 2.7687\n",
            "Batch 400/718, Loss: 0.9257\n",
            "Batch 500/718, Loss: 0.9801\n",
            "Batch 600/718, Loss: 0.8234\n",
            "Batch 700/718, Loss: 0.9063\n",
            "Epoch [7/40]\n",
            "Train Loss: 1.1679, Train Acc: 57.37%\n",
            "Val Loss: 1.2412, Val Acc: 57.77%\n",
            "LR: 0.001000, Time: 26.75s\n",
            "------------------------------------------------------------\n",
            "New best validation accuracy: 57.77%\n",
            "Batch 0/718, Loss: 2.0676\n",
            "Batch 100/718, Loss: 1.1314\n",
            "Batch 200/718, Loss: 1.3238\n",
            "Batch 300/718, Loss: 0.9711\n",
            "Batch 400/718, Loss: 1.2246\n",
            "Batch 500/718, Loss: 1.0422\n",
            "Batch 600/718, Loss: 1.4002\n",
            "Batch 700/718, Loss: 1.2378\n",
            "Epoch [8/40]\n",
            "Train Loss: 1.1112, Train Acc: 59.30%\n",
            "Val Loss: 1.4149, Val Acc: 53.99%\n",
            "LR: 0.001000, Time: 24.44s\n",
            "------------------------------------------------------------\n",
            "Batch 0/718, Loss: 0.6624\n",
            "Batch 100/718, Loss: 1.4609\n",
            "Batch 200/718, Loss: 1.0523\n",
            "Batch 300/718, Loss: 1.2978\n",
            "Batch 400/718, Loss: 1.1479\n",
            "Batch 500/718, Loss: 0.9113\n",
            "Batch 600/718, Loss: 1.2313\n",
            "Batch 700/718, Loss: 0.9196\n",
            "Epoch [9/40]\n",
            "Train Loss: 1.0529, Train Acc: 61.16%\n",
            "Val Loss: 1.1508, Val Acc: 59.49%\n",
            "LR: 0.001000, Time: 26.78s\n",
            "------------------------------------------------------------\n",
            "New best validation accuracy: 59.49%\n",
            "Batch 0/718, Loss: 0.9077\n",
            "Batch 100/718, Loss: 1.2442\n",
            "Batch 200/718, Loss: 0.9253\n",
            "Batch 300/718, Loss: 2.4922\n",
            "Batch 400/718, Loss: 1.0275\n",
            "Batch 500/718, Loss: 0.8414\n",
            "Batch 600/718, Loss: 1.0831\n",
            "Batch 700/718, Loss: 1.0270\n",
            "Epoch [10/40]\n",
            "Train Loss: 0.9758, Train Acc: 62.96%\n",
            "Val Loss: 1.2723, Val Acc: 60.29%\n",
            "LR: 0.001000, Time: 27.12s\n",
            "------------------------------------------------------------\n",
            "New best validation accuracy: 60.29%\n",
            "Batch 0/718, Loss: 0.8360\n",
            "Batch 100/718, Loss: 1.0217\n",
            "Batch 200/718, Loss: 0.6892\n",
            "Batch 300/718, Loss: 0.8235\n",
            "Batch 400/718, Loss: 1.0784\n",
            "Batch 500/718, Loss: 1.0102\n",
            "Batch 600/718, Loss: 1.0997\n",
            "Batch 700/718, Loss: 0.9910\n",
            "Epoch [11/40]\n",
            "Train Loss: 0.9287, Train Acc: 64.78%\n",
            "Val Loss: 1.3185, Val Acc: 60.41%\n",
            "LR: 0.001000, Time: 25.03s\n",
            "------------------------------------------------------------\n",
            "New best validation accuracy: 60.41%\n",
            "Batch 0/718, Loss: 1.1654\n",
            "Batch 100/718, Loss: 0.6537\n",
            "Batch 200/718, Loss: 0.8189\n",
            "Batch 300/718, Loss: 0.4951\n",
            "Batch 400/718, Loss: 0.5796\n",
            "Batch 500/718, Loss: 1.1774\n",
            "Batch 600/718, Loss: 2.4061\n",
            "Batch 700/718, Loss: 0.7868\n",
            "Epoch [12/40]\n",
            "Train Loss: 0.8628, Train Acc: 67.21%\n",
            "Val Loss: 1.2796, Val Acc: 55.17%\n",
            "LR: 0.001000, Time: 26.83s\n",
            "------------------------------------------------------------\n",
            "Batch 0/718, Loss: 0.5972\n",
            "Batch 100/718, Loss: 0.7074\n",
            "Batch 200/718, Loss: 0.5636\n",
            "Batch 300/718, Loss: 1.2201\n",
            "Batch 400/718, Loss: 0.8857\n",
            "Batch 500/718, Loss: 0.7027\n",
            "Batch 600/718, Loss: 0.9903\n",
            "Batch 700/718, Loss: 0.5378\n",
            "Epoch [13/40]\n",
            "Train Loss: 0.8172, Train Acc: 68.86%\n",
            "Val Loss: 1.2756, Val Acc: 60.12%\n",
            "LR: 0.001000, Time: 26.73s\n",
            "------------------------------------------------------------\n",
            "Batch 0/718, Loss: 0.6917\n",
            "Batch 100/718, Loss: 0.5104\n",
            "Batch 200/718, Loss: 0.4796\n",
            "Batch 300/718, Loss: 0.5645\n",
            "Batch 400/718, Loss: 0.7594\n",
            "Batch 500/718, Loss: 0.5725\n",
            "Batch 600/718, Loss: 0.6297\n",
            "Batch 700/718, Loss: 0.6408\n",
            "Epoch [14/40]\n",
            "Train Loss: 0.7567, Train Acc: 71.26%\n",
            "Val Loss: 1.2628, Val Acc: 61.79%\n",
            "LR: 0.001000, Time: 27.66s\n",
            "------------------------------------------------------------\n",
            "New best validation accuracy: 61.79%\n",
            "Batch 0/718, Loss: 0.4586\n",
            "Batch 100/718, Loss: 0.6288\n",
            "Batch 200/718, Loss: 0.6716\n",
            "Batch 300/718, Loss: 0.9135\n",
            "Batch 400/718, Loss: 0.8539\n",
            "Batch 500/718, Loss: 0.5116\n",
            "Batch 600/718, Loss: 1.3365\n",
            "Batch 700/718, Loss: 0.8846\n",
            "Epoch [15/40]\n",
            "Train Loss: 0.6992, Train Acc: 73.52%\n",
            "Val Loss: 1.4659, Val Acc: 59.46%\n",
            "LR: 0.001000, Time: 26.93s\n",
            "------------------------------------------------------------\n",
            "Batch 0/718, Loss: 0.8690\n",
            "Batch 100/718, Loss: 0.5665\n",
            "Batch 200/718, Loss: 0.4070\n",
            "Batch 300/718, Loss: 0.8822\n",
            "Batch 400/718, Loss: 0.7329\n",
            "Batch 500/718, Loss: 0.7333\n",
            "Batch 600/718, Loss: 0.6102\n",
            "Batch 700/718, Loss: 0.9222\n",
            "Epoch [16/40]\n",
            "Train Loss: 0.6451, Train Acc: 75.53%\n",
            "Val Loss: 1.5176, Val Acc: 60.19%\n",
            "LR: 0.001000, Time: 27.57s\n",
            "------------------------------------------------------------\n",
            "Batch 0/718, Loss: 0.3935\n",
            "Batch 100/718, Loss: 0.3985\n",
            "Batch 200/718, Loss: 1.1123\n",
            "Batch 300/718, Loss: 0.4807\n",
            "Batch 400/718, Loss: 0.4269\n",
            "Batch 500/718, Loss: 0.3651\n",
            "Batch 600/718, Loss: 0.9428\n",
            "Batch 700/718, Loss: 0.3926\n",
            "Epoch [17/40]\n",
            "Train Loss: 0.6058, Train Acc: 77.55%\n",
            "Val Loss: 1.5901, Val Acc: 56.65%\n",
            "LR: 0.001000, Time: 27.10s\n",
            "------------------------------------------------------------\n",
            "Batch 0/718, Loss: 0.2837\n",
            "Batch 100/718, Loss: 0.6076\n",
            "Batch 200/718, Loss: 0.4301\n",
            "Batch 300/718, Loss: 0.6409\n",
            "Batch 400/718, Loss: 0.6238\n",
            "Batch 500/718, Loss: 0.6476\n",
            "Batch 600/718, Loss: 0.4372\n",
            "Batch 700/718, Loss: 0.4109\n",
            "Epoch [18/40]\n",
            "Train Loss: 0.5434, Train Acc: 79.44%\n",
            "Val Loss: 1.5998, Val Acc: 54.74%\n",
            "LR: 0.001000, Time: 24.87s\n",
            "------------------------------------------------------------\n",
            "Batch 0/718, Loss: 0.5244\n",
            "Batch 100/718, Loss: 0.5482\n",
            "Batch 200/718, Loss: 0.1947\n",
            "Batch 300/718, Loss: 0.4511\n",
            "Batch 400/718, Loss: 1.1776\n",
            "Batch 500/718, Loss: 0.4752\n",
            "Batch 600/718, Loss: 0.3689\n",
            "Batch 700/718, Loss: 0.7807\n",
            "Epoch [19/40]\n",
            "Train Loss: 0.5053, Train Acc: 80.77%\n",
            "Val Loss: 1.5871, Val Acc: 56.51%\n",
            "LR: 0.001000, Time: 26.71s\n",
            "------------------------------------------------------------\n",
            "Batch 0/718, Loss: 0.7165\n",
            "Batch 100/718, Loss: 0.3388\n",
            "Batch 200/718, Loss: 0.2762\n",
            "Batch 300/718, Loss: 0.7238\n",
            "Batch 400/718, Loss: 0.8404\n",
            "Batch 500/718, Loss: 0.2922\n",
            "Batch 600/718, Loss: 0.5850\n",
            "Batch 700/718, Loss: 0.5868\n",
            "Epoch [20/40]\n",
            "Train Loss: 0.4832, Train Acc: 82.06%\n",
            "Val Loss: 1.7201, Val Acc: 60.33%\n",
            "LR: 0.000500, Time: 26.18s\n",
            "------------------------------------------------------------\n",
            "Batch 0/718, Loss: 0.3847\n",
            "Batch 100/718, Loss: 0.3258\n",
            "Batch 200/718, Loss: 0.1632\n",
            "Batch 300/718, Loss: 0.2341\n",
            "Batch 400/718, Loss: 0.1988\n",
            "Batch 500/718, Loss: 0.1741\n",
            "Batch 600/718, Loss: 0.3739\n",
            "Batch 700/718, Loss: 0.3418\n",
            "Epoch [21/40]\n",
            "Train Loss: 0.2949, Train Acc: 89.56%\n",
            "Val Loss: 1.8453, Val Acc: 61.09%\n",
            "LR: 0.000500, Time: 24.89s\n",
            "------------------------------------------------------------\n",
            "Batch 0/718, Loss: 0.1135\n",
            "Batch 100/718, Loss: 0.1272\n",
            "Batch 200/718, Loss: 0.0748\n",
            "Batch 300/718, Loss: 0.0788\n",
            "Batch 400/718, Loss: 0.0823\n",
            "Batch 500/718, Loss: 0.0548\n",
            "Batch 600/718, Loss: 0.4141\n",
            "Batch 700/718, Loss: 0.3214\n",
            "Epoch [22/40]\n",
            "Train Loss: 0.2118, Train Acc: 92.25%\n",
            "Val Loss: 1.9246, Val Acc: 60.48%\n",
            "LR: 0.000500, Time: 26.20s\n",
            "------------------------------------------------------------\n",
            "Batch 0/718, Loss: 0.1201\n",
            "Batch 100/718, Loss: 0.0366\n",
            "Batch 200/718, Loss: 0.1744\n",
            "Batch 300/718, Loss: 0.0980\n",
            "Batch 400/718, Loss: 0.0594\n",
            "Batch 500/718, Loss: 0.2098\n",
            "Batch 600/718, Loss: 0.2051\n",
            "Batch 700/718, Loss: 0.0921\n",
            "Epoch [23/40]\n",
            "Train Loss: 0.1825, Train Acc: 93.29%\n",
            "Val Loss: 2.1928, Val Acc: 58.15%\n",
            "LR: 0.000500, Time: 28.65s\n",
            "------------------------------------------------------------\n",
            "Batch 0/718, Loss: 0.1213\n",
            "Batch 100/718, Loss: 0.1654\n",
            "Batch 200/718, Loss: 0.0594\n",
            "Batch 300/718, Loss: 0.1832\n",
            "Batch 400/718, Loss: 0.0592\n",
            "Batch 500/718, Loss: 0.0783\n",
            "Batch 600/718, Loss: 0.1167\n",
            "Batch 700/718, Loss: 0.0781\n",
            "Epoch [24/40]\n",
            "Train Loss: 0.1689, Train Acc: 93.93%\n",
            "Val Loss: 2.3061, Val Acc: 57.72%\n",
            "LR: 0.000500, Time: 24.08s\n",
            "------------------------------------------------------------\n",
            "Early stopping at epoch 24\n",
            "\n",
            "Training completed in 642.88s (24 epochs)\n",
            "Best validation accuracy: 61.79%\n"
          ]
        }
      ],
      "source": [
        "\n",
        "print(\"\\nStarting training...\")\n",
        "train_losses, train_accs = [], []\n",
        "val_losses, val_accs = [], []\n",
        "learning_rates = []\n",
        "best_val_acc = 0.0\n",
        "patience_counter = 0\n",
        "early_stop_patience = 10\n",
        "\n",
        "start_time = time.time()\n",
        "\n",
        "for epoch in range(CONFIG['epochs']):\n",
        "    epoch_start = time.time()\n",
        "\n",
        "    # Train\n",
        "    train_loss, train_acc = train_epoch(model, train_loader, criterion, optimizer, device)\n",
        "\n",
        "    # Validate\n",
        "    val_loss, val_acc, val_preds, val_targets = validate_epoch(model, val_loader, criterion, device)\n",
        "\n",
        "    # Update learning rate\n",
        "    scheduler.step(val_acc)\n",
        "    current_lr = optimizer.param_groups[0]['lr']\n",
        "\n",
        "    # Store metrics\n",
        "    train_losses.append(train_loss)\n",
        "    train_accs.append(train_acc)\n",
        "    val_losses.append(val_loss)\n",
        "    val_accs.append(val_acc)\n",
        "    learning_rates.append(current_lr)\n",
        "\n",
        "    epoch_time = time.time() - epoch_start\n",
        "\n",
        "    # Log to wandb\n",
        "    wandb.log({\n",
        "        'epoch': epoch + 1,\n",
        "        'train_loss': train_loss,\n",
        "        'train_accuracy': train_acc,\n",
        "        'val_loss': val_loss,\n",
        "        'val_accuracy': val_acc,\n",
        "        'epoch_time': epoch_time,\n",
        "        'learning_rate': current_lr\n",
        "    })\n",
        "\n",
        "    print(f'Epoch [{epoch+1}/{CONFIG[\"epochs\"]}]')\n",
        "    print(f'Train Loss: {train_loss:.4f}, Train Acc: {train_acc:.2f}%')\n",
        "    print(f'Val Loss: {val_loss:.4f}, Val Acc: {val_acc:.2f}%')\n",
        "    print(f'LR: {current_lr:.6f}, Time: {epoch_time:.2f}s')\n",
        "    print('-' * 60)\n",
        "\n",
        "    # Save best model and early stopping\n",
        "    if val_acc > best_val_acc:\n",
        "        best_val_acc = val_acc\n",
        "        torch.save(model.state_dict(), 'deeper_cnn_best.pth')\n",
        "        print(f'New best validation accuracy: {best_val_acc:.2f}%')\n",
        "        patience_counter = 0\n",
        "    else:\n",
        "        patience_counter += 1\n",
        "\n",
        "    # Early stopping\n",
        "    if patience_counter >= early_stop_patience:\n",
        "        print(f'Early stopping at epoch {epoch+1}')\n",
        "        break\n",
        "\n",
        "total_time = time.time() - start_time\n",
        "actual_epochs = epoch + 1\n",
        "\n",
        "print(f'\\nTraining completed in {total_time:.2f}s ({actual_epochs} epochs)')\n",
        "print(f'Best validation accuracy: {best_val_acc:.2f}%')\n"
      ]
    },
    {
      "cell_type": "markdown",
      "id": "a65b2b39",
      "metadata": {
        "id": "a65b2b39"
      },
      "source": [
        "## Visualize Training process"
      ]
    },
    {
      "cell_type": "code",
      "execution_count": 16,
      "id": "3c9ef55f",
      "metadata": {
        "colab": {
          "base_uri": "https://localhost:8080/",
          "height": 1000
        },
        "id": "3c9ef55f",
        "outputId": "a460cb98-e95d-4e50-d107-d59e2ec178f0"
      },
      "outputs": [
        {
          "data": {
            "image/png": "[encoded data removed]",
            "text/plain": [
              "<Figure size 1500x1200 with 4 Axes>"
            ]
          },
          "metadata": {},
          "output_type": "display_data"
        }
      ],
      "source": [
        "\n",
        "# Comprehensive training visualization\n",
        "fig, axes = plt.subplots(2, 2, figsize=(15, 12))\n",
        "\n",
        "# Loss curves\n",
        "axes[0,0].plot(train_losses, label='Train Loss', color='blue', alpha=0.7)\n",
        "axes[0,0].plot(val_losses, label='Val Loss', color='red', alpha=0.7)\n",
        "axes[0,0].set_xlabel('Epoch')\n",
        "axes[0,0].set_ylabel('Loss')\n",
        "axes[0,0].set_title('Training and Validation Loss')\n",
        "axes[0,0].legend()\n",
        "axes[0,0].grid(True, alpha=0.3)\n",
        "\n",
        "# Accuracy curves\n",
        "axes[0,1].plot(train_accs, label='Train Acc', color='blue', alpha=0.7)\n",
        "axes[0,1].plot(val_accs, label='Val Acc', color='red', alpha=0.7)\n",
        "axes[0,1].set_xlabel('Epoch')\n",
        "axes[0,1].set_ylabel('Accuracy (%)')\n",
        "axes[0,1].set_title('Training and Validation Accuracy')\n",
        "axes[0,1].legend()\n",
        "axes[0,1].grid(True, alpha=0.3)\n",
        "\n",
        "# Overfitting indicator\n",
        "acc_gap = np.array(train_accs) - np.array(val_accs)\n",
        "axes[1,0].plot(acc_gap, label='Train - Val Accuracy', color='green', alpha=0.7)\n",
        "axes[1,0].axhline(y=0, color='black', linestyle='--', alpha=0.5)\n",
        "axes[1,0].axhline(y=10, color='red', linestyle='--', alpha=0.5, label='Overfitting Threshold')\n",
        "axes[1,0].set_xlabel('Epoch')\n",
        "axes[1,0].set_ylabel('Accuracy Gap (%)')\n",
        "axes[1,0].set_title('Overfitting Indicator')\n",
        "axes[1,0].legend()\n",
        "axes[1,0].grid(True, alpha=0.3)\n",
        "\n",
        "# Learning rate schedule\n",
        "axes[1,1].plot(learning_rates, label='Learning Rate', color='orange', alpha=0.7)\n",
        "axes[1,1].set_xlabel('Epoch')\n",
        "axes[1,1].set_ylabel('Learning Rate')\n",
        "axes[1,1].set_title('Learning Rate Schedule')\n",
        "axes[1,1].set_yscale('log')\n",
        "axes[1,1].legend()\n",
        "axes[1,1].grid(True, alpha=0.3)\n",
        "\n",
        "plt.tight_layout()\n",
        "plt.savefig('deeper_cnn_training_analysis.png', dpi=300, bbox_inches='tight')\n",
        "plt.show()\n"
      ]
    },
    {
      "cell_type": "code",
      "execution_count": null,
      "id": "e058cc10",
      "metadata": {
        "id": "e058cc10"
      },
      "outputs": [],
      "source": [
        "\n",
        "# Load best model for evaluation\n",
        "model.load_state_dict(torch.load('deeper_cnn_best.pth'))\n",
        "final_val_loss, final_val_acc, final_preds, final_targets = validate_epoch(\n",
        "    model, val_loader, criterion, device\n",
        ")\n",
        "\n",
        "print(f'Final validation accuracy: {final_val_acc:.2f}%')"
      ]
    },
    {
      "cell_type": "markdown",
      "id": "9f8be0a3",
      "metadata": {
        "id": "9f8be0a3"
      },
      "source": [
        "# Detailed analysis"
      ]
    },
    {
      "cell_type": "code",
      "execution_count": 17,
      "id": "2602953d",
      "metadata": {
        "colab": {
          "base_uri": "https://localhost:8080/",
          "height": 211
        },
        "id": "2602953d",
        "outputId": "aa9f91fd-7b45-4feb-8857-b3609bdae127"
      },
      "outputs": [
        {
          "ename": "NameError",
          "evalue": "name 'final_targets' is not defined",
          "output_type": "error",
          "traceback": [
            "\u001b[0;31m---------------------------------------------------------------------------\u001b[0m",
            "\u001b[0;31mNameError\u001b[0m                                 Traceback (most recent call last)",
            "\u001b[0;32m<ipython-input-17-056d6062e055>\u001b[0m in \u001b[0;36m<cell line: 0>\u001b[0;34m()\u001b[0m\n\u001b[1;32m      6\u001b[0m \u001b[0;34m\u001b[0m\u001b[0m\n\u001b[1;32m      7\u001b[0m \u001b[0mclass_names\u001b[0m \u001b[0;34m=\u001b[0m \u001b[0;34m[\u001b[0m\u001b[0mexpression_mapping\u001b[0m\u001b[0;34m[\u001b[0m\u001b[0mi\u001b[0m\u001b[0;34m]\u001b[0m \u001b[0;32mfor\u001b[0m \u001b[0mi\u001b[0m \u001b[0;32min\u001b[0m \u001b[0mrange\u001b[0m\u001b[0;34m(\u001b[0m\u001b[0;36m7\u001b[0m\u001b[0;34m)\u001b[0m\u001b[0;34m]\u001b[0m\u001b[0;34m\u001b[0m\u001b[0;34m\u001b[0m\u001b[0m\n\u001b[0;32m----> 8\u001b[0;31m \u001b[0mclass_report\u001b[0m \u001b[0;34m=\u001b[0m \u001b[0mclassification_report\u001b[0m\u001b[0;34m(\u001b[0m\u001b[0mfinal_targets\u001b[0m\u001b[0;34m,\u001b[0m \u001b[0mfinal_preds\u001b[0m\u001b[0;34m,\u001b[0m \u001b[0mtarget_names\u001b[0m\u001b[0;34m=\u001b[0m\u001b[0mclass_names\u001b[0m\u001b[0;34m,\u001b[0m \u001b[0moutput_dict\u001b[0m\u001b[0;34m=\u001b[0m\u001b[0;32mTrue\u001b[0m\u001b[0;34m)\u001b[0m\u001b[0;34m\u001b[0m\u001b[0;34m\u001b[0m\u001b[0m\n\u001b[0m\u001b[1;32m      9\u001b[0m \u001b[0;34m\u001b[0m\u001b[0m\n\u001b[1;32m     10\u001b[0m \u001b[0mprint\u001b[0m\u001b[0;34m(\u001b[0m\u001b[0;34m\"\\nClassification Report:\"\u001b[0m\u001b[0;34m)\u001b[0m\u001b[0;34m\u001b[0m\u001b[0;34m\u001b[0m\u001b[0m\n",
            "\u001b[0;31mNameError\u001b[0m: name 'final_targets' is not defined"
          ]
        }
      ],
      "source": [
        "\n",
        "# Detailed analysis\n",
        "expression_mapping = {\n",
        "    0: 'Angry', 1: 'Disgust', 2: 'Fear', 3: 'Happy',\n",
        "    4: 'Sad', 5: 'Surprise', 6: 'Neutral'\n",
        "}\n",
        "\n",
        "class_names = [expression_mapping[i] for i in range(7)]\n",
        "class_report = classification_report(final_targets, final_preds, target_names=class_names, output_dict=True)\n",
        "\n",
        "print(\"\\nClassification Report:\")\n",
        "print(classification_report(final_targets, final_preds, target_names=class_names))\n",
        "\n",
        "# Enhanced confusion matrix\n",
        "cm = confusion_matrix(final_targets, final_preds)\n",
        "plt.figure(figsize=(12, 10))\n",
        "\n",
        "# Create normalized confusion matrix\n",
        "cm_norm = cm.astype('float') / cm.sum(axis=1)[:, np.newaxis]\n",
        "\n",
        "# Plot both absolute and normalized\n",
        "fig, (ax1, ax2) = plt.subplots(1, 2, figsize=(20, 8))\n",
        "\n",
        "sns.heatmap(cm, annot=True, fmt='d', cmap='Blues',\n",
        "            xticklabels=class_names, yticklabels=class_names, ax=ax1)\n",
        "ax1.set_title('Confusion Matrix - Absolute Values')\n",
        "ax1.set_xlabel('Predicted')\n",
        "ax1.set_ylabel('Actual')\n",
        "\n",
        "sns.heatmap(cm_norm, annot=True, fmt='.2f', cmap='Blues',\n",
        "            xticklabels=class_names, yticklabels=class_names, ax=ax2)\n",
        "ax2.set_title('Confusion Matrix - Normalized')\n",
        "ax2.set_xlabel('Predicted')\n",
        "ax2.set_ylabel('Actual')\n",
        "\n",
        "plt.tight_layout()\n",
        "plt.savefig('deeper_cnn_confusion_matrices.png', dpi=300, bbox_inches='tight')\n",
        "plt.show()\n"
      ]
    },
    {
      "cell_type": "markdown",
      "id": "943699c8",
      "metadata": {
        "id": "943699c8"
      },
      "source": [
        "## Per-class performance analysis"
      ]
    },
    {
      "cell_type": "code",
      "execution_count": null,
      "id": "6a6c765b",
      "metadata": {
        "id": "6a6c765b"
      },
      "outputs": [],
      "source": [
        "per_class_acc = []\n",
        "per_class_precision = []\n",
        "per_class_recall = []\n",
        "\n",
        "for i in range(7):\n",
        "    class_acc = class_report[class_names[i]]['precision'] * 100\n",
        "    class_precision = class_report[class_names[i]]['precision'] * 100\n",
        "    class_recall = class_report[class_names[i]]['recall'] * 100\n",
        "\n",
        "    per_class_acc.append(class_acc)\n",
        "    per_class_precision.append(class_precision)\n",
        "    per_class_recall.append(class_recall)\n",
        "\n",
        "    print(f'{class_names[i]}: Precision {class_precision:.1f}%, Recall {class_recall:.1f}%')\n"
      ]
    },
    {
      "cell_type": "code",
      "execution_count": null,
      "id": "895e2845",
      "metadata": {
        "id": "895e2845"
      },
      "outputs": [],
      "source": [
        "x = np.arange(len(class_names))\n",
        "width = 0.25\n",
        "\n",
        "fig, ax = plt.subplots(figsize=(14, 8))\n",
        "bars1 = ax.bar(x - width, per_class_precision, width, label='Precision', alpha=0.8)\n",
        "bars2 = ax.bar(x, per_class_recall, width, label='Recall', alpha=0.8)\n",
        "bars3 = ax.bar(x + width, [class_report[name]['f1-score'] * 100 for name in class_names],\n",
        "               width, label='F1-Score', alpha=0.8)\n",
        "\n",
        "ax.set_xlabel('Emotion Classes')\n",
        "ax.set_ylabel('Performance (%)')\n",
        "ax.set_title('Per-Class Performance Metrics - Deeper CNN')\n",
        "ax.set_xticks(x)\n",
        "ax.set_xticklabels(class_names, rotation=45)\n",
        "ax.legend()\n",
        "ax.grid(True, alpha=0.3)\n",
        "\n",
        "# Add value labels on bars\n",
        "def add_value_labels(bars):\n",
        "    for bar in bars:\n",
        "        height = bar.get_height()\n",
        "        ax.text(bar.get_x() + bar.get_width()/2., height + 0.5,\n",
        "                f'{height:.1f}%', ha='center', va='bottom', fontsize=8)\n",
        "\n",
        "add_value_labels(bars1)\n",
        "add_value_labels(bars2)\n",
        "add_value_labels(bars3)\n",
        "\n",
        "plt.tight_layout()\n",
        "plt.savefig('deeper_cnn_per_class_performance.png', dpi=300, bbox_inches='tight')\n",
        "plt.show()\n",
        "\n",
        "# Model complexity and performance summary\n",
        "print(\"\\n\" + \"=\"*60)\n",
        "print(\"DEEPER CNN MODEL SUMMARY\")\n",
        "print(\"=\"*60)\n",
        "print(f\"Model Architecture: Deeper CNN with Batch Normalization\")\n",
        "print(f\"Total Parameters: {total_params:,}\")\n",
        "print(f\"Trainable Parameters: {trainable_params:,}\")\n",
        "print(f\"Training Time: {total_time:.2f} seconds ({actual_epochs} epochs)\")\n",
        "print(f\"Best Validation Accuracy: {best_val_acc:.2f}%\")\n",
        "print(f\"Final Validation Accuracy: {final_val_acc:.2f}%\")\n",
        "\n",
        "# Calculate model efficiency metrics\n",
        "params_per_accuracy = total_params / final_val_acc\n",
        "training_time_per_epoch = total_time / actual_epochs\n",
        "\n",
        "print(f\"\\nEfficiency Metrics:\")\n",
        "print(f\"Parameters per accuracy point: {params_per_accuracy:.0f}\")\n",
        "print(f\"Average training time per epoch: {training_time_per_epoch:.2f}s\")\n"
      ]
    },
    {
      "cell_type": "code",
      "execution_count": null,
      "id": "d8b24535",
      "metadata": {
        "id": "d8b24535"
      },
      "outputs": [],
      "source": [
        "\n",
        "# Log final metrics to wandb\n",
        "wandb.log({\n",
        "    'final_val_accuracy': final_val_acc,\n",
        "    'best_val_accuracy': best_val_acc,\n",
        "    'total_training_time': total_time,\n",
        "    'actual_epochs': actual_epochs,\n",
        "    'params_per_accuracy': params_per_accuracy,\n",
        "    'avg_epoch_time': training_time_per_epoch\n",
        "})\n",
        "\n",
        "# Class-wise performance logging\n",
        "for i, class_name in enumerate(class_names):\n",
        "    wandb.log({\n",
        "        f'{class_name.lower()}_precision': class_report[class_name]['precision'],\n",
        "        f'{class_name.lower()}_recall': class_report[class_name]['recall'],\n",
        "        f'{class_name.lower()}_f1': class_report[class_name]['f1-score']\n",
        "    })\n",
        "\n",
        "# Save detailed results\n",
        "results_summary = {\n",
        "    'model_name': CONFIG['model_name'],\n",
        "    'config': CONFIG,\n",
        "    'total_params': total_params,\n",
        "    'trainable_params': trainable_params,\n",
        "    'training_time': total_time,\n",
        "    'actual_epochs': actual_epochs,\n",
        "    'best_val_acc': best_val_acc,\n",
        "    'final_val_acc': final_val_acc,\n",
        "    'class_report': class_report,\n",
        "    'train_history': {\n",
        "        'train_losses': train_losses,\n",
        "        'train_accs': train_accs,\n",
        "        'val_losses': val_losses,\n",
        "        'val_accs': val_accs,\n",
        "        'learning_rates': learning_rates\n",
        "    }\n",
        "}\n"
      ]
    },
    {
      "cell_type": "code",
      "execution_count": null,
      "id": "67d4c0ac",
      "metadata": {
        "id": "67d4c0ac"
      },
      "outputs": [],
      "source": [
        "\n",
        "# Save results to file\n",
        "import json\n",
        "with open('deeper_cnn_results.json', 'w') as f:\n",
        "    # Convert numpy arrays to lists for JSON serialization\n",
        "    results_to_save = results_summary.copy()\n",
        "    for key in results_to_save['train_history']:\n",
        "        if isinstance(results_to_save['train_history'][key], list):\n",
        "            results_to_save['train_history'][key] = [float(x) for x in results_to_save['train_history'][key]]\n",
        "\n",
        "    json.dump(results_to_save, f, indent=2, default=str)\n",
        "\n",
        "print(f\"\\nResults saved to 'deeper_cnn_results.json'\")\n",
        "\n",
        "# Learning insights and recommendations\n",
        "print(\"\\n\" + \"=\"*60)\n",
        "print(\"LEARNING INSIGHTS - DEEPER CNN\")\n",
        "print(\"=\"*60)\n",
        "\n",
        "print(\"\\n1. Architecture Benefits:\")\n",
        "print(\"   - Multiple convolutional blocks capture hierarchical features\")\n",
        "print(\"   - Batch normalization stabilizes training and enables deeper networks\")\n",
        "print(\"   - Global average pooling reduces overfitting vs. fully connected layers\")\n",
        "print(\"   - Gradient clipping prevents exploding gradients in deeper networks\")\n",
        "\n",
        "print(\"\\n2. Training Observations:\")\n",
        "overfitting_epochs = sum(1 for gap in acc_gap if gap > 10)\n",
        "print(f\"   - Overfitting detected in {overfitting_epochs}/{actual_epochs} epochs\")\n",
        "print(f\"   - Learning rate reductions: {sum(1 for i in range(1, len(learning_rates)) if learning_rates[i] < learning_rates[i-1])}\")\n",
        "print(f\"   - Early stopping prevented overtraining\")\n",
        "\n",
        "print(\"\\n3. Performance Analysis:\")\n",
        "best_class = class_names[np.argmax(per_class_recall)]\n",
        "worst_class = class_names[np.argmin(per_class_recall)]\n",
        "print(f\"   - Best performing class: {best_class} ({max(per_class_recall):.1f}% recall)\")\n",
        "print(f\"   - Most challenging class: {worst_class} ({min(per_class_recall):.1f}% recall)\")\n",
        "print(f\"   - Overall balance: {np.std(per_class_recall):.1f}% std dev in recall\")\n",
        "\n",
        "print(\"\\n4. Next Steps for Improvement:\")\n",
        "print(\"   - Consider data augmentation for underperforming classes\")\n",
        "print(\"   - Experiment with different architectures (ResNet, EfficientNet)\")\n",
        "print(\"   - Try ensemble methods combining multiple models\")\n",
        "print(\"   - Implement class-specific data augmentation strategies\")\n",
        "\n",
        "# Close wandb run\n",
        "wandb.finish()\n",
        "\n",
        "print(f\"\\nExperiment completed! Check wandb dashboard for interactive visualizations.\")\n",
        "print(f\"Model saved as 'deeper_cnn_best.pth'\")\n",
        "print(\"=\"*60)"
      ]
    }
  ],
  "metadata": {
    "accelerator": "GPU",
    "colab": {
      "gpuType": "T4",
      "include_colab_link": true,
      "provenance": []
    },
    "kernelspec": {
      "display_name": "Python 3",
      "name": "python3"
    },
    "language_info": {
      "name": "python"
    }
  },
  "nbformat": 4,
  "nbformat_minor": 5
}
