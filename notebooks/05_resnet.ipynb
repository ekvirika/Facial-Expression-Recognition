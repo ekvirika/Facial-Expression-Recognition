{
  "cells": [
    {
      "cell_type": "markdown",
      "metadata": {
        "colab_type": "text",
        "id": "view-in-github"
      },
      "source": [
        "<a href=\"https://colab.research.google.com/github/ekvirika/Facial-Expression-Recognition/blob/main/notebooks/05_resnet.ipynb\" target=\"_parent\"><img src=\"https://colab.research.google.com/assets/colab-badge.svg\" alt=\"Open In Colab\"/></a>"
      ]
    },
    {
      "cell_type": "code",
      "execution_count": 1,
      "id": "b20636a6",
      "metadata": {
        "colab": {
          "base_uri": "https://localhost:8080/"
        },
        "id": "b20636a6",
        "outputId": "51314219-c33c-404d-9c7a-c93cea82636c"
      },
      "outputs": [
        {
          "name": "stdout",
          "output_type": "stream",
          "text": [
            "Mounted at /content/drive\n"
          ]
        }
      ],
      "source": [
        "from google.colab import drive\n",
        "drive.mount('/content/drive')"
      ]
    },
    {
      "cell_type": "code",
      "execution_count": 2,
      "id": "O3hs5_tKH613",
      "metadata": {
        "colab": {
          "base_uri": "https://localhost:8080/"
        },
        "id": "O3hs5_tKH613",
        "outputId": "9a48caec-3e75-4d21-bf3c-c13872397cc2"
      },
      "outputs": [
        {
          "name": "stdout",
          "output_type": "stream",
          "text": [
            "Requirement already satisfied: wandb in /usr/local/lib/python3.11/dist-packages (0.19.11)\n",
            "Requirement already satisfied: torch in /usr/local/lib/python3.11/dist-packages (2.6.0+cu124)\n",
            "Requirement already satisfied: torchvision in /usr/local/lib/python3.11/dist-packages (0.21.0+cu124)\n",
            "Requirement already satisfied: pandas in /usr/local/lib/python3.11/dist-packages (2.2.2)\n",
            "Requirement already satisfied: numpy in /usr/local/lib/python3.11/dist-packages (2.0.2)\n",
            "Requirement already satisfied: matplotlib in /usr/local/lib/python3.11/dist-packages (3.10.0)\n",
            "Requirement already satisfied: seaborn in /usr/local/lib/python3.11/dist-packages (0.13.2)\n",
            "Requirement already satisfied: scikit-learn in /usr/local/lib/python3.11/dist-packages (1.6.1)\n",
            "Requirement already satisfied: click!=8.0.0,>=7.1 in /usr/local/lib/python3.11/dist-packages (from wandb) (8.2.1)\n",
            "Requirement already satisfied: docker-pycreds>=0.4.0 in /usr/local/lib/python3.11/dist-packages (from wandb) (0.4.0)\n",
            "Requirement already satisfied: gitpython!=3.1.29,>=1.0.0 in /usr/local/lib/python3.11/dist-packages (from wandb) (3.1.44)\n",
            "Requirement already satisfied: platformdirs in /usr/local/lib/python3.11/dist-packages (from wandb) (4.3.8)\n",
            "Requirement already satisfied: protobuf!=4.21.0,!=5.28.0,<7,>=3.19.0 in /usr/local/lib/python3.11/dist-packages (from wandb) (5.29.4)\n",
            "Requirement already satisfied: psutil>=5.0.0 in /usr/local/lib/python3.11/dist-packages (from wandb) (5.9.5)\n",
            "Requirement already satisfied: pydantic<3 in /usr/local/lib/python3.11/dist-packages (from wandb) (2.11.4)\n",
            "Requirement already satisfied: pyyaml in /usr/local/lib/python3.11/dist-packages (from wandb) (6.0.2)\n",
            "Requirement already satisfied: requests<3,>=2.0.0 in /usr/local/lib/python3.11/dist-packages (from wandb) (2.32.3)\n",
            "Requirement already satisfied: sentry-sdk>=2.0.0 in /usr/local/lib/python3.11/dist-packages (from wandb) (2.29.1)\n",
            "Requirement already satisfied: setproctitle in /usr/local/lib/python3.11/dist-packages (from wandb) (1.3.6)\n",
            "Requirement already satisfied: setuptools in /usr/local/lib/python3.11/dist-packages (from wandb) (75.2.0)\n",
            "Requirement already satisfied: typing-extensions<5,>=4.4 in /usr/local/lib/python3.11/dist-packages (from wandb) (4.13.2)\n",
            "Requirement already satisfied: filelock in /usr/local/lib/python3.11/dist-packages (from torch) (3.18.0)\n",
            "Requirement already satisfied: networkx in /usr/local/lib/python3.11/dist-packages (from torch) (3.4.2)\n",
            "Requirement already satisfied: jinja2 in /usr/local/lib/python3.11/dist-packages (from torch) (3.1.6)\n",
            "Requirement already satisfied: fsspec in /usr/local/lib/python3.11/dist-packages (from torch) (2025.3.2)\n",
            "Collecting nvidia-cuda-nvrtc-cu12==12.4.127 (from torch)\n",
            "  Downloading nvidia_cuda_nvrtc_cu12-12.4.127-py3-none-manylinux2014_x86_64.whl.metadata (1.5 kB)\n",
            "Collecting nvidia-cuda-runtime-cu12==12.4.127 (from torch)\n",
            "  Downloading nvidia_cuda_runtime_cu12-12.4.127-py3-none-manylinux2014_x86_64.whl.metadata (1.5 kB)\n",
            "Collecting nvidia-cuda-cupti-cu12==12.4.127 (from torch)\n",
            "  Downloading nvidia_cuda_cupti_cu12-12.4.127-py3-none-manylinux2014_x86_64.whl.metadata (1.6 kB)\n",
            "Collecting nvidia-cudnn-cu12==9.1.0.70 (from torch)\n",
            "  Downloading nvidia_cudnn_cu12-9.1.0.70-py3-none-manylinux2014_x86_64.whl.metadata (1.6 kB)\n",
            "Collecting nvidia-cublas-cu12==12.4.5.8 (from torch)\n",
            "  Downloading nvidia_cublas_cu12-12.4.5.8-py3-none-manylinux2014_x86_64.whl.metadata (1.5 kB)\n",
            "Collecting nvidia-cufft-cu12==11.2.1.3 (from torch)\n",
            "  Downloading nvidia_cufft_cu12-11.2.1.3-py3-none-manylinux2014_x86_64.whl.metadata (1.5 kB)\n",
            "Collecting nvidia-curand-cu12==10.3.5.147 (from torch)\n",
            "  Downloading nvidia_curand_cu12-10.3.5.147-py3-none-manylinux2014_x86_64.whl.metadata (1.5 kB)\n",
            "Collecting nvidia-cusolver-cu12==11.6.1.9 (from torch)\n",
            "  Downloading nvidia_cusolver_cu12-11.6.1.9-py3-none-manylinux2014_x86_64.whl.metadata (1.6 kB)\n",
            "Collecting nvidia-cusparse-cu12==12.3.1.170 (from torch)\n",
            "  Downloading nvidia_cusparse_cu12-12.3.1.170-py3-none-manylinux2014_x86_64.whl.metadata (1.6 kB)\n",
            "Requirement already satisfied: nvidia-cusparselt-cu12==0.6.2 in /usr/local/lib/python3.11/dist-packages (from torch) (0.6.2)\n",
            "Requirement already satisfied: nvidia-nccl-cu12==2.21.5 in /usr/local/lib/python3.11/dist-packages (from torch) (2.21.5)\n",
            "Requirement already satisfied: nvidia-nvtx-cu12==12.4.127 in /usr/local/lib/python3.11/dist-packages (from torch) (12.4.127)\n",
            "Collecting nvidia-nvjitlink-cu12==12.4.127 (from torch)\n",
            "  Downloading nvidia_nvjitlink_cu12-12.4.127-py3-none-manylinux2014_x86_64.whl.metadata (1.5 kB)\n",
            "Requirement already satisfied: triton==3.2.0 in /usr/local/lib/python3.11/dist-packages (from torch) (3.2.0)\n",
            "Requirement already satisfied: sympy==1.13.1 in /usr/local/lib/python3.11/dist-packages (from torch) (1.13.1)\n",
            "Requirement already satisfied: mpmath<1.4,>=1.1.0 in /usr/local/lib/python3.11/dist-packages (from sympy==1.13.1->torch) (1.3.0)\n",
            "Requirement already satisfied: pillow!=8.3.*,>=5.3.0 in /usr/local/lib/python3.11/dist-packages (from torchvision) (11.2.1)\n",
            "Requirement already satisfied: python-dateutil>=2.8.2 in /usr/local/lib/python3.11/dist-packages (from pandas) (2.9.0.post0)\n",
            "Requirement already satisfied: pytz>=2020.1 in /usr/local/lib/python3.11/dist-packages (from pandas) (2025.2)\n",
            "Requirement already satisfied: tzdata>=2022.7 in /usr/local/lib/python3.11/dist-packages (from pandas) (2025.2)\n",
            "Requirement already satisfied: contourpy>=1.0.1 in /usr/local/lib/python3.11/dist-packages (from matplotlib) (1.3.2)\n",
            "Requirement already satisfied: cycler>=0.10 in /usr/local/lib/python3.11/dist-packages (from matplotlib) (0.12.1)\n",
            "Requirement already satisfied: fonttools>=4.22.0 in /usr/local/lib/python3.11/dist-packages (from matplotlib) (4.58.0)\n",
            "Requirement already satisfied: kiwisolver>=1.3.1 in /usr/local/lib/python3.11/dist-packages (from matplotlib) (1.4.8)\n",
            "Requirement already satisfied: packaging>=20.0 in /usr/local/lib/python3.11/dist-packages (from matplotlib) (24.2)\n",
            "Requirement already satisfied: pyparsing>=2.3.1 in /usr/local/lib/python3.11/dist-packages (from matplotlib) (3.2.3)\n",
            "Requirement already satisfied: scipy>=1.6.0 in /usr/local/lib/python3.11/dist-packages (from scikit-learn) (1.15.3)\n",
            "Requirement already satisfied: joblib>=1.2.0 in /usr/local/lib/python3.11/dist-packages (from scikit-learn) (1.5.0)\n",
            "Requirement already satisfied: threadpoolctl>=3.1.0 in /usr/local/lib/python3.11/dist-packages (from scikit-learn) (3.6.0)\n",
            "Requirement already satisfied: six>=1.4.0 in /usr/local/lib/python3.11/dist-packages (from docker-pycreds>=0.4.0->wandb) (1.17.0)\n",
            "Requirement already satisfied: gitdb<5,>=4.0.1 in /usr/local/lib/python3.11/dist-packages (from gitpython!=3.1.29,>=1.0.0->wandb) (4.0.12)\n",
            "Requirement already satisfied: annotated-types>=0.6.0 in /usr/local/lib/python3.11/dist-packages (from pydantic<3->wandb) (0.7.0)\n",
            "Requirement already satisfied: pydantic-core==2.33.2 in /usr/local/lib/python3.11/dist-packages (from pydantic<3->wandb) (2.33.2)\n",
            "Requirement already satisfied: typing-inspection>=0.4.0 in /usr/local/lib/python3.11/dist-packages (from pydantic<3->wandb) (0.4.1)\n",
            "Requirement already satisfied: charset-normalizer<4,>=2 in /usr/local/lib/python3.11/dist-packages (from requests<3,>=2.0.0->wandb) (3.4.2)\n",
            "Requirement already satisfied: idna<4,>=2.5 in /usr/local/lib/python3.11/dist-packages (from requests<3,>=2.0.0->wandb) (3.10)\n",
            "Requirement already satisfied: urllib3<3,>=1.21.1 in /usr/local/lib/python3.11/dist-packages (from requests<3,>=2.0.0->wandb) (2.4.0)\n",
            "Requirement already satisfied: certifi>=2017.4.17 in /usr/local/lib/python3.11/dist-packages (from requests<3,>=2.0.0->wandb) (2025.4.26)\n",
            "Requirement already satisfied: MarkupSafe>=2.0 in /usr/local/lib/python3.11/dist-packages (from jinja2->torch) (3.0.2)\n",
            "Requirement already satisfied: smmap<6,>=3.0.1 in /usr/local/lib/python3.11/dist-packages (from gitdb<5,>=4.0.1->gitpython!=3.1.29,>=1.0.0->wandb) (5.0.2)\n",
            "Downloading nvidia_cublas_cu12-12.4.5.8-py3-none-manylinux2014_x86_64.whl (363.4 MB)\n",
            "\u001b[2K   \u001b[90m━━━━━━━━━━━━━━━━━━━━━━━━━━━━━━━━━━━━━━━━\u001b[0m \u001b[32m363.4/363.4 MB\u001b[0m \u001b[31m3.7 MB/s\u001b[0m eta \u001b[36m0:00:00\u001b[0m\n",
            "\u001b[?25hDownloading nvidia_cuda_cupti_cu12-12.4.127-py3-none-manylinux2014_x86_64.whl (13.8 MB)\n",
            "\u001b[2K   \u001b[90m━━━━━━━━━━━━━━━━━━━━━━━━━━━━━━━━━━━━━━━━\u001b[0m \u001b[32m13.8/13.8 MB\u001b[0m \u001b[31m84.4 MB/s\u001b[0m eta \u001b[36m0:00:00\u001b[0m\n",
            "\u001b[?25hDownloading nvidia_cuda_nvrtc_cu12-12.4.127-py3-none-manylinux2014_x86_64.whl (24.6 MB)\n",
            "\u001b[2K   \u001b[90m━━━━━━━━━━━━━━━━━━━━━━━━━━━━━━━━━━━━━━━━\u001b[0m \u001b[32m24.6/24.6 MB\u001b[0m \u001b[31m65.0 MB/s\u001b[0m eta \u001b[36m0:00:00\u001b[0m\n",
            "\u001b[?25hDownloading nvidia_cuda_runtime_cu12-12.4.127-py3-none-manylinux2014_x86_64.whl (883 kB)\n",
            "\u001b[2K   \u001b[90m━━━━━━━━━━━━━━━━━━━━━━━━━━━━━━━━━━━━━━━━\u001b[0m \u001b[32m883.7/883.7 kB\u001b[0m \u001b[31m48.5 MB/s\u001b[0m eta \u001b[36m0:00:00\u001b[0m\n",
            "\u001b[?25hDownloading nvidia_cudnn_cu12-9.1.0.70-py3-none-manylinux2014_x86_64.whl (664.8 MB)\n",
            "\u001b[2K   \u001b[90m━━━━━━━━━━━━━━━━━━━━━━━━━━━━━━━━━━━━━━━━\u001b[0m \u001b[32m664.8/664.8 MB\u001b[0m \u001b[31m2.1 MB/s\u001b[0m eta \u001b[36m0:00:00\u001b[0m\n",
            "\u001b[?25hDownloading nvidia_cufft_cu12-11.2.1.3-py3-none-manylinux2014_x86_64.whl (211.5 MB)\n",
            "\u001b[2K   \u001b[90m━━━━━━━━━━━━━━━━━━━━━━━━━━━━━━━━━━━━━━━━\u001b[0m \u001b[32m211.5/211.5 MB\u001b[0m \u001b[31m5.9 MB/s\u001b[0m eta \u001b[36m0:00:00\u001b[0m\n",
            "\u001b[?25hDownloading nvidia_curand_cu12-10.3.5.147-py3-none-manylinux2014_x86_64.whl (56.3 MB)\n",
            "\u001b[2K   \u001b[90m━━━━━━━━━━━━━━━━━━━━━━━━━━━━━━━━━━━━━━━━\u001b[0m \u001b[32m56.3/56.3 MB\u001b[0m \u001b[31m11.9 MB/s\u001b[0m eta \u001b[36m0:00:00\u001b[0m\n",
            "\u001b[?25hDownloading nvidia_cusolver_cu12-11.6.1.9-py3-none-manylinux2014_x86_64.whl (127.9 MB)\n",
            "\u001b[2K   \u001b[90m━━━━━━━━━━━━━━━━━━━━━━━━━━━━━━━━━━━━━━━━\u001b[0m \u001b[32m127.9/127.9 MB\u001b[0m \u001b[31m7.5 MB/s\u001b[0m eta \u001b[36m0:00:00\u001b[0m\n",
            "\u001b[?25hDownloading nvidia_cusparse_cu12-12.3.1.170-py3-none-manylinux2014_x86_64.whl (207.5 MB)\n",
            "\u001b[2K   \u001b[90m━━━━━━━━━━━━━━━━━━━━━━━━━━━━━━━━━━━━━━━━\u001b[0m \u001b[32m207.5/207.5 MB\u001b[0m \u001b[31m5.0 MB/s\u001b[0m eta \u001b[36m0:00:00\u001b[0m\n",
            "\u001b[?25hDownloading nvidia_nvjitlink_cu12-12.4.127-py3-none-manylinux2014_x86_64.whl (21.1 MB)\n",
            "\u001b[2K   \u001b[90m━━━━━━━━━━━━━━━━━━━━━━━━━━━━━━━━━━━━━━━━\u001b[0m \u001b[32m21.1/21.1 MB\u001b[0m \u001b[31m71.9 MB/s\u001b[0m eta \u001b[36m0:00:00\u001b[0m\n",
            "\u001b[?25hInstalling collected packages: nvidia-nvjitlink-cu12, nvidia-curand-cu12, nvidia-cufft-cu12, nvidia-cuda-runtime-cu12, nvidia-cuda-nvrtc-cu12, nvidia-cuda-cupti-cu12, nvidia-cublas-cu12, nvidia-cusparse-cu12, nvidia-cudnn-cu12, nvidia-cusolver-cu12\n",
            "  Attempting uninstall: nvidia-nvjitlink-cu12\n",
            "    Found existing installation: nvidia-nvjitlink-cu12 12.5.82\n",
            "    Uninstalling nvidia-nvjitlink-cu12-12.5.82:\n",
            "      Successfully uninstalled nvidia-nvjitlink-cu12-12.5.82\n",
            "  Attempting uninstall: nvidia-curand-cu12\n",
            "    Found existing installation: nvidia-curand-cu12 10.3.6.82\n",
            "    Uninstalling nvidia-curand-cu12-10.3.6.82:\n",
            "      Successfully uninstalled nvidia-curand-cu12-10.3.6.82\n",
            "  Attempting uninstall: nvidia-cufft-cu12\n",
            "    Found existing installation: nvidia-cufft-cu12 11.2.3.61\n",
            "    Uninstalling nvidia-cufft-cu12-11.2.3.61:\n",
            "      Successfully uninstalled nvidia-cufft-cu12-11.2.3.61\n",
            "  Attempting uninstall: nvidia-cuda-runtime-cu12\n",
            "    Found existing installation: nvidia-cuda-runtime-cu12 12.5.82\n",
            "    Uninstalling nvidia-cuda-runtime-cu12-12.5.82:\n",
            "      Successfully uninstalled nvidia-cuda-runtime-cu12-12.5.82\n",
            "  Attempting uninstall: nvidia-cuda-nvrtc-cu12\n",
            "    Found existing installation: nvidia-cuda-nvrtc-cu12 12.5.82\n",
            "    Uninstalling nvidia-cuda-nvrtc-cu12-12.5.82:\n",
            "      Successfully uninstalled nvidia-cuda-nvrtc-cu12-12.5.82\n",
            "  Attempting uninstall: nvidia-cuda-cupti-cu12\n",
            "    Found existing installation: nvidia-cuda-cupti-cu12 12.5.82\n",
            "    Uninstalling nvidia-cuda-cupti-cu12-12.5.82:\n",
            "      Successfully uninstalled nvidia-cuda-cupti-cu12-12.5.82\n",
            "  Attempting uninstall: nvidia-cublas-cu12\n",
            "    Found existing installation: nvidia-cublas-cu12 12.5.3.2\n",
            "    Uninstalling nvidia-cublas-cu12-12.5.3.2:\n",
            "      Successfully uninstalled nvidia-cublas-cu12-12.5.3.2\n",
            "  Attempting uninstall: nvidia-cusparse-cu12\n",
            "    Found existing installation: nvidia-cusparse-cu12 12.5.1.3\n",
            "    Uninstalling nvidia-cusparse-cu12-12.5.1.3:\n",
            "      Successfully uninstalled nvidia-cusparse-cu12-12.5.1.3\n",
            "  Attempting uninstall: nvidia-cudnn-cu12\n",
            "    Found existing installation: nvidia-cudnn-cu12 9.3.0.75\n",
            "    Uninstalling nvidia-cudnn-cu12-9.3.0.75:\n",
            "      Successfully uninstalled nvidia-cudnn-cu12-9.3.0.75\n",
            "  Attempting uninstall: nvidia-cusolver-cu12\n",
            "    Found existing installation: nvidia-cusolver-cu12 11.6.3.83\n",
            "    Uninstalling nvidia-cusolver-cu12-11.6.3.83:\n",
            "      Successfully uninstalled nvidia-cusolver-cu12-11.6.3.83\n",
            "Successfully installed nvidia-cublas-cu12-12.4.5.8 nvidia-cuda-cupti-cu12-12.4.127 nvidia-cuda-nvrtc-cu12-12.4.127 nvidia-cuda-runtime-cu12-12.4.127 nvidia-cudnn-cu12-9.1.0.70 nvidia-cufft-cu12-11.2.1.3 nvidia-curand-cu12-10.3.5.147 nvidia-cusolver-cu12-11.6.1.9 nvidia-cusparse-cu12-12.3.1.170 nvidia-nvjitlink-cu12-12.4.127\n",
            "Requirement already satisfied: kaggle in /usr/local/lib/python3.11/dist-packages (1.7.4.5)\n",
            "Requirement already satisfied: bleach in /usr/local/lib/python3.11/dist-packages (from kaggle) (6.2.0)\n",
            "Requirement already satisfied: certifi>=14.05.14 in /usr/local/lib/python3.11/dist-packages (from kaggle) (2025.4.26)\n",
            "Requirement already satisfied: charset-normalizer in /usr/local/lib/python3.11/dist-packages (from kaggle) (3.4.2)\n",
            "Requirement already satisfied: idna in /usr/local/lib/python3.11/dist-packages (from kaggle) (3.10)\n",
            "Requirement already satisfied: protobuf in /usr/local/lib/python3.11/dist-packages (from kaggle) (5.29.4)\n",
            "Requirement already satisfied: python-dateutil>=2.5.3 in /usr/local/lib/python3.11/dist-packages (from kaggle) (2.9.0.post0)\n",
            "Requirement already satisfied: python-slugify in /usr/local/lib/python3.11/dist-packages (from kaggle) (8.0.4)\n",
            "Requirement already satisfied: requests in /usr/local/lib/python3.11/dist-packages (from kaggle) (2.32.3)\n",
            "Requirement already satisfied: setuptools>=21.0.0 in /usr/local/lib/python3.11/dist-packages (from kaggle) (75.2.0)\n",
            "Requirement already satisfied: six>=1.10 in /usr/local/lib/python3.11/dist-packages (from kaggle) (1.17.0)\n",
            "Requirement already satisfied: text-unidecode in /usr/local/lib/python3.11/dist-packages (from kaggle) (1.3)\n",
            "Requirement already satisfied: tqdm in /usr/local/lib/python3.11/dist-packages (from kaggle) (4.67.1)\n",
            "Requirement already satisfied: urllib3>=1.15.1 in /usr/local/lib/python3.11/dist-packages (from kaggle) (2.4.0)\n",
            "Requirement already satisfied: webencodings in /usr/local/lib/python3.11/dist-packages (from kaggle) (0.5.1)\n"
          ]
        }
      ],
      "source": [
        "# Install required packages\n",
        "!pip install wandb torch torchvision pandas numpy matplotlib seaborn scikit-learn\n",
        "\n",
        "# Set up Kaggle API\n",
        "!pip install kaggle"
      ]
    },
    {
      "cell_type": "code",
      "execution_count": 3,
      "id": "4vZrZ_8XH87s",
      "metadata": {
        "id": "4vZrZ_8XH87s"
      },
      "outputs": [],
      "source": [
        "# Upload your kaggle.json to Colab and run:\n",
        "!mkdir -p ~/.kaggle\n",
        "!cp /content/drive/MyDrive/ColabNotebooks/kaggle_API_credentials/kaggle.json ~/.kaggle/kaggle.json\n",
        "! chmod 600 ~/.kaggle/kaggle.json"
      ]
    },
    {
      "cell_type": "code",
      "execution_count": 4,
      "id": "5mJhQ8WNH-Pf",
      "metadata": {
        "colab": {
          "base_uri": "https://localhost:8080/"
        },
        "id": "5mJhQ8WNH-Pf",
        "outputId": "5c54b4f9-c360-4133-ee5c-36a606e4be59"
      },
      "outputs": [
        {
          "name": "stdout",
          "output_type": "stream",
          "text": [
            "Downloading challenges-in-representation-learning-facial-expression-recognition-challenge.zip to /content\n",
            " 87% 248M/285M [00:00<00:00, 286MB/s]\n",
            "100% 285M/285M [00:00<00:00, 300MB/s]\n"
          ]
        }
      ],
      "source": [
        "# Download the dataset\n",
        "!kaggle competitions download -c challenges-in-representation-learning-facial-expression-recognition-challenge\n",
        "!unzip -q challenges-in-representation-learning-facial-expression-recognition-challenge.zip\n"
      ]
    },
    {
      "cell_type": "code",
      "execution_count": 5,
      "id": "f220e218",
      "metadata": {
        "id": "f220e218"
      },
      "outputs": [],
      "source": [
        "import os\n",
        "import numpy as np\n",
        "import pandas as pd\n",
        "import matplotlib.pyplot as plt\n",
        "import seaborn as sns\n",
        "import torch\n",
        "import torch.nn as nn\n",
        "import torch.nn.functional as F\n",
        "import torch.optim as optim\n",
        "from torch.utils.data import Dataset, DataLoader\n",
        "import torchvision.transforms as transforms\n",
        "from sklearn.metrics import classification_report, confusion_matrix\n",
        "import wandb\n",
        "from datetime import datetime\n",
        "from tqdm import tqdm"
      ]
    },
    {
      "cell_type": "code",
      "execution_count": 6,
      "id": "c450FkbKJAr3",
      "metadata": {
        "id": "c450FkbKJAr3"
      },
      "outputs": [],
      "source": [
        "class FER2013Dataset(Dataset):\n",
        "    def __init__(self, data, transform=None):\n",
        "        self.data = data\n",
        "        self.transform = transform\n",
        "\n",
        "    def __len__(self):\n",
        "        return len(self.data)\n",
        "\n",
        "    def __getitem__(self, idx):\n",
        "        row = self.data.iloc[idx]\n",
        "\n",
        "        # Convert pixel string to image\n",
        "        pixels = np.array(row['pixels'].split(), dtype=np.uint8)\n",
        "        image = pixels.reshape(48, 48)\n",
        "        image = Image.fromarray(image).convert('RGB')\n",
        "\n",
        "        if self.transform:\n",
        "            image = self.transform(image)\n",
        "\n",
        "        label = int(row['emotion'])\n",
        "        return image, label"
      ]
    },
    {
      "cell_type": "markdown",
      "id": "FYH3BluHIiRe",
      "metadata": {
        "id": "FYH3BluHIiRe"
      },
      "source": [
        "# Basic Block for ResNet"
      ]
    },
    {
      "cell_type": "code",
      "execution_count": 7,
      "id": "bf2667ec",
      "metadata": {
        "id": "bf2667ec"
      },
      "outputs": [],
      "source": [
        "class BasicBlock(nn.Module):\n",
        "    expansion = 1\n",
        "\n",
        "    def __init__(self, in_planes, planes, stride=1):\n",
        "        super(BasicBlock, self).__init__()\n",
        "        self.conv1 = nn.Conv2d(in_planes, planes, kernel_size=3, stride=stride, padding=1, bias=False)\n",
        "        self.bn1 = nn.BatchNorm2d(planes)\n",
        "        self.conv2 = nn.Conv2d(planes, planes, kernel_size=3, stride=1, padding=1, bias=False)\n",
        "        self.bn2 = nn.BatchNorm2d(planes)\n",
        "\n",
        "        self.shortcut = nn.Sequential()\n",
        "        if stride != 1 or in_planes != self.expansion * planes:\n",
        "            self.shortcut = nn.Sequential(\n",
        "                nn.Conv2d(in_planes, self.expansion * planes, kernel_size=1, stride=stride, bias=False),\n",
        "                nn.BatchNorm2d(self.expansion * planes)\n",
        "            )\n",
        "\n",
        "    def forward(self, x):\n",
        "        out = F.relu(self.bn1(self.conv1(x)))\n",
        "        out = self.bn2(self.conv2(out))\n",
        "        out += self.shortcut(x)\n",
        "        out = F.relu(out)\n",
        "        return out"
      ]
    },
    {
      "cell_type": "markdown",
      "id": "xuhVWAfnIkee",
      "metadata": {
        "id": "xuhVWAfnIkee"
      },
      "source": [
        "# Bottleneck Block for deeper ResNets\n"
      ]
    },
    {
      "cell_type": "code",
      "execution_count": 8,
      "id": "9cpBptE_Ic6q",
      "metadata": {
        "id": "9cpBptE_Ic6q"
      },
      "outputs": [],
      "source": [
        "class Bottleneck(nn.Module):\n",
        "    expansion = 4\n",
        "\n",
        "    def __init__(self, in_planes, planes, stride=1):\n",
        "        super(Bottleneck, self).__init__()\n",
        "        self.conv1 = nn.Conv2d(in_planes, planes, kernel_size=1, bias=False)\n",
        "        self.bn1 = nn.BatchNorm2d(planes)\n",
        "        self.conv2 = nn.Conv2d(planes, planes, kernel_size=3, stride=stride, padding=1, bias=False)\n",
        "        self.bn2 = nn.BatchNorm2d(planes)\n",
        "        self.conv3 = nn.Conv2d(planes, self.expansion * planes, kernel_size=1, bias=False)\n",
        "        self.bn3 = nn.BatchNorm2d(self.expansion * planes)\n",
        "\n",
        "        self.shortcut = nn.Sequential()\n",
        "        if stride != 1 or in_planes != self.expansion * planes:\n",
        "            self.shortcut = nn.Sequential(\n",
        "                nn.Conv2d(in_planes, self.expansion * planes, kernel_size=1, stride=stride, bias=False),\n",
        "                nn.BatchNorm2d(self.expansion * planes)\n",
        "            )\n",
        "\n",
        "    def forward(self, x):\n",
        "        out = F.relu(self.bn1(self.conv1(x)))\n",
        "        out = F.relu(self.bn2(self.conv2(out)))\n",
        "        out = self.bn3(self.conv3(out))\n",
        "        out += self.shortcut(x)\n",
        "        out = F.relu(out)\n",
        "        return out"
      ]
    },
    {
      "cell_type": "code",
      "execution_count": null,
      "id": "8rWQBH7_Ilv-",
      "metadata": {
        "id": "8rWQBH7_Ilv-"
      },
      "outputs": [],
      "source": [
        "# ResNet Architecture"
      ]
    },
    {
      "cell_type": "code",
      "execution_count": 9,
      "id": "fcNjw5q3IfGu",
      "metadata": {
        "id": "fcNjw5q3IfGu"
      },
      "outputs": [],
      "source": [
        "class ResNet(nn.Module):\n",
        "    def __init__(self, block, num_blocks, num_classes=7, dropout_rate=0.5):\n",
        "        super(ResNet, self).__init__()\n",
        "        self.in_planes = 64\n",
        "\n",
        "        # Initial convolution\n",
        "        self.conv1 = nn.Conv2d(3, 64, kernel_size=7, stride=2, padding=3, bias=False)\n",
        "        self.bn1 = nn.BatchNorm2d(64)\n",
        "        self.maxpool = nn.MaxPool2d(kernel_size=3, stride=2, padding=1)\n",
        "\n",
        "        # ResNet layers\n",
        "        self.layer1 = self._make_layer(block, 64, num_blocks[0], stride=1)\n",
        "        self.layer2 = self._make_layer(block, 128, num_blocks[1], stride=2)\n",
        "        self.layer3 = self._make_layer(block, 256, num_blocks[2], stride=2)\n",
        "        self.layer4 = self._make_layer(block, 512, num_blocks[3], stride=2)\n",
        "\n",
        "        # Classification head\n",
        "        self.avgpool = nn.AdaptiveAvgPool2d((1, 1))\n",
        "        self.dropout = nn.Dropout(dropout_rate)\n",
        "        self.fc = nn.Linear(512 * block.expansion, num_classes)\n",
        "\n",
        "    def _make_layer(self, block, planes, num_blocks, stride):\n",
        "        strides = [stride] + [1] * (num_blocks - 1)\n",
        "        layers = []\n",
        "        for stride in strides:\n",
        "            layers.append(block(self.in_planes, planes, stride))\n",
        "            self.in_planes = planes * block.expansion\n",
        "        return nn.Sequential(*layers)\n",
        "\n",
        "    def forward(self, x):\n",
        "        out = F.relu(self.bn1(self.conv1(x)))\n",
        "        out = self.maxpool(out)\n",
        "\n",
        "        out = self.layer1(out)\n",
        "        out = self.layer2(out)\n",
        "        out = self.layer3(out)\n",
        "        out = self.layer4(out)\n",
        "\n",
        "        out = self.avgpool(out)\n",
        "        out = torch.flatten(out, 1)\n",
        "        out = self.dropout(out)\n",
        "        out = self.fc(out)\n",
        "\n",
        "        return out\n",
        "\n"
      ]
    },
    {
      "cell_type": "markdown",
      "id": "ob92ZBbeIoaN",
      "metadata": {
        "id": "ob92ZBbeIoaN"
      },
      "source": [
        "# Different ResNet configurations"
      ]
    },
    {
      "cell_type": "code",
      "execution_count": 10,
      "id": "RPQBU0RFIgQT",
      "metadata": {
        "id": "RPQBU0RFIgQT"
      },
      "outputs": [],
      "source": [
        "# Different ResNet configurations\n",
        "def ResNet18(num_classes=7, dropout_rate=0.5):\n",
        "    return ResNet(BasicBlock, [2, 2, 2, 2], num_classes, dropout_rate)\n",
        "\n",
        "def ResNet34(num_classes=7, dropout_rate=0.5):\n",
        "    return ResNet(BasicBlock, [3, 4, 6, 3], num_classes, dropout_rate)\n",
        "\n",
        "def ResNet50(num_classes=7, dropout_rate=0.5):\n",
        "    return ResNet(Bottleneck, [3, 4, 6, 3], num_classes, dropout_rate)\n",
        "\n",
        "def ResNet101(num_classes=7, dropout_rate=0.5):\n",
        "    return ResNet(Bottleneck, [3, 4, 23, 3], num_classes, dropout_rate)"
      ]
    },
    {
      "cell_type": "markdown",
      "id": "8337356a",
      "metadata": {
        "id": "8337356a"
      },
      "source": [
        "# Training Loop"
      ]
    },
    {
      "cell_type": "code",
      "execution_count": 11,
      "id": "StaKOtfjIuzF",
      "metadata": {
        "id": "StaKOtfjIuzF"
      },
      "outputs": [],
      "source": [
        "\n",
        "# Training function\n",
        "def train_model(model, train_loader, val_loader, config, device):\n",
        "    criterion = nn.CrossEntropyLoss()\n",
        "\n",
        "    if config['optimizer'] == 'adam':\n",
        "        optimizer = optim.Adam(model.parameters(), lr=config['learning_rate'],\n",
        "                              weight_decay=config['weight_decay'])\n",
        "    elif config['optimizer'] == 'sgd':\n",
        "        optimizer = optim.SGD(model.parameters(), lr=config['learning_rate'],\n",
        "                             momentum=0.9, weight_decay=config['weight_decay'])\n",
        "    else:\n",
        "        optimizer = optim.AdamW(model.parameters(), lr=config['learning_rate'],\n",
        "                               weight_decay=config['weight_decay'])\n",
        "\n",
        "    # Learning rate scheduler\n",
        "    scheduler = optim.lr_scheduler.StepLR(optimizer, step_size=10, gamma=0.1)\n",
        "\n",
        "    best_val_acc = 0.0\n",
        "    patience = 0\n",
        "    max_patience = 10\n",
        "\n",
        "    for epoch in range(config['epochs']):\n",
        "        # Training phase\n",
        "        model.train()\n",
        "        train_loss = 0.0\n",
        "        train_correct = 0\n",
        "        train_total = 0\n",
        "\n",
        "        with tqdm(train_loader, desc=f'Epoch {epoch+1}/{config[\"epochs\"]} - Training') as pbar:\n",
        "            for batch_idx, (data, target) in enumerate(pbar):\n",
        "                data, target = data.to(device), target.to(device)\n",
        "\n",
        "                optimizer.zero_grad()\n",
        "                output = model(data)\n",
        "                loss = criterion(output, target)\n",
        "                loss.backward()\n",
        "                optimizer.step()\n",
        "\n",
        "                train_loss += loss.item()\n",
        "                _, predicted = output.max(1)\n",
        "                train_total += target.size(0)\n",
        "                train_correct += predicted.eq(target).sum().item()\n",
        "\n",
        "                pbar.set_postfix({\n",
        "                    'Loss': f'{loss.item():.4f}',\n",
        "                    'Acc': f'{100.*train_correct/train_total:.2f}%'\n",
        "                })\n",
        "\n",
        "        train_acc = 100. * train_correct / train_total\n",
        "        avg_train_loss = train_loss / len(train_loader)\n",
        "\n",
        "        # Validation phase\n",
        "        model.eval()\n",
        "        val_loss = 0.0\n",
        "        val_correct = 0\n",
        "        val_total = 0\n",
        "\n",
        "        with torch.no_grad():\n",
        "            for data, target in val_loader:\n",
        "                data, target = data.to(device), target.to(device)\n",
        "                output = model(data)\n",
        "                val_loss += criterion(output, target).item()\n",
        "\n",
        "                _, predicted = output.max(1)\n",
        "                val_total += target.size(0)\n",
        "                val_correct += predicted.eq(target).sum().item()\n",
        "\n",
        "        val_acc = 100. * val_correct / val_total\n",
        "        avg_val_loss = val_loss / len(val_loader)\n",
        "\n",
        "        # Log to wandb\n",
        "        wandb.log({\n",
        "            'epoch': epoch + 1,\n",
        "            'train_loss': avg_train_loss,\n",
        "            'train_accuracy': train_acc,\n",
        "            'val_loss': avg_val_loss,\n",
        "            'val_accuracy': val_acc,\n",
        "            'learning_rate': optimizer.param_groups[0]['lr']\n",
        "        })\n",
        "\n",
        "        print(f'Epoch {epoch+1}: Train Acc: {train_acc:.2f}%, Val Acc: {val_acc:.2f}%')\n",
        "\n",
        "        # Early stopping\n",
        "        if val_acc > best_val_acc:\n",
        "            best_val_acc = val_acc\n",
        "            patience = 0\n",
        "            # Save best model\n",
        "            torch.save(model.state_dict(), f'best_model_{wandb.run.name}.pth')\n",
        "        else:\n",
        "            patience += 1\n",
        "\n",
        "        if patience >= max_patience:\n",
        "            print(f'Early stopping at epoch {epoch+1}')\n",
        "            break\n",
        "\n",
        "        scheduler.step()\n",
        "\n",
        "    return best_val_acc"
      ]
    },
    {
      "cell_type": "markdown",
      "id": "u9QtZRrvI3jm",
      "metadata": {
        "id": "u9QtZRrvI3jm"
      },
      "source": [
        "\n",
        "# Evaluation function"
      ]
    },
    {
      "cell_type": "code",
      "execution_count": 12,
      "id": "eUS-5UTrI2Oz",
      "metadata": {
        "id": "eUS-5UTrI2Oz"
      },
      "outputs": [],
      "source": [
        "\n",
        "def evaluate_model(model, test_loader, device):\n",
        "    model.eval()\n",
        "    all_preds = []\n",
        "    all_targets = []\n",
        "\n",
        "    with torch.no_grad():\n",
        "        for data, target in test_loader:\n",
        "            data, target = data.to(device), target.to(device)\n",
        "            output = model(data)\n",
        "            _, predicted = output.max(1)\n",
        "\n",
        "            all_preds.extend(predicted.cpu().numpy())\n",
        "            all_targets.extend(target.cpu().numpy())\n",
        "\n",
        "    # Calculate metrics\n",
        "    accuracy = sum(p == t for p, t in zip(all_preds, all_targets)) / len(all_preds) * 100\n",
        "\n",
        "    # Emotion labels\n",
        "    emotion_labels = ['Angry', 'Disgust', 'Fear', 'Happy', 'Sad', 'Surprise', 'Neutral']\n",
        "\n",
        "    # Classification report\n",
        "    report = classification_report(all_targets, all_preds, target_names=emotion_labels, output_dict=True)\n",
        "\n",
        "    # Confusion matrix\n",
        "    cm = confusion_matrix(all_targets, all_preds)\n",
        "\n",
        "    return accuracy, report, cm, all_preds, all_targets"
      ]
    },
    {
      "cell_type": "code",
      "execution_count": 13,
      "id": "cISWe7_yI5fC",
      "metadata": {
        "id": "cISWe7_yI5fC"
      },
      "outputs": [],
      "source": [
        "def create_data_transforms(config):\n",
        "    \"\"\"Create data transforms with augmentation\"\"\"\n",
        "    train_transform = transforms.Compose([\n",
        "        transforms.Resize((224, 224)),  # ResNet expects 224x224\n",
        "        transforms.RandomHorizontalFlip(p=0.5),\n",
        "        transforms.RandomRotation(10),\n",
        "        transforms.ColorJitter(brightness=0.2, contrast=0.2),\n",
        "        transforms.ToTensor(),\n",
        "        transforms.Normalize(mean=[0.485, 0.456, 0.406], std=[0.229, 0.224, 0.225])\n",
        "    ])\n",
        "\n",
        "    val_transform = transforms.Compose([\n",
        "        transforms.Resize((224, 224)),\n",
        "        transforms.ToTensor(),\n",
        "        transforms.Normalize(mean=[0.485, 0.456, 0.406], std=[0.229, 0.224, 0.225])\n",
        "    ])\n",
        "\n",
        "    return train_transform, val_transform"
      ]
    },
    {
      "cell_type": "code",
      "execution_count": 23,
      "id": "DksOLrQzI85-",
      "metadata": {
        "id": "DksOLrQzI85-"
      },
      "outputs": [],
      "source": [
        "from sklearn.model_selection import train_test_split\n",
        "from PIL import Image\n",
        "\n",
        "def run_experiment(config):\n",
        "    # Initialize wandb\n",
        "    wandb.init(project=\"facial-expression-recognition\",\n",
        "               name=config[\"model\"],\n",
        "               config=config)\n",
        "\n",
        "    # Set device\n",
        "    device = torch.device('cuda' if torch.cuda.is_available() else 'cpu')\n",
        "    print(f'Using device: {device}')\n",
        "\n",
        "    # Load data\n",
        "    print(\"Loading data...\")\n",
        "    try:\n",
        "        data = pd.read_csv('train.csv')\n",
        "    except FileNotFoundError:\n",
        "        print(\"Please download train.csv from Kaggle FER2013 dataset\")\n",
        "        return\n",
        "\n",
        "    print(\"Splitting data into train/val...\")\n",
        "    train_data, val_data = train_test_split(\n",
        "        data, test_size=0.15, stratify=data['emotion'], random_state=42\n",
        "    )\n",
        "\n",
        "    # Create transforms\n",
        "    train_transform, val_transform = create_data_transforms(config)\n",
        "\n",
        "    # Create datasets\n",
        "    train_dataset = FER2013Dataset(train_data, train_transform)\n",
        "    val_dataset = FER2013Dataset(val_data, val_transform)\n",
        "\n",
        "    # Create data loaders\n",
        "    train_loader = DataLoader(train_dataset, batch_size=config['batch_size'],\n",
        "                              shuffle=True, num_workers=2)\n",
        "    val_loader = DataLoader(val_dataset, batch_size=config['batch_size'],\n",
        "                            shuffle=False, num_workers=2)\n",
        "\n",
        "    # Create model\n",
        "    if config['model'] == 'resnet18':\n",
        "        model = ResNet18(dropout_rate=config['dropout'])\n",
        "    elif config['model'] == 'resnet34':\n",
        "        model = ResNet34(dropout_rate=config['dropout'])\n",
        "    elif config['model'] == 'resnet50':\n",
        "        model = ResNet50(dropout_rate=config['dropout'])\n",
        "    elif config['model'] == 'resnet101':\n",
        "        model = ResNet101(dropout_rate=config['dropout'])\n",
        "\n",
        "    model = model.to(device)\n",
        "\n",
        "    # Log model info\n",
        "    total_params = sum(p.numel() for p in model.parameters())\n",
        "    trainable_params = sum(p.numel() for p in model.parameters() if p.requires_grad)\n",
        "\n",
        "    wandb.log({\n",
        "        'total_parameters': total_params,\n",
        "        'trainable_parameters': trainable_params\n",
        "    })\n",
        "\n",
        "    print(f'Model: {config[\"model\"]}')\n",
        "    print(f'Total parameters: {total_params:,}')\n",
        "    print(f'Trainable parameters: {trainable_params:,}')\n",
        "\n",
        "    # Train model\n",
        "    best_val_acc = train_model(model, train_loader, val_loader, config, device)\n",
        "\n",
        "    # Load best model and evaluate\n",
        "    model.load_state_dict(torch.load(f'best_model_{wandb.run.name}.pth'))\n",
        "    test_acc, report, cm, preds, targets = evaluate_model(model, val_loader, device)  # test on val for now\n",
        "\n",
        "    # Log final results\n",
        "    wandb.log({\n",
        "        'best_val_accuracy': best_val_acc,\n",
        "        'test_accuracy': test_acc,\n",
        "        'precision_macro': report['macro avg']['precision'],\n",
        "        'recall_macro': report['macro avg']['recall'],\n",
        "        'f1_macro': report['macro avg']['f1-score']\n",
        "    })\n",
        "\n",
        "    print(f'Best Validation Accuracy: {best_val_acc:.2f}%')\n",
        "    print(f'Test Accuracy (Val): {test_acc:.2f}%')\n",
        "\n",
        "    # Confusion matrix\n",
        "    plt.figure(figsize=(10, 8))\n",
        "    emotion_labels = ['Angry', 'Disgust', 'Fear', 'Happy', 'Sad', 'Surprise', 'Neutral']\n",
        "    sns.heatmap(cm, annot=True, fmt='d', cmap='Blues',\n",
        "                xticklabels=emotion_labels, yticklabels=emotion_labels)\n",
        "    plt.title(f'Confusion Matrix - {config[\"model\"]}')\n",
        "    plt.ylabel('Actual')\n",
        "    plt.xlabel('Predicted')\n",
        "\n",
        "    # Log confusion matrix to wandb\n",
        "    wandb.log({\"confusion_matrix\": wandb.Image(plt)})\n",
        "    plt.close()\n",
        "\n",
        "    wandb.finish()\n"
      ]
    },
    {
      "cell_type": "markdown",
      "id": "YT8I6B3NJUW1",
      "metadata": {
        "id": "YT8I6B3NJUW1"
      },
      "source": [
        "# Different experiment configurations"
      ]
    },
    {
      "cell_type": "code",
      "execution_count": null,
      "id": "RjKSwXlnJPi-",
      "metadata": {
        "colab": {
          "base_uri": "https://localhost:8080/",
          "height": 1000
        },
        "id": "RjKSwXlnJPi-",
        "outputId": "c03b0529-4a8e-43a0-8ce0-c3cb3d632a9a"
      },
      "outputs": [
        {
          "name": "stdout",
          "output_type": "stream",
          "text": [
            "\n",
            "==================================================\n",
            "Running Experiment 1/7\n",
            "Config: {'model': 'resnet18', 'batch_size': 64, 'learning_rate': 0.001, 'epochs': 20, 'optimizer': 'adam', 'dropout': 0.3, 'weight_decay': 0.0001}\n",
            "==================================================\n",
            "\n"
          ]
        },
        {
          "data": {
            "text/html": [
              "Finishing previous runs because reinit is set to 'default'."
            ],
            "text/plain": [
              "<IPython.core.display.HTML object>"
            ]
          },
          "metadata": {},
          "output_type": "display_data"
        },
        {
          "data": {
            "text/html": [],
            "text/plain": [
              "<IPython.core.display.HTML object>"
            ]
          },
          "metadata": {},
          "output_type": "display_data"
        },
        {
          "data": {
            "text/html": [
              "<br>    <style><br>        .wandb-row {<br>            display: flex;<br>            flex-direction: row;<br>            flex-wrap: wrap;<br>            justify-content: flex-start;<br>            width: 100%;<br>        }<br>        .wandb-col {<br>            display: flex;<br>            flex-direction: column;<br>            flex-basis: 100%;<br>            flex: 1;<br>            padding: 10px;<br>        }<br>    </style><br><div class=\"wandb-row\"><div class=\"wandb-col\"><h3>Run history:</h3><br/><table class=\"wandb\"><tr><td>total_parameters</td><td>▁</td></tr><tr><td>trainable_parameters</td><td>▁</td></tr></table><br/></div><div class=\"wandb-col\"><h3>Run summary:</h3><br/><table class=\"wandb\"><tr><td>total_parameters</td><td>11180103</td></tr><tr><td>trainable_parameters</td><td>11180103</td></tr></table><br/></div></div>"
            ],
            "text/plain": [
              "<IPython.core.display.HTML object>"
            ]
          },
          "metadata": {},
          "output_type": "display_data"
        },
        {
          "data": {
            "text/html": [
              " View run <strong style=\"color:#cdcd00\">resnet18</strong> at: <a href='https://wandb.ai/ellekvirikashvili-free-university-of-tbilisi-/facial-expression-recognition/runs/o7gbsflk' target=\"_blank\">https://wandb.ai/ellekvirikashvili-free-university-of-tbilisi-/facial-expression-recognition/runs/o7gbsflk</a><br> View project at: <a href='https://wandb.ai/ellekvirikashvili-free-university-of-tbilisi-/facial-expression-recognition' target=\"_blank\">https://wandb.ai/ellekvirikashvili-free-university-of-tbilisi-/facial-expression-recognition</a><br>Synced 5 W&B file(s), 0 media file(s), 0 artifact file(s) and 0 other file(s)"
            ],
            "text/plain": [
              "<IPython.core.display.HTML object>"
            ]
          },
          "metadata": {},
          "output_type": "display_data"
        },
        {
          "data": {
            "text/html": [
              "Find logs at: <code>./wandb/run-20250530_174109-o7gbsflk/logs</code>"
            ],
            "text/plain": [
              "<IPython.core.display.HTML object>"
            ]
          },
          "metadata": {},
          "output_type": "display_data"
        },
        {
          "data": {
            "text/html": [
              "Tracking run with wandb version 0.19.11"
            ],
            "text/plain": [
              "<IPython.core.display.HTML object>"
            ]
          },
          "metadata": {},
          "output_type": "display_data"
        },
        {
          "data": {
            "text/html": [
              "Run data is saved locally in <code>/content/wandb/run-20250530_174301-6fevr4sx</code>"
            ],
            "text/plain": [
              "<IPython.core.display.HTML object>"
            ]
          },
          "metadata": {},
          "output_type": "display_data"
        },
        {
          "data": {
            "text/html": [
              "Syncing run <strong><a href='https://wandb.ai/ellekvirikashvili-free-university-of-tbilisi-/facial-expression-recognition/runs/6fevr4sx' target=\"_blank\">resnet18</a></strong> to <a href='https://wandb.ai/ellekvirikashvili-free-university-of-tbilisi-/facial-expression-recognition' target=\"_blank\">Weights & Biases</a> (<a href='https://wandb.me/developer-guide' target=\"_blank\">docs</a>)<br>"
            ],
            "text/plain": [
              "<IPython.core.display.HTML object>"
            ]
          },
          "metadata": {},
          "output_type": "display_data"
        },
        {
          "data": {
            "text/html": [
              " View project at <a href='https://wandb.ai/ellekvirikashvili-free-university-of-tbilisi-/facial-expression-recognition' target=\"_blank\">https://wandb.ai/ellekvirikashvili-free-university-of-tbilisi-/facial-expression-recognition</a>"
            ],
            "text/plain": [
              "<IPython.core.display.HTML object>"
            ]
          },
          "metadata": {},
          "output_type": "display_data"
        },
        {
          "data": {
            "text/html": [
              " View run at <a href='https://wandb.ai/ellekvirikashvili-free-university-of-tbilisi-/facial-expression-recognition/runs/6fevr4sx' target=\"_blank\">https://wandb.ai/ellekvirikashvili-free-university-of-tbilisi-/facial-expression-recognition/runs/6fevr4sx</a>"
            ],
            "text/plain": [
              "<IPython.core.display.HTML object>"
            ]
          },
          "metadata": {},
          "output_type": "display_data"
        },
        {
          "name": "stdout",
          "output_type": "stream",
          "text": [
            "Using device: cuda\n",
            "Loading data...\n",
            "Splitting data into train/val...\n",
            "Model: resnet18\n",
            "Total parameters: 11,180,103\n",
            "Trainable parameters: 11,180,103\n"
          ]
        },
        {
          "name": "stderr",
          "output_type": "stream",
          "text": [
            "Epoch 1/20 - Training: 100%|██████████| 382/382 [01:58<00:00,  3.23it/s, Loss=1.6164, Acc=24.62%]\n"
          ]
        },
        {
          "name": "stdout",
          "output_type": "stream",
          "text": [
            "Epoch 1: Train Acc: 24.62%, Val Acc: 25.42%\n"
          ]
        },
        {
          "name": "stderr",
          "output_type": "stream",
          "text": [
            "Epoch 2/20 - Training: 100%|██████████| 382/382 [01:55<00:00,  3.31it/s, Loss=1.1595, Acc=35.11%]\n"
          ]
        },
        {
          "name": "stdout",
          "output_type": "stream",
          "text": [
            "Epoch 2: Train Acc: 35.11%, Val Acc: 35.92%\n"
          ]
        },
        {
          "name": "stderr",
          "output_type": "stream",
          "text": [
            "Epoch 3/20 - Training: 100%|██████████| 382/382 [01:57<00:00,  3.26it/s, Loss=1.3383, Acc=45.77%]\n"
          ]
        },
        {
          "name": "stdout",
          "output_type": "stream",
          "text": [
            "Epoch 3: Train Acc: 45.77%, Val Acc: 41.42%\n"
          ]
        },
        {
          "name": "stderr",
          "output_type": "stream",
          "text": [
            "Epoch 4/20 - Training: 100%|██████████| 382/382 [01:54<00:00,  3.34it/s, Loss=1.1806, Acc=50.20%]\n"
          ]
        },
        {
          "name": "stdout",
          "output_type": "stream",
          "text": [
            "Epoch 4: Train Acc: 50.20%, Val Acc: 47.34%\n"
          ]
        },
        {
          "name": "stderr",
          "output_type": "stream",
          "text": [
            "Epoch 5/20 - Training: 100%|██████████| 382/382 [01:55<00:00,  3.30it/s, Loss=1.0989, Acc=53.44%]\n"
          ]
        },
        {
          "name": "stdout",
          "output_type": "stream",
          "text": [
            "Epoch 5: Train Acc: 53.44%, Val Acc: 50.01%\n"
          ]
        },
        {
          "name": "stderr",
          "output_type": "stream",
          "text": [
            "Epoch 6/20 - Training: 100%|██████████| 382/382 [01:52<00:00,  3.40it/s, Loss=1.4850, Acc=54.87%]\n"
          ]
        },
        {
          "name": "stdout",
          "output_type": "stream",
          "text": [
            "Epoch 6: Train Acc: 54.87%, Val Acc: 54.28%\n"
          ]
        },
        {
          "name": "stderr",
          "output_type": "stream",
          "text": [
            "Epoch 7/20 - Training: 100%|██████████| 382/382 [01:55<00:00,  3.31it/s, Loss=1.0695, Acc=56.73%]\n"
          ]
        },
        {
          "name": "stdout",
          "output_type": "stream",
          "text": [
            "Epoch 7: Train Acc: 56.73%, Val Acc: 56.19%\n"
          ]
        },
        {
          "name": "stderr",
          "output_type": "stream",
          "text": [
            "Epoch 8/20 - Training: 100%|██████████| 382/382 [01:54<00:00,  3.33it/s, Loss=1.3061, Acc=57.73%]\n"
          ]
        },
        {
          "name": "stdout",
          "output_type": "stream",
          "text": [
            "Epoch 8: Train Acc: 57.73%, Val Acc: 52.24%\n"
          ]
        },
        {
          "name": "stderr",
          "output_type": "stream",
          "text": [
            "Epoch 9/20 - Training: 100%|██████████| 382/382 [01:53<00:00,  3.37it/s, Loss=1.2038, Acc=59.15%]\n"
          ]
        },
        {
          "name": "stdout",
          "output_type": "stream",
          "text": [
            "Epoch 9: Train Acc: 59.15%, Val Acc: 57.05%\n"
          ]
        },
        {
          "name": "stderr",
          "output_type": "stream",
          "text": [
            "Epoch 10/20 - Training: 100%|██████████| 382/382 [01:55<00:00,  3.30it/s, Loss=0.8638, Acc=60.08%]\n"
          ]
        },
        {
          "name": "stdout",
          "output_type": "stream",
          "text": [
            "Epoch 10: Train Acc: 60.08%, Val Acc: 58.02%\n"
          ]
        },
        {
          "name": "stderr",
          "output_type": "stream",
          "text": [
            "Epoch 11/20 - Training: 100%|██████████| 382/382 [01:52<00:00,  3.41it/s, Loss=1.0394, Acc=64.41%]\n"
          ]
        },
        {
          "name": "stdout",
          "output_type": "stream",
          "text": [
            "Epoch 11: Train Acc: 64.41%, Val Acc: 63.55%\n"
          ]
        },
        {
          "name": "stderr",
          "output_type": "stream",
          "text": [
            "Epoch 12/20 - Training: 100%|██████████| 382/382 [01:53<00:00,  3.36it/s, Loss=0.9803, Acc=66.06%]\n"
          ]
        },
        {
          "name": "stdout",
          "output_type": "stream",
          "text": [
            "Epoch 12: Train Acc: 66.06%, Val Acc: 63.45%\n"
          ]
        },
        {
          "name": "stderr",
          "output_type": "stream",
          "text": [
            "Epoch 13/20 - Training: 100%|██████████| 382/382 [01:52<00:00,  3.39it/s, Loss=0.6433, Acc=66.83%]\n"
          ]
        },
        {
          "name": "stdout",
          "output_type": "stream",
          "text": [
            "Epoch 13: Train Acc: 66.83%, Val Acc: 64.59%\n"
          ]
        },
        {
          "name": "stderr",
          "output_type": "stream",
          "text": [
            "Epoch 14/20 - Training: 100%|██████████| 382/382 [01:54<00:00,  3.34it/s, Loss=1.5665, Acc=67.89%]\n"
          ]
        },
        {
          "name": "stdout",
          "output_type": "stream",
          "text": [
            "Epoch 14: Train Acc: 67.89%, Val Acc: 64.66%\n"
          ]
        },
        {
          "name": "stderr",
          "output_type": "stream",
          "text": [
            "Epoch 15/20 - Training: 100%|██████████| 382/382 [01:55<00:00,  3.32it/s, Loss=0.7048, Acc=68.74%]\n"
          ]
        },
        {
          "name": "stdout",
          "output_type": "stream",
          "text": [
            "Epoch 15: Train Acc: 68.74%, Val Acc: 64.66%\n"
          ]
        },
        {
          "name": "stderr",
          "output_type": "stream",
          "text": [
            "Epoch 16/20 - Training: 100%|██████████| 382/382 [01:52<00:00,  3.40it/s, Loss=0.7971, Acc=69.43%]\n"
          ]
        },
        {
          "name": "stdout",
          "output_type": "stream",
          "text": [
            "Epoch 16: Train Acc: 69.43%, Val Acc: 64.50%\n"
          ]
        },
        {
          "name": "stderr",
          "output_type": "stream",
          "text": [
            "Epoch 17/20 - Training: 100%|██████████| 382/382 [01:54<00:00,  3.32it/s, Loss=0.6469, Acc=69.81%]\n"
          ]
        },
        {
          "name": "stdout",
          "output_type": "stream",
          "text": [
            "Epoch 17: Train Acc: 69.81%, Val Acc: 64.43%\n"
          ]
        },
        {
          "name": "stderr",
          "output_type": "stream",
          "text": [
            "Epoch 18/20 - Training: 100%|██████████| 382/382 [01:54<00:00,  3.34it/s, Loss=0.6414, Acc=71.21%]\n"
          ]
        },
        {
          "name": "stdout",
          "output_type": "stream",
          "text": [
            "Epoch 18: Train Acc: 71.21%, Val Acc: 65.31%\n"
          ]
        },
        {
          "name": "stderr",
          "output_type": "stream",
          "text": [
            "Epoch 19/20 - Training: 100%|██████████| 382/382 [01:58<00:00,  3.23it/s, Loss=0.7552, Acc=72.13%]\n"
          ]
        },
        {
          "name": "stdout",
          "output_type": "stream",
          "text": [
            "Epoch 19: Train Acc: 72.13%, Val Acc: 65.13%\n"
          ]
        },
        {
          "name": "stderr",
          "output_type": "stream",
          "text": [
            "Epoch 20/20 - Training: 100%|██████████| 382/382 [01:54<00:00,  3.33it/s, Loss=0.4071, Acc=73.43%]\n"
          ]
        },
        {
          "name": "stdout",
          "output_type": "stream",
          "text": [
            "Epoch 20: Train Acc: 73.43%, Val Acc: 64.73%\n",
            "Best Validation Accuracy: 65.31%\n",
            "Test Accuracy (Val): 65.31%\n"
          ]
        },
        {
          "data": {
            "text/html": [],
            "text/plain": [
              "<IPython.core.display.HTML object>"
            ]
          },
          "metadata": {},
          "output_type": "display_data"
        },
        {
          "data": {
            "text/html": [
              "<br>    <style><br>        .wandb-row {<br>            display: flex;<br>            flex-direction: row;<br>            flex-wrap: wrap;<br>            justify-content: flex-start;<br>            width: 100%;<br>        }<br>        .wandb-col {<br>            display: flex;<br>            flex-direction: column;<br>            flex-basis: 100%;<br>            flex: 1;<br>            padding: 10px;<br>        }<br>    </style><br><div class=\"wandb-row\"><div class=\"wandb-col\"><h3>Run history:</h3><br/><table class=\"wandb\"><tr><td>best_val_accuracy</td><td>▁</td></tr><tr><td>epoch</td><td>▁▁▂▂▂▃▃▄▄▄▅▅▅▆▆▇▇▇██</td></tr><tr><td>f1_macro</td><td>▁</td></tr><tr><td>learning_rate</td><td>██████████▁▁▁▁▁▁▁▁▁▁</td></tr><tr><td>precision_macro</td><td>▁</td></tr><tr><td>recall_macro</td><td>▁</td></tr><tr><td>test_accuracy</td><td>▁</td></tr><tr><td>total_parameters</td><td>▁</td></tr><tr><td>train_accuracy</td><td>▁▃▄▅▅▅▆▆▆▆▇▇▇▇▇▇▇███</td></tr><tr><td>train_loss</td><td>█▇▅▅▄▄▄▃▃▃▂▂▂▂▂▂▂▁▁▁</td></tr><tr><td>trainable_parameters</td><td>▁</td></tr><tr><td>val_accuracy</td><td>▁▃▄▅▅▆▆▆▇▇██████████</td></tr><tr><td>val_loss</td><td>█▇▆▄▅▃▃▃▃▂▁▁▁▁▁▁▁▁▁▁</td></tr></table><br/></div><div class=\"wandb-col\"><h3>Run summary:</h3><br/><table class=\"wandb\"><tr><td>best_val_accuracy</td><td>65.31228</td></tr><tr><td>epoch</td><td>20</td></tr><tr><td>f1_macro</td><td>0.6036</td></tr><tr><td>learning_rate</td><td>0.0001</td></tr><tr><td>precision_macro</td><td>0.64015</td></tr><tr><td>recall_macro</td><td>0.59019</td></tr><tr><td>test_accuracy</td><td>65.31228</td></tr><tr><td>total_parameters</td><td>11180103</td></tr><tr><td>train_accuracy</td><td>73.42841</td></tr><tr><td>train_loss</td><td>0.71998</td></tr><tr><td>trainable_parameters</td><td>11180103</td></tr><tr><td>val_accuracy</td><td>64.73183</td></tr><tr><td>val_loss</td><td>0.95384</td></tr></table><br/></div></div>"
            ],
            "text/plain": [
              "<IPython.core.display.HTML object>"
            ]
          },
          "metadata": {},
          "output_type": "display_data"
        },
        {
          "data": {
            "text/html": [
              " View run <strong style=\"color:#cdcd00\">resnet18</strong> at: <a href='https://wandb.ai/ellekvirikashvili-free-university-of-tbilisi-/facial-expression-recognition/runs/6fevr4sx' target=\"_blank\">https://wandb.ai/ellekvirikashvili-free-university-of-tbilisi-/facial-expression-recognition/runs/6fevr4sx</a><br> View project at: <a href='https://wandb.ai/ellekvirikashvili-free-university-of-tbilisi-/facial-expression-recognition' target=\"_blank\">https://wandb.ai/ellekvirikashvili-free-university-of-tbilisi-/facial-expression-recognition</a><br>Synced 5 W&B file(s), 1 media file(s), 0 artifact file(s) and 0 other file(s)"
            ],
            "text/plain": [
              "<IPython.core.display.HTML object>"
            ]
          },
          "metadata": {},
          "output_type": "display_data"
        },
        {
          "data": {
            "text/html": [
              "Find logs at: <code>./wandb/run-20250530_174301-6fevr4sx/logs</code>"
            ],
            "text/plain": [
              "<IPython.core.display.HTML object>"
            ]
          },
          "metadata": {},
          "output_type": "display_data"
        },
        {
          "name": "stdout",
          "output_type": "stream",
          "text": [
            "\n",
            "==================================================\n",
            "Running Experiment 2/7\n",
            "Config: {'model': 'resnet18', 'batch_size': 32, 'learning_rate': 0.01, 'epochs': 20, 'optimizer': 'sgd', 'dropout': 0.5, 'weight_decay': 0.0001}\n",
            "==================================================\n",
            "\n"
          ]
        },
        {
          "data": {
            "text/html": [
              "Tracking run with wandb version 0.19.11"
            ],
            "text/plain": [
              "<IPython.core.display.HTML object>"
            ]
          },
          "metadata": {},
          "output_type": "display_data"
        },
        {
          "data": {
            "text/html": [
              "Run data is saved locally in <code>/content/wandb/run-20250530_182517-62mn0jg8</code>"
            ],
            "text/plain": [
              "<IPython.core.display.HTML object>"
            ]
          },
          "metadata": {},
          "output_type": "display_data"
        },
        {
          "data": {
            "text/html": [
              "Syncing run <strong><a href='https://wandb.ai/ellekvirikashvili-free-university-of-tbilisi-/facial-expression-recognition/runs/62mn0jg8' target=\"_blank\">resnet18</a></strong> to <a href='https://wandb.ai/ellekvirikashvili-free-university-of-tbilisi-/facial-expression-recognition' target=\"_blank\">Weights & Biases</a> (<a href='https://wandb.me/developer-guide' target=\"_blank\">docs</a>)<br>"
            ],
            "text/plain": [
              "<IPython.core.display.HTML object>"
            ]
          },
          "metadata": {},
          "output_type": "display_data"
        },
        {
          "data": {
            "text/html": [
              " View project at <a href='https://wandb.ai/ellekvirikashvili-free-university-of-tbilisi-/facial-expression-recognition' target=\"_blank\">https://wandb.ai/ellekvirikashvili-free-university-of-tbilisi-/facial-expression-recognition</a>"
            ],
            "text/plain": [
              "<IPython.core.display.HTML object>"
            ]
          },
          "metadata": {},
          "output_type": "display_data"
        },
        {
          "data": {
            "text/html": [
              " View run at <a href='https://wandb.ai/ellekvirikashvili-free-university-of-tbilisi-/facial-expression-recognition/runs/62mn0jg8' target=\"_blank\">https://wandb.ai/ellekvirikashvili-free-university-of-tbilisi-/facial-expression-recognition/runs/62mn0jg8</a>"
            ],
            "text/plain": [
              "<IPython.core.display.HTML object>"
            ]
          },
          "metadata": {},
          "output_type": "display_data"
        },
        {
          "name": "stdout",
          "output_type": "stream",
          "text": [
            "Using device: cuda\n",
            "Loading data...\n",
            "Splitting data into train/val...\n",
            "Model: resnet18\n",
            "Total parameters: 11,180,103\n",
            "Trainable parameters: 11,180,103\n"
          ]
        },
        {
          "name": "stderr",
          "output_type": "stream",
          "text": [
            "Epoch 1/20 - Training: 100%|██████████| 763/763 [01:59<00:00,  6.41it/s, Loss=1.9734, Acc=23.15%]\n"
          ]
        },
        {
          "name": "stdout",
          "output_type": "stream",
          "text": [
            "Epoch 1: Train Acc: 23.15%, Val Acc: 25.12%\n"
          ]
        },
        {
          "name": "stderr",
          "output_type": "stream",
          "text": [
            "Epoch 2/20 - Training: 100%|██████████| 763/763 [02:02<00:00,  6.23it/s, Loss=1.6080, Acc=27.62%]\n"
          ]
        },
        {
          "name": "stdout",
          "output_type": "stream",
          "text": [
            "Epoch 2: Train Acc: 27.62%, Val Acc: 30.67%\n"
          ]
        },
        {
          "name": "stderr",
          "output_type": "stream",
          "text": [
            "Epoch 3/20 - Training: 100%|██████████| 763/763 [01:59<00:00,  6.36it/s, Loss=1.5932, Acc=40.97%]\n"
          ]
        },
        {
          "name": "stdout",
          "output_type": "stream",
          "text": [
            "Epoch 3: Train Acc: 40.97%, Val Acc: 45.39%\n"
          ]
        },
        {
          "name": "stderr",
          "output_type": "stream",
          "text": [
            "Epoch 4/20 - Training: 100%|██████████| 763/763 [02:01<00:00,  6.28it/s, Loss=1.6223, Acc=47.76%]\n"
          ]
        },
        {
          "name": "stdout",
          "output_type": "stream",
          "text": [
            "Epoch 4: Train Acc: 47.76%, Val Acc: 51.06%\n"
          ]
        },
        {
          "name": "stderr",
          "output_type": "stream",
          "text": [
            "Epoch 5/20 - Training: 100%|██████████| 763/763 [02:00<00:00,  6.32it/s, Loss=0.9011, Acc=51.86%]\n"
          ]
        },
        {
          "name": "stdout",
          "output_type": "stream",
          "text": [
            "Epoch 5: Train Acc: 51.86%, Val Acc: 53.84%\n"
          ]
        },
        {
          "name": "stderr",
          "output_type": "stream",
          "text": [
            "Epoch 6/20 - Training: 100%|██████████| 763/763 [01:58<00:00,  6.43it/s, Loss=0.7670, Acc=54.98%]\n"
          ]
        },
        {
          "name": "stdout",
          "output_type": "stream",
          "text": [
            "Epoch 6: Train Acc: 54.98%, Val Acc: 56.81%\n"
          ]
        },
        {
          "name": "stderr",
          "output_type": "stream",
          "text": [
            "Epoch 7/20 - Training: 100%|██████████| 763/763 [02:01<00:00,  6.27it/s, Loss=0.9799, Acc=56.93%]\n"
          ]
        },
        {
          "name": "stdout",
          "output_type": "stream",
          "text": [
            "Epoch 7: Train Acc: 56.93%, Val Acc: 57.02%\n"
          ]
        },
        {
          "name": "stderr",
          "output_type": "stream",
          "text": [
            "Epoch 8/20 - Training: 100%|██████████| 763/763 [02:04<00:00,  6.14it/s, Loss=1.2395, Acc=58.96%]\n"
          ]
        },
        {
          "name": "stdout",
          "output_type": "stream",
          "text": [
            "Epoch 8: Train Acc: 58.96%, Val Acc: 59.02%\n"
          ]
        },
        {
          "name": "stderr",
          "output_type": "stream",
          "text": [
            "Epoch 9/20 - Training: 100%|██████████| 763/763 [02:02<00:00,  6.21it/s, Loss=1.0654, Acc=60.10%]\n"
          ]
        },
        {
          "name": "stdout",
          "output_type": "stream",
          "text": [
            "Epoch 9: Train Acc: 60.10%, Val Acc: 59.72%\n"
          ]
        },
        {
          "name": "stderr",
          "output_type": "stream",
          "text": [
            "Epoch 10/20 - Training: 100%|██████████| 763/763 [02:00<00:00,  6.33it/s, Loss=0.8007, Acc=61.61%]\n"
          ]
        },
        {
          "name": "stdout",
          "output_type": "stream",
          "text": [
            "Epoch 10: Train Acc: 61.61%, Val Acc: 60.81%\n"
          ]
        },
        {
          "name": "stderr",
          "output_type": "stream",
          "text": [
            "Epoch 11/20 - Training: 100%|██████████| 763/763 [01:59<00:00,  6.37it/s, Loss=1.0538, Acc=66.55%]\n"
          ]
        },
        {
          "name": "stdout",
          "output_type": "stream",
          "text": [
            "Epoch 11: Train Acc: 66.55%, Val Acc: 63.62%\n"
          ]
        },
        {
          "name": "stderr",
          "output_type": "stream",
          "text": [
            "Epoch 12/20 - Training: 100%|██████████| 763/763 [02:03<00:00,  6.20it/s, Loss=0.6188, Acc=68.05%]\n"
          ]
        },
        {
          "name": "stdout",
          "output_type": "stream",
          "text": [
            "Epoch 12: Train Acc: 68.05%, Val Acc: 64.22%\n"
          ]
        },
        {
          "name": "stderr",
          "output_type": "stream",
          "text": [
            "Epoch 13/20 - Training: 100%|██████████| 763/763 [01:59<00:00,  6.40it/s, Loss=0.7357, Acc=69.00%]\n"
          ]
        },
        {
          "name": "stdout",
          "output_type": "stream",
          "text": [
            "Epoch 13: Train Acc: 69.00%, Val Acc: 64.36%\n"
          ]
        },
        {
          "name": "stderr",
          "output_type": "stream",
          "text": [
            "Epoch 14/20 - Training: 100%|██████████| 763/763 [01:59<00:00,  6.40it/s, Loss=0.7571, Acc=70.01%]\n"
          ]
        },
        {
          "name": "stdout",
          "output_type": "stream",
          "text": [
            "Epoch 14: Train Acc: 70.01%, Val Acc: 64.57%\n"
          ]
        },
        {
          "name": "stderr",
          "output_type": "stream",
          "text": [
            "Epoch 15/20 - Training: 100%|██████████| 763/763 [01:59<00:00,  6.39it/s, Loss=1.7971, Acc=71.32%]\n"
          ]
        },
        {
          "name": "stdout",
          "output_type": "stream",
          "text": [
            "Epoch 15: Train Acc: 71.32%, Val Acc: 64.38%\n"
          ]
        },
        {
          "name": "stderr",
          "output_type": "stream",
          "text": [
            "Epoch 16/20 - Training: 100%|██████████| 763/763 [01:56<00:00,  6.54it/s, Loss=0.7689, Acc=71.64%]\n"
          ]
        },
        {
          "name": "stdout",
          "output_type": "stream",
          "text": [
            "Epoch 16: Train Acc: 71.64%, Val Acc: 64.71%\n"
          ]
        },
        {
          "name": "stderr",
          "output_type": "stream",
          "text": [
            "Epoch 17/20 - Training: 100%|██████████| 763/763 [01:59<00:00,  6.38it/s, Loss=0.6375, Acc=72.56%]\n"
          ]
        },
        {
          "name": "stdout",
          "output_type": "stream",
          "text": [
            "Epoch 17: Train Acc: 72.56%, Val Acc: 64.69%\n"
          ]
        },
        {
          "name": "stderr",
          "output_type": "stream",
          "text": [
            "Epoch 18/20 - Training: 100%|██████████| 763/763 [01:59<00:00,  6.40it/s, Loss=0.6350, Acc=73.72%]\n"
          ]
        },
        {
          "name": "stdout",
          "output_type": "stream",
          "text": [
            "Epoch 18: Train Acc: 73.72%, Val Acc: 64.41%\n"
          ]
        },
        {
          "name": "stderr",
          "output_type": "stream",
          "text": [
            "Epoch 19/20 - Training: 100%|██████████| 763/763 [01:58<00:00,  6.45it/s, Loss=0.5904, Acc=74.76%]\n"
          ]
        },
        {
          "name": "stdout",
          "output_type": "stream",
          "text": [
            "Epoch 19: Train Acc: 74.76%, Val Acc: 64.08%\n"
          ]
        },
        {
          "name": "stderr",
          "output_type": "stream",
          "text": [
            "Epoch 20/20 - Training: 100%|██████████| 763/763 [02:00<00:00,  6.35it/s, Loss=1.0553, Acc=75.58%]\n"
          ]
        },
        {
          "name": "stdout",
          "output_type": "stream",
          "text": [
            "Epoch 20: Train Acc: 75.58%, Val Acc: 64.87%\n",
            "Best Validation Accuracy: 64.87%\n",
            "Test Accuracy (Val): 64.87%\n"
          ]
        },
        {
          "data": {
            "text/html": [],
            "text/plain": [
              "<IPython.core.display.HTML object>"
            ]
          },
          "metadata": {},
          "output_type": "display_data"
        },
        {
          "data": {
            "text/html": [
              "<br>    <style><br>        .wandb-row {<br>            display: flex;<br>            flex-direction: row;<br>            flex-wrap: wrap;<br>            justify-content: flex-start;<br>            width: 100%;<br>        }<br>        .wandb-col {<br>            display: flex;<br>            flex-direction: column;<br>            flex-basis: 100%;<br>            flex: 1;<br>            padding: 10px;<br>        }<br>    </style><br><div class=\"wandb-row\"><div class=\"wandb-col\"><h3>Run history:</h3><br/><table class=\"wandb\"><tr><td>best_val_accuracy</td><td>▁</td></tr><tr><td>epoch</td><td>▁▁▂▂▂▃▃▄▄▄▅▅▅▆▆▇▇▇██</td></tr><tr><td>f1_macro</td><td>▁</td></tr><tr><td>learning_rate</td><td>██████████▁▁▁▁▁▁▁▁▁▁</td></tr><tr><td>precision_macro</td><td>▁</td></tr><tr><td>recall_macro</td><td>▁</td></tr><tr><td>test_accuracy</td><td>▁</td></tr><tr><td>total_parameters</td><td>▁</td></tr><tr><td>train_accuracy</td><td>▁▂▃▄▅▅▆▆▆▆▇▇▇▇▇▇████</td></tr><tr><td>train_loss</td><td>█▇▆▅▄▄▄▃▃▃▂▂▂▂▂▂▁▁▁▁</td></tr><tr><td>trainable_parameters</td><td>▁</td></tr><tr><td>val_accuracy</td><td>▁▂▅▆▆▇▇▇▇▇██████████</td></tr><tr><td>val_loss</td><td>█▇▅▃▃▂▃▂▂▂▁▁▁▁▁▁▁▁▁▁</td></tr></table><br/></div><div class=\"wandb-col\"><h3>Run summary:</h3><br/><table class=\"wandb\"><tr><td>best_val_accuracy</td><td>64.87114</td></tr><tr><td>epoch</td><td>20</td></tr><tr><td>f1_macro</td><td>0.60561</td></tr><tr><td>learning_rate</td><td>0.001</td></tr><tr><td>precision_macro</td><td>0.64348</td></tr><tr><td>recall_macro</td><td>0.59006</td></tr><tr><td>test_accuracy</td><td>64.87114</td></tr><tr><td>total_parameters</td><td>11180103</td></tr><tr><td>train_accuracy</td><td>75.57577</td></tr><tr><td>train_loss</td><td>0.66528</td></tr><tr><td>trainable_parameters</td><td>11180103</td></tr><tr><td>val_accuracy</td><td>64.87114</td></tr><tr><td>val_loss</td><td>1.00814</td></tr></table><br/></div></div>"
            ],
            "text/plain": [
              "<IPython.core.display.HTML object>"
            ]
          },
          "metadata": {},
          "output_type": "display_data"
        },
        {
          "data": {
            "text/html": [
              " View run <strong style=\"color:#cdcd00\">resnet18</strong> at: <a href='https://wandb.ai/ellekvirikashvili-free-university-of-tbilisi-/facial-expression-recognition/runs/62mn0jg8' target=\"_blank\">https://wandb.ai/ellekvirikashvili-free-university-of-tbilisi-/facial-expression-recognition/runs/62mn0jg8</a><br> View project at: <a href='https://wandb.ai/ellekvirikashvili-free-university-of-tbilisi-/facial-expression-recognition' target=\"_blank\">https://wandb.ai/ellekvirikashvili-free-university-of-tbilisi-/facial-expression-recognition</a><br>Synced 5 W&B file(s), 1 media file(s), 0 artifact file(s) and 0 other file(s)"
            ],
            "text/plain": [
              "<IPython.core.display.HTML object>"
            ]
          },
          "metadata": {},
          "output_type": "display_data"
        },
        {
          "data": {
            "text/html": [
              "Find logs at: <code>./wandb/run-20250530_182517-62mn0jg8/logs</code>"
            ],
            "text/plain": [
              "<IPython.core.display.HTML object>"
            ]
          },
          "metadata": {},
          "output_type": "display_data"
        },
        {
          "name": "stdout",
          "output_type": "stream",
          "text": [
            "\n",
            "==================================================\n",
            "Running Experiment 3/7\n",
            "Config: {'model': 'resnet34', 'batch_size': 64, 'learning_rate': 0.001, 'epochs': 20, 'optimizer': 'adam', 'dropout': 0.3, 'weight_decay': 0.0001}\n",
            "==================================================\n",
            "\n"
          ]
        },
        {
          "data": {
            "text/html": [
              "Tracking run with wandb version 0.19.11"
            ],
            "text/plain": [
              "<IPython.core.display.HTML object>"
            ]
          },
          "metadata": {},
          "output_type": "display_data"
        },
        {
          "data": {
            "text/html": [
              "Run data is saved locally in <code>/content/wandb/run-20250530_190922-147ezqkp</code>"
            ],
            "text/plain": [
              "<IPython.core.display.HTML object>"
            ]
          },
          "metadata": {},
          "output_type": "display_data"
        },
        {
          "data": {
            "text/html": [
              "Syncing run <strong><a href='https://wandb.ai/ellekvirikashvili-free-university-of-tbilisi-/facial-expression-recognition/runs/147ezqkp' target=\"_blank\">resnet34</a></strong> to <a href='https://wandb.ai/ellekvirikashvili-free-university-of-tbilisi-/facial-expression-recognition' target=\"_blank\">Weights & Biases</a> (<a href='https://wandb.me/developer-guide' target=\"_blank\">docs</a>)<br>"
            ],
            "text/plain": [
              "<IPython.core.display.HTML object>"
            ]
          },
          "metadata": {},
          "output_type": "display_data"
        },
        {
          "data": {
            "text/html": [
              " View project at <a href='https://wandb.ai/ellekvirikashvili-free-university-of-tbilisi-/facial-expression-recognition' target=\"_blank\">https://wandb.ai/ellekvirikashvili-free-university-of-tbilisi-/facial-expression-recognition</a>"
            ],
            "text/plain": [
              "<IPython.core.display.HTML object>"
            ]
          },
          "metadata": {},
          "output_type": "display_data"
        },
        {
          "data": {
            "text/html": [
              " View run at <a href='https://wandb.ai/ellekvirikashvili-free-university-of-tbilisi-/facial-expression-recognition/runs/147ezqkp' target=\"_blank\">https://wandb.ai/ellekvirikashvili-free-university-of-tbilisi-/facial-expression-recognition/runs/147ezqkp</a>"
            ],
            "text/plain": [
              "<IPython.core.display.HTML object>"
            ]
          },
          "metadata": {},
          "output_type": "display_data"
        },
        {
          "name": "stdout",
          "output_type": "stream",
          "text": [
            "Using device: cuda\n",
            "Loading data...\n",
            "Splitting data into train/val...\n",
            "Model: resnet34\n",
            "Total parameters: 21,288,263\n",
            "Trainable parameters: 21,288,263\n"
          ]
        },
        {
          "name": "stderr",
          "output_type": "stream",
          "text": [
            "Epoch 1/20 - Training: 100%|██████████| 382/382 [02:16<00:00,  2.79it/s, Loss=1.7521, Acc=23.76%]\n"
          ]
        },
        {
          "name": "stdout",
          "output_type": "stream",
          "text": [
            "Epoch 1: Train Acc: 23.76%, Val Acc: 26.79%\n"
          ]
        },
        {
          "name": "stderr",
          "output_type": "stream",
          "text": [
            "Epoch 2/20 - Training: 100%|██████████| 382/382 [02:18<00:00,  2.76it/s, Loss=1.4850, Acc=32.83%]\n"
          ]
        },
        {
          "name": "stdout",
          "output_type": "stream",
          "text": [
            "Epoch 2: Train Acc: 32.83%, Val Acc: 28.51%\n"
          ]
        },
        {
          "name": "stderr",
          "output_type": "stream",
          "text": [
            "Epoch 3/20 - Training: 100%|██████████| 382/382 [02:15<00:00,  2.81it/s, Loss=1.1612, Acc=44.06%]\n"
          ]
        },
        {
          "name": "stdout",
          "output_type": "stream",
          "text": [
            "Epoch 3: Train Acc: 44.06%, Val Acc: 48.15%\n"
          ]
        },
        {
          "name": "stderr",
          "output_type": "stream",
          "text": [
            "Epoch 4/20 - Training: 100%|██████████| 382/382 [02:18<00:00,  2.75it/s, Loss=1.4368, Acc=48.44%]\n"
          ]
        },
        {
          "name": "stdout",
          "output_type": "stream",
          "text": [
            "Epoch 4: Train Acc: 48.44%, Val Acc: 47.97%\n"
          ]
        },
        {
          "name": "stderr",
          "output_type": "stream",
          "text": [
            "Epoch 5/20 - Training: 100%|██████████| 382/382 [02:18<00:00,  2.75it/s, Loss=1.5346, Acc=51.40%]\n"
          ]
        },
        {
          "name": "stdout",
          "output_type": "stream",
          "text": [
            "Epoch 5: Train Acc: 51.40%, Val Acc: 49.27%\n"
          ]
        },
        {
          "name": "stderr",
          "output_type": "stream",
          "text": [
            "Epoch 6/20 - Training: 100%|██████████| 382/382 [02:17<00:00,  2.79it/s, Loss=1.0563, Acc=53.32%]\n"
          ]
        },
        {
          "name": "stdout",
          "output_type": "stream",
          "text": [
            "Epoch 6: Train Acc: 53.32%, Val Acc: 51.64%\n"
          ]
        },
        {
          "name": "stderr",
          "output_type": "stream",
          "text": [
            "Epoch 7/20 - Training: 100%|██████████| 382/382 [02:15<00:00,  2.82it/s, Loss=0.8037, Acc=55.58%]\n"
          ]
        },
        {
          "name": "stdout",
          "output_type": "stream",
          "text": [
            "Epoch 7: Train Acc: 55.58%, Val Acc: 54.75%\n"
          ]
        },
        {
          "name": "stderr",
          "output_type": "stream",
          "text": [
            "Epoch 8/20 - Training: 100%|██████████| 382/382 [02:19<00:00,  2.75it/s, Loss=0.9415, Acc=56.48%]\n"
          ]
        },
        {
          "name": "stdout",
          "output_type": "stream",
          "text": [
            "Epoch 8: Train Acc: 56.48%, Val Acc: 51.47%\n"
          ]
        },
        {
          "name": "stderr",
          "output_type": "stream",
          "text": [
            "Epoch 9/20 - Training: 100%|██████████| 382/382 [02:18<00:00,  2.76it/s, Loss=0.8593, Acc=57.33%]\n"
          ]
        },
        {
          "name": "stdout",
          "output_type": "stream",
          "text": [
            "Epoch 9: Train Acc: 57.33%, Val Acc: 56.21%\n"
          ]
        },
        {
          "name": "stderr",
          "output_type": "stream",
          "text": [
            "Epoch 10/20 - Training: 100%|██████████| 382/382 [02:18<00:00,  2.75it/s, Loss=1.3616, Acc=59.02%]\n"
          ]
        },
        {
          "name": "stdout",
          "output_type": "stream",
          "text": [
            "Epoch 10: Train Acc: 59.02%, Val Acc: 54.52%\n"
          ]
        },
        {
          "name": "stderr",
          "output_type": "stream",
          "text": [
            "Epoch 11/20 - Training: 100%|██████████| 382/382 [02:19<00:00,  2.73it/s, Loss=1.1925, Acc=63.24%]\n"
          ]
        },
        {
          "name": "stdout",
          "output_type": "stream",
          "text": [
            "Epoch 11: Train Acc: 63.24%, Val Acc: 61.97%\n"
          ]
        },
        {
          "name": "stderr",
          "output_type": "stream",
          "text": [
            "Epoch 12/20 - Training: 100%|██████████| 382/382 [02:16<00:00,  2.80it/s, Loss=1.0985, Acc=64.86%]\n"
          ]
        },
        {
          "name": "stdout",
          "output_type": "stream",
          "text": [
            "Epoch 12: Train Acc: 64.86%, Val Acc: 63.11%\n"
          ]
        },
        {
          "name": "stderr",
          "output_type": "stream",
          "text": [
            "Epoch 13/20 - Training: 100%|██████████| 382/382 [02:18<00:00,  2.75it/s, Loss=0.7250, Acc=65.85%]\n"
          ]
        },
        {
          "name": "stdout",
          "output_type": "stream",
          "text": [
            "Epoch 13: Train Acc: 65.85%, Val Acc: 62.62%\n"
          ]
        },
        {
          "name": "stderr",
          "output_type": "stream",
          "text": [
            "Epoch 14/20 - Training: 100%|██████████| 382/382 [02:17<00:00,  2.77it/s, Loss=0.7554, Acc=65.85%]\n"
          ]
        },
        {
          "name": "stdout",
          "output_type": "stream",
          "text": [
            "Epoch 14: Train Acc: 65.85%, Val Acc: 63.20%\n"
          ]
        },
        {
          "name": "stderr",
          "output_type": "stream",
          "text": [
            "Epoch 15/20 - Training: 100%|██████████| 382/382 [02:18<00:00,  2.76it/s, Loss=0.6937, Acc=67.15%]\n"
          ]
        },
        {
          "name": "stdout",
          "output_type": "stream",
          "text": [
            "Epoch 15: Train Acc: 67.15%, Val Acc: 63.20%\n"
          ]
        },
        {
          "name": "stderr",
          "output_type": "stream",
          "text": [
            "Epoch 16/20 - Training: 100%|██████████| 382/382 [02:19<00:00,  2.73it/s, Loss=0.9312, Acc=67.74%]\n"
          ]
        },
        {
          "name": "stdout",
          "output_type": "stream",
          "text": [
            "Epoch 16: Train Acc: 67.74%, Val Acc: 63.76%\n"
          ]
        },
        {
          "name": "stderr",
          "output_type": "stream",
          "text": [
            "Epoch 17/20 - Training: 100%|██████████| 382/382 [02:17<00:00,  2.78it/s, Loss=0.7002, Acc=68.61%]\n"
          ]
        },
        {
          "name": "stdout",
          "output_type": "stream",
          "text": [
            "Epoch 17: Train Acc: 68.61%, Val Acc: 63.22%\n"
          ]
        },
        {
          "name": "stderr",
          "output_type": "stream",
          "text": [
            "Epoch 18/20 - Training: 100%|██████████| 382/382 [02:19<00:00,  2.73it/s, Loss=1.3602, Acc=69.65%]\n"
          ]
        },
        {
          "name": "stdout",
          "output_type": "stream",
          "text": [
            "Epoch 18: Train Acc: 69.65%, Val Acc: 63.25%\n"
          ]
        },
        {
          "name": "stderr",
          "output_type": "stream",
          "text": [
            "Epoch 19/20 - Training: 100%|██████████| 382/382 [02:18<00:00,  2.75it/s, Loss=0.8360, Acc=70.71%]\n"
          ]
        },
        {
          "name": "stdout",
          "output_type": "stream",
          "text": [
            "Epoch 19: Train Acc: 70.71%, Val Acc: 62.85%\n"
          ]
        },
        {
          "name": "stderr",
          "output_type": "stream",
          "text": [
            "Epoch 20/20 - Training: 100%|██████████| 382/382 [02:18<00:00,  2.75it/s, Loss=0.6290, Acc=71.40%]\n"
          ]
        },
        {
          "name": "stdout",
          "output_type": "stream",
          "text": [
            "Epoch 20: Train Acc: 71.40%, Val Acc: 63.90%\n",
            "Best Validation Accuracy: 63.90%\n",
            "Test Accuracy (Val): 63.90%\n"
          ]
        },
        {
          "data": {
            "text/html": [],
            "text/plain": [
              "<IPython.core.display.HTML object>"
            ]
          },
          "metadata": {},
          "output_type": "display_data"
        },
        {
          "data": {
            "text/html": [
              "<br>    <style><br>        .wandb-row {<br>            display: flex;<br>            flex-direction: row;<br>            flex-wrap: wrap;<br>            justify-content: flex-start;<br>            width: 100%;<br>        }<br>        .wandb-col {<br>            display: flex;<br>            flex-direction: column;<br>            flex-basis: 100%;<br>            flex: 1;<br>            padding: 10px;<br>        }<br>    </style><br><div class=\"wandb-row\"><div class=\"wandb-col\"><h3>Run history:</h3><br/><table class=\"wandb\"><tr><td>best_val_accuracy</td><td>▁</td></tr><tr><td>epoch</td><td>▁▁▂▂▂▃▃▄▄▄▅▅▅▆▆▇▇▇██</td></tr><tr><td>f1_macro</td><td>▁</td></tr><tr><td>learning_rate</td><td>██████████▁▁▁▁▁▁▁▁▁▁</td></tr><tr><td>precision_macro</td><td>▁</td></tr><tr><td>recall_macro</td><td>▁</td></tr><tr><td>test_accuracy</td><td>▁</td></tr><tr><td>total_parameters</td><td>▁</td></tr><tr><td>train_accuracy</td><td>▁▂▄▅▅▅▆▆▆▆▇▇▇▇▇▇████</td></tr><tr><td>train_loss</td><td>█▇▅▅▄▄▄▄▃▃▂▂▂▂▂▂▁▁▁▁</td></tr><tr><td>trainable_parameters</td><td>▁</td></tr><tr><td>val_accuracy</td><td>▁▁▅▅▅▆▆▆▇▆██████████</td></tr><tr><td>val_loss</td><td>▇█▄▄▄▃▃▃▃▃▁▁▁▁▁▁▁▁▁▁</td></tr></table><br/></div><div class=\"wandb-col\"><h3>Run summary:</h3><br/><table class=\"wandb\"><tr><td>best_val_accuracy</td><td>63.89598</td></tr><tr><td>epoch</td><td>20</td></tr><tr><td>f1_macro</td><td>0.60277</td></tr><tr><td>learning_rate</td><td>0.0001</td></tr><tr><td>precision_macro</td><td>0.61582</td></tr><tr><td>recall_macro</td><td>0.59807</td></tr><tr><td>test_accuracy</td><td>63.89598</td></tr><tr><td>total_parameters</td><td>21288263</td></tr><tr><td>train_accuracy</td><td>71.40398</td></tr><tr><td>train_loss</td><td>0.76868</td></tr><tr><td>trainable_parameters</td><td>21288263</td></tr><tr><td>val_accuracy</td><td>63.89598</td></tr><tr><td>val_loss</td><td>0.96199</td></tr></table><br/></div></div>"
            ],
            "text/plain": [
              "<IPython.core.display.HTML object>"
            ]
          },
          "metadata": {},
          "output_type": "display_data"
        },
        {
          "data": {
            "text/html": [
              " View run <strong style=\"color:#cdcd00\">resnet34</strong> at: <a href='https://wandb.ai/ellekvirikashvili-free-university-of-tbilisi-/facial-expression-recognition/runs/147ezqkp' target=\"_blank\">https://wandb.ai/ellekvirikashvili-free-university-of-tbilisi-/facial-expression-recognition/runs/147ezqkp</a><br> View project at: <a href='https://wandb.ai/ellekvirikashvili-free-university-of-tbilisi-/facial-expression-recognition' target=\"_blank\">https://wandb.ai/ellekvirikashvili-free-university-of-tbilisi-/facial-expression-recognition</a><br>Synced 5 W&B file(s), 1 media file(s), 0 artifact file(s) and 0 other file(s)"
            ],
            "text/plain": [
              "<IPython.core.display.HTML object>"
            ]
          },
          "metadata": {},
          "output_type": "display_data"
        },
        {
          "data": {
            "text/html": [
              "Find logs at: <code>./wandb/run-20250530_190922-147ezqkp/logs</code>"
            ],
            "text/plain": [
              "<IPython.core.display.HTML object>"
            ]
          },
          "metadata": {},
          "output_type": "display_data"
        },
        {
          "name": "stdout",
          "output_type": "stream",
          "text": [
            "\n",
            "==================================================\n",
            "Running Experiment 4/7\n",
            "Config: {'model': 'resnet34', 'batch_size': 64, 'learning_rate': 0.0005, 'epochs': 20, 'optimizer': 'adamw', 'dropout': 0.4, 'weight_decay': 0.001}\n",
            "==================================================\n",
            "\n"
          ]
        },
        {
          "data": {
            "text/html": [
              "Tracking run with wandb version 0.19.11"
            ],
            "text/plain": [
              "<IPython.core.display.HTML object>"
            ]
          },
          "metadata": {},
          "output_type": "display_data"
        },
        {
          "data": {
            "text/html": [
              "Run data is saved locally in <code>/content/wandb/run-20250530_195939-50f0plf2</code>"
            ],
            "text/plain": [
              "<IPython.core.display.HTML object>"
            ]
          },
          "metadata": {},
          "output_type": "display_data"
        },
        {
          "data": {
            "text/html": [
              "Syncing run <strong><a href='https://wandb.ai/ellekvirikashvili-free-university-of-tbilisi-/facial-expression-recognition/runs/50f0plf2' target=\"_blank\">resnet34</a></strong> to <a href='https://wandb.ai/ellekvirikashvili-free-university-of-tbilisi-/facial-expression-recognition' target=\"_blank\">Weights & Biases</a> (<a href='https://wandb.me/developer-guide' target=\"_blank\">docs</a>)<br>"
            ],
            "text/plain": [
              "<IPython.core.display.HTML object>"
            ]
          },
          "metadata": {},
          "output_type": "display_data"
        },
        {
          "data": {
            "text/html": [
              " View project at <a href='https://wandb.ai/ellekvirikashvili-free-university-of-tbilisi-/facial-expression-recognition' target=\"_blank\">https://wandb.ai/ellekvirikashvili-free-university-of-tbilisi-/facial-expression-recognition</a>"
            ],
            "text/plain": [
              "<IPython.core.display.HTML object>"
            ]
          },
          "metadata": {},
          "output_type": "display_data"
        },
        {
          "data": {
            "text/html": [
              " View run at <a href='https://wandb.ai/ellekvirikashvili-free-university-of-tbilisi-/facial-expression-recognition/runs/50f0plf2' target=\"_blank\">https://wandb.ai/ellekvirikashvili-free-university-of-tbilisi-/facial-expression-recognition/runs/50f0plf2</a>"
            ],
            "text/plain": [
              "<IPython.core.display.HTML object>"
            ]
          },
          "metadata": {},
          "output_type": "display_data"
        },
        {
          "name": "stdout",
          "output_type": "stream",
          "text": [
            "Using device: cuda\n",
            "Loading data...\n",
            "Splitting data into train/val...\n",
            "Model: resnet34\n",
            "Total parameters: 21,288,263\n",
            "Trainable parameters: 21,288,263\n"
          ]
        },
        {
          "name": "stderr",
          "output_type": "stream",
          "text": [
            "Epoch 1/20 - Training:   7%|▋         | 25/382 [00:09<02:07,  2.79it/s, Loss=2.0075, Acc=22.00%]Exception ignored in: <function _MultiProcessingDataLoaderIter.__del__ at 0x78122647d8a0>\n",
            "Traceback (most recent call last):\n",
            "  File \"/usr/local/lib/python3.11/dist-packages/torch/utils/data/dataloader.py\", line 1618, in __del__\n",
            "    self._shutdown_workers()\n",
            "  File \"/usr/local/lib/python3.11/dist-packages/torch/utils/data/dataloader.py\", line 1601, in _shutdown_workers\n",
            "    if w.is_alive():\n",
            "       ^^^^^^^^^^^^\n",
            "  File \"/usr/lib/python3.11/multiprocessing/process.py\", line 160, in is_alive\n",
            "    assert self._parent_pid == os.getpid(), 'can only test a child process'\n",
            "           ^^^^^^^^^^^^^^^^^^^^^^^^^^^^^^^\n",
            "AssertionError: can only test a child process\n",
            "Epoch 1/20 - Training:   8%|▊         | 31/382 [00:12<02:49,  2.07it/s, Loss=1.7988, Acc=22.28%]Exception ignored in: <function _MultiProcessingDataLoaderIter.__del__ at 0x78122647d8a0>\n",
            "Traceback (most recent call last):\n",
            "  File \"/usr/local/lib/python3.11/dist-packages/torch/utils/data/dataloader.py\", line 1618, in __del__\n",
            "    self._shutdown_workers()\n",
            "  File \"/usr/local/lib/python3.11/dist-packages/torch/utils/data/dataloader.py\", line 1601, in _shutdown_workers\n",
            "Epoch 1/20 - Training:   8%|▊         | 32/382 [00:13<02:33,  2.27it/s, Loss=1.9590, Acc=22.02%]\n",
            "       ^^^^^^^^^^^^\n",
            "  File \"/usr/lib/python3.11/multiprocessing/process.py\", line 160, in is_alive\n",
            "    assert self._parent_pid == os.getpid(), 'can only test a child process'\n",
            "           ^^^^^^^^^^^^^^^^^^^^^^^^^^^^^^^\n",
            "AssertionError: can only test a child process\n",
            "Epoch 1/20 - Training: 100%|██████████| 382/382 [02:22<00:00,  2.68it/s, Loss=1.6613, Acc=24.31%]\n"
          ]
        },
        {
          "name": "stdout",
          "output_type": "stream",
          "text": [
            "Epoch 1: Train Acc: 24.31%, Val Acc: 25.59%\n"
          ]
        },
        {
          "name": "stderr",
          "output_type": "stream",
          "text": [
            "Epoch 2/20 - Training: 100%|██████████| 382/382 [02:21<00:00,  2.70it/s, Loss=1.7376, Acc=36.26%]\n"
          ]
        },
        {
          "name": "stdout",
          "output_type": "stream",
          "text": [
            "Epoch 2: Train Acc: 36.26%, Val Acc: 45.23%\n"
          ]
        },
        {
          "name": "stderr",
          "output_type": "stream",
          "text": [
            "Epoch 3/20 - Training: 100%|██████████| 382/382 [02:19<00:00,  2.74it/s, Loss=1.3561, Acc=46.73%]\n"
          ]
        },
        {
          "name": "stdout",
          "output_type": "stream",
          "text": [
            "Epoch 3: Train Acc: 46.73%, Val Acc: 50.80%\n"
          ]
        },
        {
          "name": "stderr",
          "output_type": "stream",
          "text": [
            "Epoch 4/20 - Training: 100%|██████████| 382/382 [02:21<00:00,  2.70it/s, Loss=1.2667, Acc=50.44%]\n"
          ]
        },
        {
          "name": "stdout",
          "output_type": "stream",
          "text": [
            "Epoch 4: Train Acc: 50.44%, Val Acc: 51.73%\n"
          ]
        },
        {
          "name": "stderr",
          "output_type": "stream",
          "text": [
            "Epoch 5/20 - Training: 100%|██████████| 382/382 [02:16<00:00,  2.80it/s, Loss=1.1528, Acc=53.59%]\n"
          ]
        },
        {
          "name": "stdout",
          "output_type": "stream",
          "text": [
            "Epoch 5: Train Acc: 53.59%, Val Acc: 53.26%\n"
          ]
        },
        {
          "name": "stderr",
          "output_type": "stream",
          "text": [
            "Epoch 6/20 - Training: 100%|██████████| 382/382 [02:18<00:00,  2.76it/s, Loss=1.1995, Acc=56.22%]\n"
          ]
        },
        {
          "name": "stdout",
          "output_type": "stream",
          "text": [
            "Epoch 6: Train Acc: 56.22%, Val Acc: 56.03%\n"
          ]
        },
        {
          "name": "stderr",
          "output_type": "stream",
          "text": [
            "Epoch 7/20 - Training: 100%|██████████| 382/382 [02:21<00:00,  2.70it/s, Loss=0.9215, Acc=57.91%]\n"
          ]
        },
        {
          "name": "stdout",
          "output_type": "stream",
          "text": [
            "Epoch 7: Train Acc: 57.91%, Val Acc: 58.23%\n"
          ]
        },
        {
          "name": "stderr",
          "output_type": "stream",
          "text": [
            "Epoch 8/20 - Training: 100%|██████████| 382/382 [02:20<00:00,  2.73it/s, Loss=1.3025, Acc=59.28%]\n"
          ]
        },
        {
          "name": "stdout",
          "output_type": "stream",
          "text": [
            "Epoch 8: Train Acc: 59.28%, Val Acc: 58.90%\n"
          ]
        },
        {
          "name": "stderr",
          "output_type": "stream",
          "text": [
            "Epoch 9/20 - Training: 100%|██████████| 382/382 [02:21<00:00,  2.71it/s, Loss=0.8539, Acc=61.18%]\n"
          ]
        },
        {
          "name": "stdout",
          "output_type": "stream",
          "text": [
            "Epoch 9: Train Acc: 61.18%, Val Acc: 58.42%\n"
          ]
        },
        {
          "name": "stderr",
          "output_type": "stream",
          "text": [
            "Epoch 10/20 - Training: 100%|██████████| 382/382 [02:19<00:00,  2.73it/s, Loss=1.0418, Acc=62.26%]\n"
          ]
        },
        {
          "name": "stdout",
          "output_type": "stream",
          "text": [
            "Epoch 10: Train Acc: 62.26%, Val Acc: 61.34%\n"
          ]
        },
        {
          "name": "stderr",
          "output_type": "stream",
          "text": [
            "Epoch 11/20 - Training: 100%|██████████| 382/382 [02:20<00:00,  2.72it/s, Loss=1.1823, Acc=65.89%]\n"
          ]
        },
        {
          "name": "stdout",
          "output_type": "stream",
          "text": [
            "Epoch 11: Train Acc: 65.89%, Val Acc: 63.99%\n"
          ]
        },
        {
          "name": "stderr",
          "output_type": "stream",
          "text": [
            "Epoch 12/20 - Training: 100%|██████████| 382/382 [02:19<00:00,  2.74it/s, Loss=1.2494, Acc=67.39%]\n"
          ]
        },
        {
          "name": "stdout",
          "output_type": "stream",
          "text": [
            "Epoch 12: Train Acc: 67.39%, Val Acc: 64.64%\n"
          ]
        },
        {
          "name": "stderr",
          "output_type": "stream",
          "text": [
            "Epoch 13/20 - Training: 100%|██████████| 382/382 [02:18<00:00,  2.76it/s, Loss=0.6958, Acc=67.80%]\n"
          ]
        },
        {
          "name": "stdout",
          "output_type": "stream",
          "text": [
            "Epoch 13: Train Acc: 67.80%, Val Acc: 64.66%\n"
          ]
        },
        {
          "name": "stderr",
          "output_type": "stream",
          "text": [
            "Epoch 14/20 - Training: 100%|██████████| 382/382 [02:21<00:00,  2.71it/s, Loss=0.8915, Acc=68.82%]\n"
          ]
        },
        {
          "name": "stdout",
          "output_type": "stream",
          "text": [
            "Epoch 14: Train Acc: 68.82%, Val Acc: 64.41%\n"
          ]
        },
        {
          "name": "stderr",
          "output_type": "stream",
          "text": [
            "Epoch 15/20 - Training: 100%|██████████| 382/382 [02:20<00:00,  2.72it/s, Loss=0.5602, Acc=69.11%]\n"
          ]
        },
        {
          "name": "stdout",
          "output_type": "stream",
          "text": [
            "Epoch 15: Train Acc: 69.11%, Val Acc: 64.43%\n"
          ]
        },
        {
          "name": "stderr",
          "output_type": "stream",
          "text": [
            "Epoch 16/20 - Training: 100%|██████████| 382/382 [02:20<00:00,  2.71it/s, Loss=0.6356, Acc=69.78%]\n"
          ]
        },
        {
          "name": "stdout",
          "output_type": "stream",
          "text": [
            "Epoch 16: Train Acc: 69.78%, Val Acc: 65.03%\n"
          ]
        },
        {
          "name": "stderr",
          "output_type": "stream",
          "text": [
            "Epoch 17/20 - Training: 100%|██████████| 382/382 [02:22<00:00,  2.68it/s, Loss=0.7686, Acc=70.41%]\n"
          ]
        },
        {
          "name": "stdout",
          "output_type": "stream",
          "text": [
            "Epoch 17: Train Acc: 70.41%, Val Acc: 65.01%\n"
          ]
        },
        {
          "name": "stderr",
          "output_type": "stream",
          "text": [
            "Epoch 18/20 - Training: 100%|██████████| 382/382 [02:22<00:00,  2.68it/s, Loss=0.6999, Acc=70.89%]\n"
          ]
        },
        {
          "name": "stdout",
          "output_type": "stream",
          "text": [
            "Epoch 18: Train Acc: 70.89%, Val Acc: 65.06%\n"
          ]
        },
        {
          "name": "stderr",
          "output_type": "stream",
          "text": [
            "Epoch 19/20 - Training: 100%|██████████| 382/382 [02:23<00:00,  2.66it/s, Loss=0.5932, Acc=71.08%]\n"
          ]
        },
        {
          "name": "stdout",
          "output_type": "stream",
          "text": [
            "Epoch 19: Train Acc: 71.08%, Val Acc: 64.82%\n"
          ]
        },
        {
          "name": "stderr",
          "output_type": "stream",
          "text": [
            "Epoch 20/20 - Training: 100%|██████████| 382/382 [02:23<00:00,  2.66it/s, Loss=0.7554, Acc=72.42%]\n"
          ]
        },
        {
          "name": "stdout",
          "output_type": "stream",
          "text": [
            "Epoch 20: Train Acc: 72.42%, Val Acc: 64.96%\n",
            "Best Validation Accuracy: 65.06%\n",
            "Test Accuracy (Val): 65.06%\n"
          ]
        },
        {
          "data": {
            "text/html": [],
            "text/plain": [
              "<IPython.core.display.HTML object>"
            ]
          },
          "metadata": {},
          "output_type": "display_data"
        },
        {
          "data": {
            "text/html": [
              "<br>    <style><br>        .wandb-row {<br>            display: flex;<br>            flex-direction: row;<br>            flex-wrap: wrap;<br>            justify-content: flex-start;<br>            width: 100%;<br>        }<br>        .wandb-col {<br>            display: flex;<br>            flex-direction: column;<br>            flex-basis: 100%;<br>            flex: 1;<br>            padding: 10px;<br>        }<br>    </style><br><div class=\"wandb-row\"><div class=\"wandb-col\"><h3>Run history:</h3><br/><table class=\"wandb\"><tr><td>best_val_accuracy</td><td>▁</td></tr><tr><td>epoch</td><td>▁▁▂▂▂▃▃▄▄▄▅▅▅▆▆▇▇▇██</td></tr><tr><td>f1_macro</td><td>▁</td></tr><tr><td>learning_rate</td><td>██████████▁▁▁▁▁▁▁▁▁▁</td></tr><tr><td>precision_macro</td><td>▁</td></tr><tr><td>recall_macro</td><td>▁</td></tr><tr><td>test_accuracy</td><td>▁</td></tr><tr><td>total_parameters</td><td>▁</td></tr><tr><td>train_accuracy</td><td>▁▃▄▅▅▆▆▆▆▇▇▇▇▇██████</td></tr><tr><td>train_loss</td><td>█▇▅▄▄▄▃▃▃▃▂▂▂▂▁▁▁▁▁▁</td></tr><tr><td>trainable_parameters</td><td>▁</td></tr><tr><td>val_accuracy</td><td>▁▄▅▆▆▆▇▇▇▇██████████</td></tr><tr><td>val_loss</td><td>█▅▄▄▃▃▂▂▂▂▁▁▁▁▁▁▁▁▁▁</td></tr></table><br/></div><div class=\"wandb-col\"><h3>Run summary:</h3><br/><table class=\"wandb\"><tr><td>best_val_accuracy</td><td>65.05688</td></tr><tr><td>epoch</td><td>20</td></tr><tr><td>f1_macro</td><td>0.59501</td></tr><tr><td>learning_rate</td><td>5e-05</td></tr><tr><td>precision_macro</td><td>0.61366</td></tr><tr><td>recall_macro</td><td>0.58643</td></tr><tr><td>test_accuracy</td><td>65.05688</td></tr><tr><td>total_parameters</td><td>21288263</td></tr><tr><td>train_accuracy</td><td>72.42439</td></tr><tr><td>train_loss</td><td>0.75494</td></tr><tr><td>trainable_parameters</td><td>21288263</td></tr><tr><td>val_accuracy</td><td>64.96401</td></tr><tr><td>val_loss</td><td>0.94675</td></tr></table><br/></div></div>"
            ],
            "text/plain": [
              "<IPython.core.display.HTML object>"
            ]
          },
          "metadata": {},
          "output_type": "display_data"
        },
        {
          "data": {
            "text/html": [
              " View run <strong style=\"color:#cdcd00\">resnet34</strong> at: <a href='https://wandb.ai/ellekvirikashvili-free-university-of-tbilisi-/facial-expression-recognition/runs/50f0plf2' target=\"_blank\">https://wandb.ai/ellekvirikashvili-free-university-of-tbilisi-/facial-expression-recognition/runs/50f0plf2</a><br> View project at: <a href='https://wandb.ai/ellekvirikashvili-free-university-of-tbilisi-/facial-expression-recognition' target=\"_blank\">https://wandb.ai/ellekvirikashvili-free-university-of-tbilisi-/facial-expression-recognition</a><br>Synced 5 W&B file(s), 1 media file(s), 0 artifact file(s) and 0 other file(s)"
            ],
            "text/plain": [
              "<IPython.core.display.HTML object>"
            ]
          },
          "metadata": {},
          "output_type": "display_data"
        },
        {
          "data": {
            "text/html": [
              "Find logs at: <code>./wandb/run-20250530_195939-50f0plf2/logs</code>"
            ],
            "text/plain": [
              "<IPython.core.display.HTML object>"
            ]
          },
          "metadata": {},
          "output_type": "display_data"
        },
        {
          "name": "stdout",
          "output_type": "stream",
          "text": [
            "\n",
            "==================================================\n",
            "Running Experiment 5/7\n",
            "Config: {'model': 'resnet50', 'batch_size': 32, 'learning_rate': 0.001, 'epochs': 20, 'optimizer': 'adam', 'dropout': 0.5, 'weight_decay': 0.0001}\n",
            "==================================================\n",
            "\n"
          ]
        },
        {
          "data": {
            "text/html": [
              "Tracking run with wandb version 0.19.11"
            ],
            "text/plain": [
              "<IPython.core.display.HTML object>"
            ]
          },
          "metadata": {},
          "output_type": "display_data"
        },
        {
          "data": {
            "text/html": [
              "Run data is saved locally in <code>/content/wandb/run-20250530_205100-h7t21j0o</code>"
            ],
            "text/plain": [
              "<IPython.core.display.HTML object>"
            ]
          },
          "metadata": {},
          "output_type": "display_data"
        },
        {
          "data": {
            "text/html": [
              "Syncing run <strong><a href='https://wandb.ai/ellekvirikashvili-free-university-of-tbilisi-/facial-expression-recognition/runs/h7t21j0o' target=\"_blank\">resnet50</a></strong> to <a href='https://wandb.ai/ellekvirikashvili-free-university-of-tbilisi-/facial-expression-recognition' target=\"_blank\">Weights & Biases</a> (<a href='https://wandb.me/developer-guide' target=\"_blank\">docs</a>)<br>"
            ],
            "text/plain": [
              "<IPython.core.display.HTML object>"
            ]
          },
          "metadata": {},
          "output_type": "display_data"
        },
        {
          "data": {
            "text/html": [
              " View project at <a href='https://wandb.ai/ellekvirikashvili-free-university-of-tbilisi-/facial-expression-recognition' target=\"_blank\">https://wandb.ai/ellekvirikashvili-free-university-of-tbilisi-/facial-expression-recognition</a>"
            ],
            "text/plain": [
              "<IPython.core.display.HTML object>"
            ]
          },
          "metadata": {},
          "output_type": "display_data"
        },
        {
          "data": {
            "text/html": [
              " View run at <a href='https://wandb.ai/ellekvirikashvili-free-university-of-tbilisi-/facial-expression-recognition/runs/h7t21j0o' target=\"_blank\">https://wandb.ai/ellekvirikashvili-free-university-of-tbilisi-/facial-expression-recognition/runs/h7t21j0o</a>"
            ],
            "text/plain": [
              "<IPython.core.display.HTML object>"
            ]
          },
          "metadata": {},
          "output_type": "display_data"
        },
        {
          "name": "stdout",
          "output_type": "stream",
          "text": [
            "Using device: cuda\n",
            "Loading data...\n",
            "Splitting data into train/val...\n",
            "Model: resnet50\n",
            "Total parameters: 23,522,375\n",
            "Trainable parameters: 23,522,375\n"
          ]
        },
        {
          "name": "stderr",
          "output_type": "stream",
          "text": [
            "Epoch 1/20 - Training: 100%|██████████| 763/763 [04:09<00:00,  3.05it/s, Loss=1.8361, Acc=23.98%]\n"
          ]
        },
        {
          "name": "stdout",
          "output_type": "stream",
          "text": [
            "Epoch 1: Train Acc: 23.98%, Val Acc: 25.26%\n"
          ]
        },
        {
          "name": "stderr",
          "output_type": "stream",
          "text": [
            "Epoch 2/20 - Training: 100%|██████████| 763/763 [04:10<00:00,  3.05it/s, Loss=1.7696, Acc=24.82%]\n"
          ]
        },
        {
          "name": "stdout",
          "output_type": "stream",
          "text": [
            "Epoch 2: Train Acc: 24.82%, Val Acc: 25.33%\n"
          ]
        },
        {
          "name": "stderr",
          "output_type": "stream",
          "text": [
            "Epoch 3/20 - Training: 100%|██████████| 763/763 [04:10<00:00,  3.04it/s, Loss=1.7195, Acc=30.24%]\n"
          ]
        },
        {
          "name": "stdout",
          "output_type": "stream",
          "text": [
            "Epoch 3: Train Acc: 30.24%, Val Acc: 33.41%\n"
          ]
        },
        {
          "name": "stderr",
          "output_type": "stream",
          "text": [
            "Epoch 4/20 - Training: 100%|██████████| 763/763 [04:10<00:00,  3.05it/s, Loss=1.7057, Acc=39.05%]\n"
          ]
        },
        {
          "name": "stdout",
          "output_type": "stream",
          "text": [
            "Epoch 4: Train Acc: 39.05%, Val Acc: 38.19%\n"
          ]
        },
        {
          "name": "stderr",
          "output_type": "stream",
          "text": [
            "Epoch 5/20 - Training: 100%|██████████| 763/763 [04:07<00:00,  3.08it/s, Loss=1.6007, Acc=43.57%]\n"
          ]
        },
        {
          "name": "stdout",
          "output_type": "stream",
          "text": [
            "Epoch 5: Train Acc: 43.57%, Val Acc: 45.16%\n"
          ]
        },
        {
          "name": "stderr",
          "output_type": "stream",
          "text": [
            "Epoch 6/20 - Training: 100%|██████████| 763/763 [04:07<00:00,  3.08it/s, Loss=1.4123, Acc=46.14%]\n"
          ]
        },
        {
          "name": "stdout",
          "output_type": "stream",
          "text": [
            "Epoch 6: Train Acc: 46.14%, Val Acc: 46.95%\n"
          ]
        },
        {
          "name": "stderr",
          "output_type": "stream",
          "text": [
            "Epoch 7/20 - Training: 100%|██████████| 763/763 [04:07<00:00,  3.09it/s, Loss=1.7175, Acc=47.69%]\n"
          ]
        },
        {
          "name": "stdout",
          "output_type": "stream",
          "text": [
            "Epoch 7: Train Acc: 47.69%, Val Acc: 48.46%\n"
          ]
        },
        {
          "name": "stderr",
          "output_type": "stream",
          "text": [
            "Epoch 8/20 - Training: 100%|██████████| 763/763 [04:05<00:00,  3.10it/s, Loss=1.1032, Acc=49.41%]\n"
          ]
        },
        {
          "name": "stdout",
          "output_type": "stream",
          "text": [
            "Epoch 8: Train Acc: 49.41%, Val Acc: 51.64%\n"
          ]
        },
        {
          "name": "stderr",
          "output_type": "stream",
          "text": [
            "Epoch 9/20 - Training: 100%|██████████| 763/763 [04:03<00:00,  3.13it/s, Loss=1.3975, Acc=50.92%]\n"
          ]
        },
        {
          "name": "stdout",
          "output_type": "stream",
          "text": [
            "Epoch 9: Train Acc: 50.92%, Val Acc: 51.92%\n"
          ]
        },
        {
          "name": "stderr",
          "output_type": "stream",
          "text": [
            "Epoch 10/20 - Training: 100%|██████████| 763/763 [04:03<00:00,  3.13it/s, Loss=1.4032, Acc=51.86%]\n"
          ]
        },
        {
          "name": "stdout",
          "output_type": "stream",
          "text": [
            "Epoch 10: Train Acc: 51.86%, Val Acc: 51.59%\n"
          ]
        },
        {
          "name": "stderr",
          "output_type": "stream",
          "text": [
            "Epoch 11/20 - Training: 100%|██████████| 763/763 [04:03<00:00,  3.13it/s, Loss=1.2707, Acc=56.15%]\n"
          ]
        },
        {
          "name": "stdout",
          "output_type": "stream",
          "text": [
            "Epoch 11: Train Acc: 56.15%, Val Acc: 57.35%\n"
          ]
        },
        {
          "name": "stderr",
          "output_type": "stream",
          "text": [
            "Epoch 12/20 - Training: 100%|██████████| 763/763 [04:03<00:00,  3.13it/s, Loss=1.0781, Acc=57.76%]\n"
          ]
        },
        {
          "name": "stdout",
          "output_type": "stream",
          "text": [
            "Epoch 12: Train Acc: 57.76%, Val Acc: 58.00%\n"
          ]
        },
        {
          "name": "stderr",
          "output_type": "stream",
          "text": [
            "Epoch 13/20 - Training: 100%|██████████| 763/763 [04:03<00:00,  3.14it/s, Loss=1.3213, Acc=57.76%]\n"
          ]
        },
        {
          "name": "stdout",
          "output_type": "stream",
          "text": [
            "Epoch 13: Train Acc: 57.76%, Val Acc: 58.14%\n"
          ]
        },
        {
          "name": "stderr",
          "output_type": "stream",
          "text": [
            "Epoch 14/20 - Training: 100%|██████████| 763/763 [04:03<00:00,  3.13it/s, Loss=1.3223, Acc=58.54%]\n"
          ]
        },
        {
          "name": "stdout",
          "output_type": "stream",
          "text": [
            "Epoch 14: Train Acc: 58.54%, Val Acc: 58.49%\n"
          ]
        },
        {
          "name": "stderr",
          "output_type": "stream",
          "text": [
            "Epoch 15/20 - Training: 100%|██████████| 763/763 [04:03<00:00,  3.14it/s, Loss=1.1605, Acc=59.02%]\n"
          ]
        },
        {
          "name": "stdout",
          "output_type": "stream",
          "text": [
            "Epoch 15: Train Acc: 59.02%, Val Acc: 58.86%\n"
          ]
        },
        {
          "name": "stderr",
          "output_type": "stream",
          "text": [
            "Epoch 16/20 - Training: 100%|██████████| 763/763 [04:02<00:00,  3.15it/s, Loss=1.0124, Acc=59.50%]\n"
          ]
        },
        {
          "name": "stdout",
          "output_type": "stream",
          "text": [
            "Epoch 16: Train Acc: 59.50%, Val Acc: 59.23%\n"
          ]
        },
        {
          "name": "stderr",
          "output_type": "stream",
          "text": [
            "Epoch 17/20 - Training:  61%|██████▏   | 469/763 [02:29<01:35,  3.09it/s, Loss=1.2823, Acc=59.69%]"
          ]
        }
      ],
      "source": [
        "# Different experiment configurations\n",
        "experiments = [\n",
        "\n",
        "\n",
        "    # ResNet18 experiments\n",
        "    {\n",
        "        'model': 'resnet18',\n",
        "        'batch_size': 64,\n",
        "        'learning_rate': 0.001,\n",
        "        'epochs': 20,\n",
        "        'optimizer': 'adam',\n",
        "        'dropout': 0.3,\n",
        "        'weight_decay': 1e-4\n",
        "    },\n",
        "\n",
        "    {\n",
        "        'model': 'resnet18',\n",
        "        'batch_size': 32,\n",
        "        'learning_rate': 0.01,\n",
        "        'epochs': 20,\n",
        "        'optimizer': 'sgd',\n",
        "        'dropout': 0.5,\n",
        "        'weight_decay': 1e-4\n",
        "    },\n",
        "\n",
        "    # ResNet34 experiments\n",
        "    {\n",
        "        'model': 'resnet34',\n",
        "        'batch_size': 64,\n",
        "        'learning_rate': 0.001,\n",
        "        'epochs': 20,\n",
        "        'optimizer': 'adam',\n",
        "        'dropout': 0.3,\n",
        "        'weight_decay': 1e-4\n",
        "    },\n",
        "\n",
        "    {\n",
        "        'model': 'resnet34',\n",
        "        'batch_size': 64,\n",
        "        'learning_rate': 0.0005,\n",
        "        'epochs': 20,\n",
        "        'optimizer': 'adamw',\n",
        "        'dropout': 0.4,\n",
        "        'weight_decay': 1e-3\n",
        "    },\n",
        "\n",
        "    # ResNet50 experiments\n",
        "    {\n",
        "        'model': 'resnet50',\n",
        "        'batch_size': 32,\n",
        "        'learning_rate': 0.001,\n",
        "        'epochs': 20,\n",
        "        'optimizer': 'adam',\n",
        "        'dropout': 0.5,\n",
        "        'weight_decay': 1e-4\n",
        "    },\n",
        "\n",
        "    # High dropout (overfitting prevention)\n",
        "    {\n",
        "        'model': 'resnet34',\n",
        "        'batch_size': 64,\n",
        "        'learning_rate': 0.001,\n",
        "        'epochs': 50,\n",
        "        'optimizer': 'adam',\n",
        "        'dropout': 0.7,\n",
        "        'weight_decay': 1e-3\n",
        "    },\n",
        "\n",
        "    # Low dropout (potential overfitting)\n",
        "    {\n",
        "        'model': 'resnet34',\n",
        "        'batch_size': 64,\n",
        "        'learning_rate': 0.001,\n",
        "        'epochs': 50,\n",
        "        'optimizer': 'adam',\n",
        "        'dropout': 0.1,\n",
        "        'weight_decay': 1e-5\n",
        "    }\n",
        "]\n",
        "\n",
        "# Run all experiments\n",
        "for i, config in enumerate(experiments):\n",
        "    print(f\"\\n{'='*50}\")\n",
        "    print(f\"Running Experiment {i+1}/{len(experiments)}\")\n",
        "    print(f\"Config: {config}\")\n",
        "    print(f\"{'='*50}\\n\")\n",
        "\n",
        "    run_experiment(config)"
      ]
    }
  ],
  "metadata": {
    "accelerator": "GPU",
    "colab": {
      "gpuType": "T4",
      "include_colab_link": true,
      "provenance": []
    },
    "kernelspec": {
      "display_name": "Python 3",
      "name": "python3"
    },
    "language_info": {
      "name": "python"
    }
  },
  "nbformat": 4,
  "nbformat_minor": 5
}
