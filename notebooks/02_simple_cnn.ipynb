{
  "cells": [
    {
      "cell_type": "markdown",
      "id": "8787fe30",
      "metadata": {
        "colab_type": "text",
        "id": "view-in-github"
      },
      "source": [
        "<a href=\"https://colab.research.google.com/github/ekvirika/Facial-Expression-Recognition/blob/main/notebooks/02_simple_cnn.ipynb\" target=\"_parent\"><img src=\"https://colab.research.google.com/assets/colab-badge.svg\" alt=\"Open In Colab\"/></a>"
      ]
    },
    {
      "cell_type": "code",
      "execution_count": 1,
      "id": "wbo7YhsKtC9W",
      "metadata": {
        "colab": {
          "base_uri": "https://localhost:8080/"
        },
        "id": "wbo7YhsKtC9W",
        "outputId": "726e6945-20b1-451b-8c48-2e3055c284c8"
      },
      "outputs": [
        {
          "name": "stdout",
          "output_type": "stream",
          "text": [
            "Mounted at /content/drive\n"
          ]
        }
      ],
      "source": [
        "from google.colab import drive\n",
        "drive.mount('/content/drive')"
      ]
    },
    {
      "cell_type": "code",
      "execution_count": 2,
      "id": "-bO7jJJStOhQ",
      "metadata": {
        "colab": {
          "base_uri": "https://localhost:8080/"
        },
        "collapsed": true,
        "id": "-bO7jJJStOhQ",
        "outputId": "abcd1e6b-0bfa-4793-b8d7-f1591a6102d1"
      },
      "outputs": [
        {
          "name": "stdout",
          "output_type": "stream",
          "text": [
            "Requirement already satisfied: wandb in /usr/local/lib/python3.11/dist-packages (0.19.11)\n",
            "Requirement already satisfied: torch in /usr/local/lib/python3.11/dist-packages (2.6.0+cu124)\n",
            "Requirement already satisfied: torchvision in /usr/local/lib/python3.11/dist-packages (0.21.0+cu124)\n",
            "Requirement already satisfied: pandas in /usr/local/lib/python3.11/dist-packages (2.2.2)\n",
            "Requirement already satisfied: numpy in /usr/local/lib/python3.11/dist-packages (2.0.2)\n",
            "Requirement already satisfied: matplotlib in /usr/local/lib/python3.11/dist-packages (3.10.0)\n",
            "Requirement already satisfied: seaborn in /usr/local/lib/python3.11/dist-packages (0.13.2)\n",
            "Requirement already satisfied: scikit-learn in /usr/local/lib/python3.11/dist-packages (1.6.1)\n",
            "Requirement already satisfied: click!=8.0.0,>=7.1 in /usr/local/lib/python3.11/dist-packages (from wandb) (8.2.1)\n",
            "Requirement already satisfied: docker-pycreds>=0.4.0 in /usr/local/lib/python3.11/dist-packages (from wandb) (0.4.0)\n",
            "Requirement already satisfied: gitpython!=3.1.29,>=1.0.0 in /usr/local/lib/python3.11/dist-packages (from wandb) (3.1.44)\n",
            "Requirement already satisfied: platformdirs in /usr/local/lib/python3.11/dist-packages (from wandb) (4.3.8)\n",
            "Requirement already satisfied: protobuf!=4.21.0,!=5.28.0,<7,>=3.19.0 in /usr/local/lib/python3.11/dist-packages (from wandb) (5.29.4)\n",
            "Requirement already satisfied: psutil>=5.0.0 in /usr/local/lib/python3.11/dist-packages (from wandb) (5.9.5)\n",
            "Requirement already satisfied: pydantic<3 in /usr/local/lib/python3.11/dist-packages (from wandb) (2.11.4)\n",
            "Requirement already satisfied: pyyaml in /usr/local/lib/python3.11/dist-packages (from wandb) (6.0.2)\n",
            "Requirement already satisfied: requests<3,>=2.0.0 in /usr/local/lib/python3.11/dist-packages (from wandb) (2.32.3)\n",
            "Requirement already satisfied: sentry-sdk>=2.0.0 in /usr/local/lib/python3.11/dist-packages (from wandb) (2.29.1)\n",
            "Requirement already satisfied: setproctitle in /usr/local/lib/python3.11/dist-packages (from wandb) (1.3.6)\n",
            "Requirement already satisfied: setuptools in /usr/local/lib/python3.11/dist-packages (from wandb) (75.2.0)\n",
            "Requirement already satisfied: typing-extensions<5,>=4.4 in /usr/local/lib/python3.11/dist-packages (from wandb) (4.13.2)\n",
            "Requirement already satisfied: filelock in /usr/local/lib/python3.11/dist-packages (from torch) (3.18.0)\n",
            "Requirement already satisfied: networkx in /usr/local/lib/python3.11/dist-packages (from torch) (3.4.2)\n",
            "Requirement already satisfied: jinja2 in /usr/local/lib/python3.11/dist-packages (from torch) (3.1.6)\n",
            "Requirement already satisfied: fsspec in /usr/local/lib/python3.11/dist-packages (from torch) (2025.3.2)\n",
            "Collecting nvidia-cuda-nvrtc-cu12==12.4.127 (from torch)\n",
            "  Downloading nvidia_cuda_nvrtc_cu12-12.4.127-py3-none-manylinux2014_x86_64.whl.metadata (1.5 kB)\n",
            "Collecting nvidia-cuda-runtime-cu12==12.4.127 (from torch)\n",
            "  Downloading nvidia_cuda_runtime_cu12-12.4.127-py3-none-manylinux2014_x86_64.whl.metadata (1.5 kB)\n",
            "Collecting nvidia-cuda-cupti-cu12==12.4.127 (from torch)\n",
            "  Downloading nvidia_cuda_cupti_cu12-12.4.127-py3-none-manylinux2014_x86_64.whl.metadata (1.6 kB)\n",
            "Collecting nvidia-cudnn-cu12==9.1.0.70 (from torch)\n",
            "  Downloading nvidia_cudnn_cu12-9.1.0.70-py3-none-manylinux2014_x86_64.whl.metadata (1.6 kB)\n",
            "Collecting nvidia-cublas-cu12==12.4.5.8 (from torch)\n",
            "  Downloading nvidia_cublas_cu12-12.4.5.8-py3-none-manylinux2014_x86_64.whl.metadata (1.5 kB)\n",
            "Collecting nvidia-cufft-cu12==11.2.1.3 (from torch)\n",
            "  Downloading nvidia_cufft_cu12-11.2.1.3-py3-none-manylinux2014_x86_64.whl.metadata (1.5 kB)\n",
            "Collecting nvidia-curand-cu12==10.3.5.147 (from torch)\n",
            "  Downloading nvidia_curand_cu12-10.3.5.147-py3-none-manylinux2014_x86_64.whl.metadata (1.5 kB)\n",
            "Collecting nvidia-cusolver-cu12==11.6.1.9 (from torch)\n",
            "  Downloading nvidia_cusolver_cu12-11.6.1.9-py3-none-manylinux2014_x86_64.whl.metadata (1.6 kB)\n",
            "Collecting nvidia-cusparse-cu12==12.3.1.170 (from torch)\n",
            "  Downloading nvidia_cusparse_cu12-12.3.1.170-py3-none-manylinux2014_x86_64.whl.metadata (1.6 kB)\n",
            "Requirement already satisfied: nvidia-cusparselt-cu12==0.6.2 in /usr/local/lib/python3.11/dist-packages (from torch) (0.6.2)\n",
            "Requirement already satisfied: nvidia-nccl-cu12==2.21.5 in /usr/local/lib/python3.11/dist-packages (from torch) (2.21.5)\n",
            "Requirement already satisfied: nvidia-nvtx-cu12==12.4.127 in /usr/local/lib/python3.11/dist-packages (from torch) (12.4.127)\n",
            "Collecting nvidia-nvjitlink-cu12==12.4.127 (from torch)\n",
            "  Downloading nvidia_nvjitlink_cu12-12.4.127-py3-none-manylinux2014_x86_64.whl.metadata (1.5 kB)\n",
            "Requirement already satisfied: triton==3.2.0 in /usr/local/lib/python3.11/dist-packages (from torch) (3.2.0)\n",
            "Requirement already satisfied: sympy==1.13.1 in /usr/local/lib/python3.11/dist-packages (from torch) (1.13.1)\n",
            "Requirement already satisfied: mpmath<1.4,>=1.1.0 in /usr/local/lib/python3.11/dist-packages (from sympy==1.13.1->torch) (1.3.0)\n",
            "Requirement already satisfied: pillow!=8.3.*,>=5.3.0 in /usr/local/lib/python3.11/dist-packages (from torchvision) (11.2.1)\n",
            "Requirement already satisfied: python-dateutil>=2.8.2 in /usr/local/lib/python3.11/dist-packages (from pandas) (2.9.0.post0)\n",
            "Requirement already satisfied: pytz>=2020.1 in /usr/local/lib/python3.11/dist-packages (from pandas) (2025.2)\n",
            "Requirement already satisfied: tzdata>=2022.7 in /usr/local/lib/python3.11/dist-packages (from pandas) (2025.2)\n",
            "Requirement already satisfied: contourpy>=1.0.1 in /usr/local/lib/python3.11/dist-packages (from matplotlib) (1.3.2)\n",
            "Requirement already satisfied: cycler>=0.10 in /usr/local/lib/python3.11/dist-packages (from matplotlib) (0.12.1)\n",
            "Requirement already satisfied: fonttools>=4.22.0 in /usr/local/lib/python3.11/dist-packages (from matplotlib) (4.58.0)\n",
            "Requirement already satisfied: kiwisolver>=1.3.1 in /usr/local/lib/python3.11/dist-packages (from matplotlib) (1.4.8)\n",
            "Requirement already satisfied: packaging>=20.0 in /usr/local/lib/python3.11/dist-packages (from matplotlib) (24.2)\n",
            "Requirement already satisfied: pyparsing>=2.3.1 in /usr/local/lib/python3.11/dist-packages (from matplotlib) (3.2.3)\n",
            "Requirement already satisfied: scipy>=1.6.0 in /usr/local/lib/python3.11/dist-packages (from scikit-learn) (1.15.3)\n",
            "Requirement already satisfied: joblib>=1.2.0 in /usr/local/lib/python3.11/dist-packages (from scikit-learn) (1.5.0)\n",
            "Requirement already satisfied: threadpoolctl>=3.1.0 in /usr/local/lib/python3.11/dist-packages (from scikit-learn) (3.6.0)\n",
            "Requirement already satisfied: six>=1.4.0 in /usr/local/lib/python3.11/dist-packages (from docker-pycreds>=0.4.0->wandb) (1.17.0)\n",
            "Requirement already satisfied: gitdb<5,>=4.0.1 in /usr/local/lib/python3.11/dist-packages (from gitpython!=3.1.29,>=1.0.0->wandb) (4.0.12)\n",
            "Requirement already satisfied: annotated-types>=0.6.0 in /usr/local/lib/python3.11/dist-packages (from pydantic<3->wandb) (0.7.0)\n",
            "Requirement already satisfied: pydantic-core==2.33.2 in /usr/local/lib/python3.11/dist-packages (from pydantic<3->wandb) (2.33.2)\n",
            "Requirement already satisfied: typing-inspection>=0.4.0 in /usr/local/lib/python3.11/dist-packages (from pydantic<3->wandb) (0.4.1)\n",
            "Requirement already satisfied: charset-normalizer<4,>=2 in /usr/local/lib/python3.11/dist-packages (from requests<3,>=2.0.0->wandb) (3.4.2)\n",
            "Requirement already satisfied: idna<4,>=2.5 in /usr/local/lib/python3.11/dist-packages (from requests<3,>=2.0.0->wandb) (3.10)\n",
            "Requirement already satisfied: urllib3<3,>=1.21.1 in /usr/local/lib/python3.11/dist-packages (from requests<3,>=2.0.0->wandb) (2.4.0)\n",
            "Requirement already satisfied: certifi>=2017.4.17 in /usr/local/lib/python3.11/dist-packages (from requests<3,>=2.0.0->wandb) (2025.4.26)\n",
            "Requirement already satisfied: MarkupSafe>=2.0 in /usr/local/lib/python3.11/dist-packages (from jinja2->torch) (3.0.2)\n",
            "Requirement already satisfied: smmap<6,>=3.0.1 in /usr/local/lib/python3.11/dist-packages (from gitdb<5,>=4.0.1->gitpython!=3.1.29,>=1.0.0->wandb) (5.0.2)\n",
            "Downloading nvidia_cublas_cu12-12.4.5.8-py3-none-manylinux2014_x86_64.whl (363.4 MB)\n",
            "\u001b[2K   \u001b[90m━━━━━━━━━━━━━━━━━━━━━━━━━━━━━━━━━━━━━━━━\u001b[0m \u001b[32m363.4/363.4 MB\u001b[0m \u001b[31m4.8 MB/s\u001b[0m eta \u001b[36m0:00:00\u001b[0m\n",
            "\u001b[?25hDownloading nvidia_cuda_cupti_cu12-12.4.127-py3-none-manylinux2014_x86_64.whl (13.8 MB)\n",
            "\u001b[2K   \u001b[90m━━━━━━━━━━━━━━━━━━━━━━━━━━━━━━━━━━━━━━━━\u001b[0m \u001b[32m13.8/13.8 MB\u001b[0m \u001b[31m122.4 MB/s\u001b[0m eta \u001b[36m0:00:00\u001b[0m\n",
            "\u001b[?25hDownloading nvidia_cuda_nvrtc_cu12-12.4.127-py3-none-manylinux2014_x86_64.whl (24.6 MB)\n",
            "\u001b[2K   \u001b[90m━━━━━━━━━━━━━━━━━━━━━━━━━━━━━━━━━━━━━━━━\u001b[0m \u001b[32m24.6/24.6 MB\u001b[0m \u001b[31m93.2 MB/s\u001b[0m eta \u001b[36m0:00:00\u001b[0m\n",
            "\u001b[?25hDownloading nvidia_cuda_runtime_cu12-12.4.127-py3-none-manylinux2014_x86_64.whl (883 kB)\n",
            "\u001b[2K   \u001b[90m━━━━━━━━━━━━━━━━━━━━━━━━━━━━━━━━━━━━━━━━\u001b[0m \u001b[32m883.7/883.7 kB\u001b[0m \u001b[31m59.8 MB/s\u001b[0m eta \u001b[36m0:00:00\u001b[0m\n",
            "\u001b[?25hDownloading nvidia_cudnn_cu12-9.1.0.70-py3-none-manylinux2014_x86_64.whl (664.8 MB)\n",
            "\u001b[2K   \u001b[90m━━━━━━━━━━━━━━━━━━━━━━━━━━━━━━━━━━━━━━━━\u001b[0m \u001b[32m664.8/664.8 MB\u001b[0m \u001b[31m2.5 MB/s\u001b[0m eta \u001b[36m0:00:00\u001b[0m\n",
            "\u001b[?25hDownloading nvidia_cufft_cu12-11.2.1.3-py3-none-manylinux2014_x86_64.whl (211.5 MB)\n",
            "\u001b[2K   \u001b[90m━━━━━━━━━━━━━━━━━━━━━━━━━━━━━━━━━━━━━━━━\u001b[0m \u001b[32m211.5/211.5 MB\u001b[0m \u001b[31m5.5 MB/s\u001b[0m eta \u001b[36m0:00:00\u001b[0m\n",
            "\u001b[?25hDownloading nvidia_curand_cu12-10.3.5.147-py3-none-manylinux2014_x86_64.whl (56.3 MB)\n",
            "\u001b[2K   \u001b[90m━━━━━━━━━━━━━━━━━━━━━━━━━━━━━━━━━━━━━━━━\u001b[0m \u001b[32m56.3/56.3 MB\u001b[0m \u001b[31m13.2 MB/s\u001b[0m eta \u001b[36m0:00:00\u001b[0m\n",
            "\u001b[?25hDownloading nvidia_cusolver_cu12-11.6.1.9-py3-none-manylinux2014_x86_64.whl (127.9 MB)\n",
            "\u001b[2K   \u001b[90m━━━━━━━━━━━━━━━━━━━━━━━━━━━━━━━━━━━━━━━━\u001b[0m \u001b[32m127.9/127.9 MB\u001b[0m \u001b[31m7.1 MB/s\u001b[0m eta \u001b[36m0:00:00\u001b[0m\n",
            "\u001b[?25hDownloading nvidia_cusparse_cu12-12.3.1.170-py3-none-manylinux2014_x86_64.whl (207.5 MB)\n",
            "\u001b[2K   \u001b[90m━━━━━━━━━━━━━━━━━━━━━━━━━━━━━━━━━━━━━━━━\u001b[0m \u001b[32m207.5/207.5 MB\u001b[0m \u001b[31m9.5 MB/s\u001b[0m eta \u001b[36m0:00:00\u001b[0m\n",
            "\u001b[?25hDownloading nvidia_nvjitlink_cu12-12.4.127-py3-none-manylinux2014_x86_64.whl (21.1 MB)\n",
            "\u001b[2K   \u001b[90m━━━━━━━━━━━━━━━━━━━━━━━━━━━━━━━━━━━━━━━━\u001b[0m \u001b[32m21.1/21.1 MB\u001b[0m \u001b[31m96.0 MB/s\u001b[0m eta \u001b[36m0:00:00\u001b[0m\n",
            "\u001b[?25hInstalling collected packages: nvidia-nvjitlink-cu12, nvidia-curand-cu12, nvidia-cufft-cu12, nvidia-cuda-runtime-cu12, nvidia-cuda-nvrtc-cu12, nvidia-cuda-cupti-cu12, nvidia-cublas-cu12, nvidia-cusparse-cu12, nvidia-cudnn-cu12, nvidia-cusolver-cu12\n",
            "  Attempting uninstall: nvidia-nvjitlink-cu12\n",
            "    Found existing installation: nvidia-nvjitlink-cu12 12.5.82\n",
            "    Uninstalling nvidia-nvjitlink-cu12-12.5.82:\n",
            "      Successfully uninstalled nvidia-nvjitlink-cu12-12.5.82\n",
            "  Attempting uninstall: nvidia-curand-cu12\n",
            "    Found existing installation: nvidia-curand-cu12 10.3.6.82\n",
            "    Uninstalling nvidia-curand-cu12-10.3.6.82:\n",
            "      Successfully uninstalled nvidia-curand-cu12-10.3.6.82\n",
            "  Attempting uninstall: nvidia-cufft-cu12\n",
            "    Found existing installation: nvidia-cufft-cu12 11.2.3.61\n",
            "    Uninstalling nvidia-cufft-cu12-11.2.3.61:\n",
            "      Successfully uninstalled nvidia-cufft-cu12-11.2.3.61\n",
            "  Attempting uninstall: nvidia-cuda-runtime-cu12\n",
            "    Found existing installation: nvidia-cuda-runtime-cu12 12.5.82\n",
            "    Uninstalling nvidia-cuda-runtime-cu12-12.5.82:\n",
            "      Successfully uninstalled nvidia-cuda-runtime-cu12-12.5.82\n",
            "  Attempting uninstall: nvidia-cuda-nvrtc-cu12\n",
            "    Found existing installation: nvidia-cuda-nvrtc-cu12 12.5.82\n",
            "    Uninstalling nvidia-cuda-nvrtc-cu12-12.5.82:\n",
            "      Successfully uninstalled nvidia-cuda-nvrtc-cu12-12.5.82\n",
            "  Attempting uninstall: nvidia-cuda-cupti-cu12\n",
            "    Found existing installation: nvidia-cuda-cupti-cu12 12.5.82\n",
            "    Uninstalling nvidia-cuda-cupti-cu12-12.5.82:\n",
            "      Successfully uninstalled nvidia-cuda-cupti-cu12-12.5.82\n",
            "  Attempting uninstall: nvidia-cublas-cu12\n",
            "    Found existing installation: nvidia-cublas-cu12 12.5.3.2\n",
            "    Uninstalling nvidia-cublas-cu12-12.5.3.2:\n",
            "      Successfully uninstalled nvidia-cublas-cu12-12.5.3.2\n",
            "  Attempting uninstall: nvidia-cusparse-cu12\n",
            "    Found existing installation: nvidia-cusparse-cu12 12.5.1.3\n",
            "    Uninstalling nvidia-cusparse-cu12-12.5.1.3:\n",
            "      Successfully uninstalled nvidia-cusparse-cu12-12.5.1.3\n",
            "  Attempting uninstall: nvidia-cudnn-cu12\n",
            "    Found existing installation: nvidia-cudnn-cu12 9.3.0.75\n",
            "    Uninstalling nvidia-cudnn-cu12-9.3.0.75:\n",
            "      Successfully uninstalled nvidia-cudnn-cu12-9.3.0.75\n",
            "  Attempting uninstall: nvidia-cusolver-cu12\n",
            "    Found existing installation: nvidia-cusolver-cu12 11.6.3.83\n",
            "    Uninstalling nvidia-cusolver-cu12-11.6.3.83:\n",
            "      Successfully uninstalled nvidia-cusolver-cu12-11.6.3.83\n",
            "Successfully installed nvidia-cublas-cu12-12.4.5.8 nvidia-cuda-cupti-cu12-12.4.127 nvidia-cuda-nvrtc-cu12-12.4.127 nvidia-cuda-runtime-cu12-12.4.127 nvidia-cudnn-cu12-9.1.0.70 nvidia-cufft-cu12-11.2.1.3 nvidia-curand-cu12-10.3.5.147 nvidia-cusolver-cu12-11.6.1.9 nvidia-cusparse-cu12-12.3.1.170 nvidia-nvjitlink-cu12-12.4.127\n",
            "Requirement already satisfied: kaggle in /usr/local/lib/python3.11/dist-packages (1.7.4.5)\n",
            "Requirement already satisfied: bleach in /usr/local/lib/python3.11/dist-packages (from kaggle) (6.2.0)\n",
            "Requirement already satisfied: certifi>=14.05.14 in /usr/local/lib/python3.11/dist-packages (from kaggle) (2025.4.26)\n",
            "Requirement already satisfied: charset-normalizer in /usr/local/lib/python3.11/dist-packages (from kaggle) (3.4.2)\n",
            "Requirement already satisfied: idna in /usr/local/lib/python3.11/dist-packages (from kaggle) (3.10)\n",
            "Requirement already satisfied: protobuf in /usr/local/lib/python3.11/dist-packages (from kaggle) (5.29.4)\n",
            "Requirement already satisfied: python-dateutil>=2.5.3 in /usr/local/lib/python3.11/dist-packages (from kaggle) (2.9.0.post0)\n",
            "Requirement already satisfied: python-slugify in /usr/local/lib/python3.11/dist-packages (from kaggle) (8.0.4)\n",
            "Requirement already satisfied: requests in /usr/local/lib/python3.11/dist-packages (from kaggle) (2.32.3)\n",
            "Requirement already satisfied: setuptools>=21.0.0 in /usr/local/lib/python3.11/dist-packages (from kaggle) (75.2.0)\n",
            "Requirement already satisfied: six>=1.10 in /usr/local/lib/python3.11/dist-packages (from kaggle) (1.17.0)\n",
            "Requirement already satisfied: text-unidecode in /usr/local/lib/python3.11/dist-packages (from kaggle) (1.3)\n",
            "Requirement already satisfied: tqdm in /usr/local/lib/python3.11/dist-packages (from kaggle) (4.67.1)\n",
            "Requirement already satisfied: urllib3>=1.15.1 in /usr/local/lib/python3.11/dist-packages (from kaggle) (2.4.0)\n",
            "Requirement already satisfied: webencodings in /usr/local/lib/python3.11/dist-packages (from kaggle) (0.5.1)\n"
          ]
        }
      ],
      "source": [
        "# Install required packages\n",
        "!pip install wandb torch torchvision pandas numpy matplotlib seaborn\n",
        "\n",
        "# Set up Kaggle API\n",
        "!pip install kaggle"
      ]
    },
    {
      "cell_type": "code",
      "execution_count": 3,
      "id": "d8C1uZCRtaUB",
      "metadata": {
        "id": "d8C1uZCRtaUB"
      },
      "outputs": [],
      "source": [
        "# Upload your kaggle.json to Colab and run:\n",
        "!mkdir -p ~/.kaggle\n",
        "!cp /content/drive/MyDrive/ColabNotebooks/kaggle_API_credentials/kaggle.json ~/.kaggle/kaggle.json\n",
        "! chmod 600 ~/.kaggle/kaggle.json"
      ]
    },
    {
      "cell_type": "code",
      "execution_count": null,
      "id": "grXZd0wAtmhA",
      "metadata": {
        "colab": {
          "base_uri": "https://localhost:8080/"
        },
        "id": "grXZd0wAtmhA",
        "outputId": "5f8357e8-92c7-4d18-91be-a8e3febf656d"
      },
      "outputs": [
        {
          "name": "stdout",
          "output_type": "stream",
          "text": [
            "Downloading challenges-in-representation-learning-facial-expression-recognition-challenge.zip to /content\n",
            " 81% 231M/285M [00:00<00:00, 449MB/s]\n",
            "100% 285M/285M [00:00<00:00, 465MB/s]\n"
          ]
        }
      ],
      "source": [
        "# Download the dataset\n",
        "!kaggle competitions download -c challenges-in-representation-learning-facial-expression-recognition-challenge\n",
        "!unzip -q challenges-in-representation-learning-facial-expression-recognition-challenge.zip\n"
      ]
    },
    {
      "cell_type": "code",
      "execution_count": 5,
      "id": "644b4919",
      "metadata": {
        "id": "644b4919"
      },
      "outputs": [],
      "source": [
        "import pandas as pd\n",
        "import numpy as np\n",
        "import matplotlib.pyplot as plt\n",
        "import torch\n",
        "import torch.nn as nn\n",
        "import torch.optim as optim\n",
        "import torch.nn.functional as F\n",
        "from torch.utils.data import Dataset, DataLoader\n",
        "import torchvision.transforms as transforms\n",
        "from sklearn.metrics import classification_report, confusion_matrix\n",
        "import wandb\n",
        "import time\n",
        "from datetime import datetime\n",
        "from sklearn.model_selection import train_test_split"
      ]
    },
    {
      "cell_type": "code",
      "execution_count": 18,
      "id": "06a61dcf",
      "metadata": {
        "colab": {
          "base_uri": "https://localhost:8080/"
        },
        "id": "06a61dcf",
        "outputId": "e2b04e8a-8c2e-4c21-bca3-6a319f01f5b5"
      },
      "outputs": [
        {
          "name": "stdout",
          "output_type": "stream",
          "text": [
            "Using device: cuda\n"
          ]
        }
      ],
      "source": [
        "# Set device\n",
        "device = torch.device('cuda' if torch.cuda.is_available() else 'cpu')\n",
        "print(f\"Using device: {device}\")\n",
        "\n",
        "# Configuration\n",
        "CONFIG = {\n",
        "    'model_name': 'simple_cnn',\n",
        "    'batch_size': 32,\n",
        "    'learning_rate': 0.001,\n",
        "    'epochs': 20,\n",
        "    'image_size': 48,\n",
        "    'num_classes': 7,\n",
        "    'random_seed': 42,\n",
        "    'early_stop_patience': 5,  # More aggressive early stopping\n",
        "\n",
        "}\n",
        "\n",
        "# Set random seeds for reproducibility\n",
        "torch.manual_seed(CONFIG['random_seed'])\n",
        "np.random.seed(CONFIG['random_seed'])\n"
      ]
    },
    {
      "cell_type": "code",
      "execution_count": 90,
      "id": "P1S28mnVHuzA",
      "metadata": {
        "colab": {
          "base_uri": "https://localhost:8080/",
          "height": 126
        },
        "id": "P1S28mnVHuzA",
        "outputId": "d2845a9f-d580-4730-f686-3e149e3e0a70"
      },
      "outputs": [
        {
          "data": {
            "text/html": [
              "Tracking run with wandb version 0.19.11"
            ],
            "text/plain": [
              "<IPython.core.display.HTML object>"
            ]
          },
          "metadata": {},
          "output_type": "display_data"
        },
        {
          "data": {
            "text/html": [
              "Run data is saved locally in <code>/content/wandb/run-20250530_182227-gt7u2tte</code>"
            ],
            "text/plain": [
              "<IPython.core.display.HTML object>"
            ]
          },
          "metadata": {},
          "output_type": "display_data"
        },
        {
          "data": {
            "text/html": [
              "Syncing run <strong><a href='https://wandb.ai/ellekvirikashvili-free-university-of-tbilisi-/facial-expression-recognition/runs/gt7u2tte' target=\"_blank\">simple_cnn_20250530_182227</a></strong> to <a href='https://wandb.ai/ellekvirikashvili-free-university-of-tbilisi-/facial-expression-recognition' target=\"_blank\">Weights & Biases</a> (<a href='https://wandb.me/developer-guide' target=\"_blank\">docs</a>)<br>"
            ],
            "text/plain": [
              "<IPython.core.display.HTML object>"
            ]
          },
          "metadata": {},
          "output_type": "display_data"
        },
        {
          "data": {
            "text/html": [
              " View project at <a href='https://wandb.ai/ellekvirikashvili-free-university-of-tbilisi-/facial-expression-recognition' target=\"_blank\">https://wandb.ai/ellekvirikashvili-free-university-of-tbilisi-/facial-expression-recognition</a>"
            ],
            "text/plain": [
              "<IPython.core.display.HTML object>"
            ]
          },
          "metadata": {},
          "output_type": "display_data"
        },
        {
          "data": {
            "text/html": [
              " View run at <a href='https://wandb.ai/ellekvirikashvili-free-university-of-tbilisi-/facial-expression-recognition/runs/gt7u2tte' target=\"_blank\">https://wandb.ai/ellekvirikashvili-free-university-of-tbilisi-/facial-expression-recognition/runs/gt7u2tte</a>"
            ],
            "text/plain": [
              "<IPython.core.display.HTML object>"
            ]
          },
          "metadata": {},
          "output_type": "display_data"
        },
        {
          "data": {
            "text/html": [
              "<button onClick=\"this.nextSibling.style.display='block';this.style.display='none';\">Display W&B run</button><iframe src='https://wandb.ai/ellekvirikashvili-free-university-of-tbilisi-/facial-expression-recognition/runs/gt7u2tte?jupyter=true' style='border:none;width:100%;height:420px;display:none;'></iframe>"
            ],
            "text/plain": [
              "<wandb.sdk.wandb_run.Run at 0x7d03766ac250>"
            ]
          },
          "execution_count": 90,
          "metadata": {},
          "output_type": "execute_result"
        }
      ],
      "source": [
        "# Initialize wandb\n",
        "wandb.init(\n",
        "    project=\"facial-expression-recognition\",\n",
        "    name=f\"{CONFIG['model_name']}_{datetime.now().strftime('%Y%m%d_%H%M%S')}\",\n",
        "    config=CONFIG,\n",
        "    job_type=\"training\"\n",
        ")"
      ]
    },
    {
      "cell_type": "markdown",
      "id": "f6202101",
      "metadata": {
        "id": "f6202101"
      },
      "source": [
        "# Custom Dataset Class"
      ]
    },
    {
      "cell_type": "code",
      "execution_count": 76,
      "id": "953f6bff",
      "metadata": {
        "id": "953f6bff"
      },
      "outputs": [],
      "source": [
        "class FERDataset(Dataset):\n",
        "    def __init__(self, dataframe, indices, transform=None):\n",
        "        self.data = dataframe.iloc[indices].reset_index(drop=True)\n",
        "        self.transform = transform\n",
        "\n",
        "    def __len__(self):\n",
        "        return len(self.data)\n",
        "\n",
        "    def __getitem__(self, idx):\n",
        "      # Get the actual index from your subset\n",
        "      actual_idx = self.indices[idx] if hasattr(self, 'indices') else idx\n",
        "\n",
        "      # Load image (assuming pixels are stored as string)\n",
        "      pixels = self.data.iloc[actual_idx]['pixels']\n",
        "      image = np.array([int(x) for x in pixels.split()]).reshape(48, 48)\n",
        "\n",
        "      # Convert to PIL Image (grayscale)\n",
        "      image = Image.fromarray(image.astype(np.uint8), mode='L')\n",
        "\n",
        "      # Apply transforms (this will convert to tensor)\n",
        "      if self.transform:\n",
        "          image = self.transform(image)\n",
        "\n",
        "      # Get label\n",
        "      label = self.data.iloc[actual_idx]['emotion']\n",
        "\n",
        "      return image, label"
      ]
    },
    {
      "cell_type": "markdown",
      "id": "7UeJV6F3sdsT",
      "metadata": {
        "id": "7UeJV6F3sdsT"
      },
      "source": [
        "#  Define Simple CNN Model\n"
      ]
    },
    {
      "cell_type": "code",
      "execution_count": 77,
      "id": "oXPMjtHIscVk",
      "metadata": {
        "id": "oXPMjtHIscVk"
      },
      "outputs": [],
      "source": [
        "class SimpleCNN(nn.Module):\n",
        "        def __init__(self, num_classes=7):\n",
        "            super(SimpleCNN, self).__init__()\n",
        "\n",
        "            # Feature extraction layers\n",
        "            self.conv1 = nn.Conv2d(1, 32, kernel_size=3, padding=1)\n",
        "            self.bn1 = nn.BatchNorm2d(32) # Add BatchNorm\n",
        "\n",
        "            self.conv2 = nn.Conv2d(32, 64, kernel_size=3, padding=1)\n",
        "            self.bn2 = nn.BatchNorm2d(64) # Add BatchNorm\n",
        "\n",
        "            self.conv3 = nn.Conv2d(64, 128, kernel_size=3, padding=1)\n",
        "            self.bn3 = nn.BatchNorm2d(128) # Add BatchNorm\n",
        "\n",
        "            self.pool = nn.MaxPool2d(2, 2)\n",
        "            self.dropout = nn.Dropout(0.5)\n",
        "\n",
        "            self.fc1 = nn.Linear(128 * 6 * 6, 512)\n",
        "            self.fc2 = nn.Linear(512, num_classes)\n",
        "\n",
        "        def forward(self, x):\n",
        "            x = self.pool(F.relu(self.bn1(self.conv1(x)))) # Apply BatchNorm\n",
        "            x = self.pool(F.relu(self.bn2(self.conv2(x)))) # Apply BatchNorm\n",
        "            x = self.pool(F.relu(self.bn3(self.conv3(x)))) # Apply BatchNorm\n",
        "\n",
        "            x = x.view(x.size(0), -1)\n",
        "\n",
        "            x = F.relu(self.fc1(x))\n",
        "            x = self.dropout(x)\n",
        "            x = self.fc2(x)\n",
        "\n",
        "            return x"
      ]
    },
    {
      "cell_type": "markdown",
      "id": "3eZ7laA4skVN",
      "metadata": {
        "id": "3eZ7laA4skVN"
      },
      "source": [
        "# Load data"
      ]
    },
    {
      "cell_type": "code",
      "execution_count": 87,
      "id": "xqtIpz3fsiu6",
      "metadata": {
        "colab": {
          "base_uri": "https://localhost:8080/"
        },
        "id": "xqtIpz3fsiu6",
        "outputId": "7ea94649-55a6-45c7-eb65-68ac880d3532"
      },
      "outputs": [
        {
          "name": "stdout",
          "output_type": "stream",
          "text": [
            "Loading data...\n",
            "Training samples: 22967\n",
            "Validation samples: 5742\n"
          ]
        }
      ],
      "source": [
        "# Load data\n",
        "from PIL import Image\n",
        "\n",
        "print(\"Loading data...\")\n",
        "train_df = pd.read_csv('train.csv')\n",
        "train_indices, val_indices = train_test_split(\n",
        "    range(len(train_df)),\n",
        "    test_size=0.2,\n",
        "    stratify=train_df['emotion'],\n",
        "    random_state=42\n",
        ")\n",
        "\n",
        "# Add data augmentation\n",
        "train_transform = transforms.Compose([\n",
        "    transforms.ToTensor(),  # Convert PIL Image to tensor - ADD THIS FIRST\n",
        "    transforms.RandomHorizontalFlip(),\n",
        "    transforms.RandomRotation(10),\n",
        "    transforms.ColorJitter(brightness=0.2, contrast=0.2),\n",
        "    transforms.Normalize(mean=[0.5], std=[0.5])\n",
        "])\n",
        "\n",
        "val_transform = transforms.Compose([\n",
        "    transforms.ToTensor(),  # Convert PIL Image to tensor - ADD THIS FIRST\n",
        "    transforms.Normalize(mean=[0.5], std=[0.5])\n",
        "])\n",
        "\n",
        "train_dataset = FERDataset(train_df, train_indices, transform=train_transform)\n",
        "val_dataset = FERDataset(train_df, val_indices, transform=val_transform)\n",
        "\n",
        "# Create data loaders\n",
        "train_loader = DataLoader(\n",
        "    train_dataset,\n",
        "    batch_size=CONFIG['batch_size'],\n",
        "    shuffle=True,\n",
        "    num_workers=2,\n",
        "    # sampler=sampler\n",
        ")\n",
        "\n",
        "val_loader = DataLoader(\n",
        "    val_dataset,\n",
        "    batch_size=CONFIG['batch_size'],\n",
        "    shuffle=False,\n",
        "    num_workers=2\n",
        ")\n",
        "\n",
        "print(f\"Training samples: {len(train_dataset)}\")\n",
        "print(f\"Validation samples: {len(val_dataset)}\")"
      ]
    },
    {
      "cell_type": "markdown",
      "id": "cTdPZV0AuTN4",
      "metadata": {
        "id": "cTdPZV0AuTN4"
      },
      "source": [
        "# Training"
      ]
    },
    {
      "cell_type": "markdown",
      "id": "zsdkLiTAuIob",
      "metadata": {
        "id": "zsdkLiTAuIob"
      },
      "source": [
        "## Initialize model\n"
      ]
    },
    {
      "cell_type": "code",
      "execution_count": 91,
      "id": "mBxY-pASuHJc",
      "metadata": {
        "colab": {
          "base_uri": "https://localhost:8080/"
        },
        "id": "mBxY-pASuHJc",
        "outputId": "58569a53-f11d-411b-c7c4-9096af4ae7e9"
      },
      "outputs": [
        {
          "name": "stdout",
          "output_type": "stream",
          "text": [
            "Model Parameters: 2,456,519 total, 2,456,519 trainable\n"
          ]
        }
      ],
      "source": [
        "model = SimpleCNN(num_classes=CONFIG['num_classes']).to(device)\n",
        "\n",
        "# Count parameters\n",
        "total_params = sum(p.numel() for p in model.parameters())\n",
        "trainable_params = sum(p.numel() for p in model.parameters() if p.requires_grad)\n",
        "\n",
        "print(f\"Model Parameters: {total_params:,} total, {trainable_params:,} trainable\")\n",
        "\n",
        "# Log model info\n",
        "wandb.log({\n",
        "    \"model_parameters\": total_params,\n",
        "    \"trainable_parameters\": trainable_params\n",
        "})\n"
      ]
    },
    {
      "cell_type": "code",
      "execution_count": 92,
      "id": "WtGaIeY9uL-_",
      "metadata": {
        "id": "WtGaIeY9uL-_"
      },
      "outputs": [],
      "source": [
        "\n",
        "# Define loss and optimizer\n",
        "from sklearn.utils.class_weight import compute_class_weight\n",
        "import numpy as np\n",
        "\n",
        "# Get class weights from training data\n",
        "labels = train_df['emotion'].values\n",
        "class_weights = compute_class_weight(class_weight='balanced', classes=np.unique(labels), y=labels)\n",
        "class_weights = torch.tensor(class_weights, dtype=torch.float).to(device)\n",
        "\n",
        "criterion = nn.CrossEntropyLoss(weight=class_weights)\n",
        "optimizer =optim.AdamW(model.parameters(), lr=CONFIG['learning_rate'], weight_decay=1e-4)"
      ]
    },
    {
      "cell_type": "markdown",
      "id": "RRkO-zF0uO2-",
      "metadata": {
        "id": "RRkO-zF0uO2-"
      },
      "source": [
        "## Training Function"
      ]
    },
    {
      "cell_type": "code",
      "execution_count": 80,
      "id": "dt9Up7vHuOZO",
      "metadata": {
        "id": "dt9Up7vHuOZO"
      },
      "outputs": [],
      "source": [
        "def train_epoch(model, train_loader, criterion, optimizer, device):\n",
        "    model.train()\n",
        "    running_loss = 0.0\n",
        "    correct = 0\n",
        "    total = 0\n",
        "\n",
        "    for batch_idx, (data, target) in enumerate(train_loader):\n",
        "        data, target = data.to(device), target.to(device)\n",
        "\n",
        "        optimizer.zero_grad()\n",
        "        output = model(data)\n",
        "        loss = criterion(output, target)\n",
        "        loss.backward()\n",
        "        optimizer.step()\n",
        "\n",
        "        running_loss += loss.item()\n",
        "        _, predicted = torch.max(output.data, 1)\n",
        "        total += target.size(0)\n",
        "        correct += (predicted == target).sum().item()\n",
        "\n",
        "        if batch_idx % 100 == 0:\n",
        "            print(f'Batch {batch_idx}/{len(train_loader)}, Loss: {loss.item():.4f}')\n",
        "\n",
        "    epoch_loss = running_loss / len(train_loader)\n",
        "    epoch_acc = 100.0 * correct / total\n",
        "\n",
        "    return epoch_loss, epoch_acc\n"
      ]
    },
    {
      "cell_type": "markdown",
      "id": "y9hU3Z69uYg-",
      "metadata": {
        "id": "y9hU3Z69uYg-"
      },
      "source": [
        "## Validation function"
      ]
    },
    {
      "cell_type": "code",
      "execution_count": 81,
      "id": "bZ8_GPuyuYEU",
      "metadata": {
        "id": "bZ8_GPuyuYEU"
      },
      "outputs": [],
      "source": [
        "# Validation function\n",
        "def validate_epoch(model, val_loader, criterion, device):\n",
        "    model.eval()\n",
        "    running_loss = 0.0\n",
        "    correct = 0\n",
        "    total = 0\n",
        "    all_preds = []\n",
        "    all_targets = []\n",
        "\n",
        "    with torch.no_grad():\n",
        "        for data, target in val_loader:\n",
        "            data, target = data.to(device), target.to(device)\n",
        "            output = model(data)\n",
        "            loss = criterion(output, target)\n",
        "\n",
        "            running_loss += loss.item()\n",
        "            _, predicted = torch.max(output.data, 1)\n",
        "            total += target.size(0)\n",
        "            correct += (predicted == target).sum().item()\n",
        "\n",
        "            all_preds.extend(predicted.cpu().numpy())\n",
        "            all_targets.extend(target.cpu().numpy())\n",
        "\n",
        "    epoch_loss = running_loss / len(val_loader)\n",
        "    epoch_acc = 100.0 * correct / total\n",
        "\n",
        "    return epoch_loss, epoch_acc, all_preds, all_targets\n"
      ]
    },
    {
      "cell_type": "markdown",
      "id": "zFUubbEFueMn",
      "metadata": {
        "id": "zFUubbEFueMn"
      },
      "source": [
        "## Training Loop"
      ]
    },
    {
      "cell_type": "code",
      "execution_count": 93,
      "id": "JB7-quGnudYv",
      "metadata": {
        "colab": {
          "base_uri": "https://localhost:8080/"
        },
        "id": "JB7-quGnudYv",
        "outputId": "4b4c0101-1523-40a2-ab82-823bc4d12536"
      },
      "outputs": [
        {
          "name": "stdout",
          "output_type": "stream",
          "text": [
            "\n",
            "Starting training...\n",
            "Batch 0/718, Loss: 1.9746\n",
            "Batch 100/718, Loss: 1.9201\n",
            "Batch 200/718, Loss: 2.0033\n",
            "Batch 300/718, Loss: 1.9417\n",
            "Batch 400/718, Loss: 1.8943\n",
            "Batch 500/718, Loss: 1.9288\n",
            "Batch 600/718, Loss: 1.8682\n",
            "Batch 700/718, Loss: 1.9413\n",
            "Epoch [1/20]\n",
            "Train Loss: 1.9805, Train Acc: 16.95%\n",
            "Val Loss: 1.9125, Val Acc: 21.47%\n",
            "Time: 49.96s\n",
            "--------------------------------------------------\n",
            "New best validation accuracy: 21.47%\n",
            "Batch 0/718, Loss: 1.8882\n",
            "Batch 100/718, Loss: 1.9032\n",
            "Batch 200/718, Loss: 1.9440\n",
            "Batch 300/718, Loss: 1.8536\n",
            "Batch 400/718, Loss: 1.6705\n",
            "Batch 500/718, Loss: 1.7606\n",
            "Batch 600/718, Loss: 1.9015\n",
            "Batch 700/718, Loss: 2.0056\n",
            "Epoch [2/20]\n",
            "Train Loss: 1.8898, Train Acc: 23.45%\n",
            "Val Loss: 1.8257, Val Acc: 26.85%\n",
            "Time: 47.86s\n",
            "--------------------------------------------------\n",
            "New best validation accuracy: 26.85%\n",
            "Batch 0/718, Loss: 1.7331\n",
            "Batch 100/718, Loss: 1.7481\n",
            "Batch 200/718, Loss: 2.0202\n",
            "Batch 300/718, Loss: 1.7542\n",
            "Batch 400/718, Loss: 1.9874\n",
            "Batch 500/718, Loss: 1.6111\n",
            "Batch 600/718, Loss: 1.6443\n",
            "Batch 700/718, Loss: 1.9073\n",
            "Epoch [3/20]\n",
            "Train Loss: 1.8348, Train Acc: 24.38%\n",
            "Val Loss: 1.7478, Val Acc: 31.56%\n",
            "Time: 50.65s\n",
            "--------------------------------------------------\n",
            "New best validation accuracy: 31.56%\n",
            "Batch 0/718, Loss: 1.7908\n",
            "Batch 100/718, Loss: 1.7643\n",
            "Batch 200/718, Loss: 1.9796\n",
            "Batch 300/718, Loss: 1.6902\n",
            "Batch 400/718, Loss: 1.8546\n",
            "Batch 500/718, Loss: 1.6725\n",
            "Batch 600/718, Loss: 1.8062\n",
            "Batch 700/718, Loss: 1.8061\n",
            "Epoch [4/20]\n",
            "Train Loss: 1.8083, Train Acc: 25.34%\n",
            "Val Loss: 1.7078, Val Acc: 35.04%\n",
            "Time: 47.98s\n",
            "--------------------------------------------------\n",
            "New best validation accuracy: 35.04%\n",
            "Batch 0/718, Loss: 1.7770\n",
            "Batch 100/718, Loss: 1.7444\n",
            "Batch 200/718, Loss: 1.6726\n",
            "Batch 300/718, Loss: 1.5588\n",
            "Batch 400/718, Loss: 1.6951\n",
            "Batch 500/718, Loss: 1.9199\n",
            "Batch 600/718, Loss: 1.6338\n",
            "Batch 700/718, Loss: 1.7417\n",
            "Epoch [5/20]\n",
            "Train Loss: 1.7822, Train Acc: 26.00%\n",
            "Val Loss: 1.6784, Val Acc: 36.99%\n",
            "Time: 47.86s\n",
            "--------------------------------------------------\n",
            "New best validation accuracy: 36.99%\n",
            "Batch 0/718, Loss: 1.9884\n",
            "Batch 100/718, Loss: 1.5861\n",
            "Batch 200/718, Loss: 1.9504\n",
            "Batch 300/718, Loss: 1.9574\n",
            "Batch 400/718, Loss: 1.7849\n",
            "Batch 500/718, Loss: 1.7666\n",
            "Batch 600/718, Loss: 1.9533\n",
            "Batch 700/718, Loss: 1.7392\n",
            "Epoch [6/20]\n",
            "Train Loss: 1.7654, Train Acc: 27.70%\n",
            "Val Loss: 1.6368, Val Acc: 39.27%\n",
            "Time: 47.98s\n",
            "--------------------------------------------------\n",
            "New best validation accuracy: 39.27%\n",
            "Batch 0/718, Loss: 1.7257\n",
            "Batch 100/718, Loss: 1.7781\n",
            "Batch 200/718, Loss: 1.6820\n",
            "Batch 300/718, Loss: 1.7074\n",
            "Batch 400/718, Loss: 1.8060\n",
            "Batch 500/718, Loss: 1.7239\n",
            "Batch 600/718, Loss: 1.7697\n",
            "Batch 700/718, Loss: 1.8452\n",
            "Epoch [7/20]\n",
            "Train Loss: 1.7624, Train Acc: 28.09%\n",
            "Val Loss: 1.6281, Val Acc: 40.16%\n",
            "Time: 50.01s\n",
            "--------------------------------------------------\n",
            "New best validation accuracy: 40.16%\n",
            "Batch 0/718, Loss: 1.6905\n",
            "Batch 100/718, Loss: 1.5012\n",
            "Batch 200/718, Loss: 1.7996\n",
            "Batch 300/718, Loss: 1.4541\n",
            "Batch 400/718, Loss: 1.8342\n",
            "Batch 500/718, Loss: 1.5112\n",
            "Batch 600/718, Loss: 1.7872\n",
            "Batch 700/718, Loss: 1.7963\n",
            "Epoch [8/20]\n",
            "Train Loss: 1.7399, Train Acc: 29.18%\n",
            "Val Loss: 1.6098, Val Acc: 39.64%\n",
            "Time: 48.38s\n",
            "--------------------------------------------------\n",
            "Batch 0/718, Loss: 1.7662\n",
            "Batch 100/718, Loss: 1.7512\n",
            "Batch 200/718, Loss: 1.7205\n",
            "Batch 300/718, Loss: 1.6931\n",
            "Batch 400/718, Loss: 1.5536\n",
            "Batch 500/718, Loss: 1.7640\n",
            "Batch 600/718, Loss: 1.7691\n",
            "Batch 700/718, Loss: 2.1966\n",
            "Epoch [9/20]\n",
            "Train Loss: 1.7332, Train Acc: 29.42%\n",
            "Val Loss: 1.6467, Val Acc: 40.70%\n",
            "Time: 48.57s\n",
            "--------------------------------------------------\n",
            "New best validation accuracy: 40.70%\n",
            "Batch 0/718, Loss: 1.6657\n",
            "Batch 100/718, Loss: 1.6831\n",
            "Batch 200/718, Loss: 1.9216\n",
            "Batch 300/718, Loss: 1.5640\n",
            "Batch 400/718, Loss: 1.7776\n",
            "Batch 500/718, Loss: 1.5144\n",
            "Batch 600/718, Loss: 1.6235\n",
            "Batch 700/718, Loss: 1.8449\n",
            "Epoch [10/20]\n",
            "Train Loss: 1.7209, Train Acc: 29.96%\n",
            "Val Loss: 1.6266, Val Acc: 42.15%\n",
            "Time: 48.79s\n",
            "--------------------------------------------------\n",
            "New best validation accuracy: 42.15%\n",
            "Batch 0/718, Loss: 1.6369\n",
            "Batch 100/718, Loss: 1.3527\n",
            "Batch 200/718, Loss: 1.6946\n",
            "Batch 300/718, Loss: 1.6822\n",
            "Batch 400/718, Loss: 1.9000\n",
            "Batch 500/718, Loss: 1.6188\n",
            "Batch 600/718, Loss: 1.6533\n",
            "Batch 700/718, Loss: 1.6700\n",
            "Epoch [11/20]\n",
            "Train Loss: 1.7250, Train Acc: 30.34%\n",
            "Val Loss: 1.5691, Val Acc: 44.88%\n",
            "Time: 48.72s\n",
            "--------------------------------------------------\n",
            "New best validation accuracy: 44.88%\n",
            "Batch 0/718, Loss: 1.6558\n",
            "Batch 100/718, Loss: 1.6059\n",
            "Batch 200/718, Loss: 1.9081\n",
            "Batch 300/718, Loss: 1.8752\n",
            "Batch 400/718, Loss: 1.6147\n",
            "Batch 500/718, Loss: 1.8308\n",
            "Batch 600/718, Loss: 1.6518\n",
            "Batch 700/718, Loss: 1.8508\n",
            "Epoch [12/20]\n",
            "Train Loss: 1.7103, Train Acc: 31.08%\n",
            "Val Loss: 1.5536, Val Acc: 43.52%\n",
            "Time: 49.83s\n",
            "--------------------------------------------------\n",
            "Batch 0/718, Loss: 1.6073\n",
            "Batch 100/718, Loss: 1.7288\n",
            "Batch 200/718, Loss: 1.5504\n",
            "Batch 300/718, Loss: 1.8042\n",
            "Batch 400/718, Loss: 1.4569\n",
            "Batch 500/718, Loss: 1.6725\n",
            "Batch 600/718, Loss: 1.7225\n",
            "Batch 700/718, Loss: 1.8632\n",
            "Epoch [13/20]\n",
            "Train Loss: 1.6980, Train Acc: 31.13%\n",
            "Val Loss: 1.5424, Val Acc: 44.15%\n",
            "Time: 47.39s\n",
            "--------------------------------------------------\n",
            "Batch 0/718, Loss: 1.6248\n",
            "Batch 100/718, Loss: 1.7789\n",
            "Batch 200/718, Loss: 1.3554\n",
            "Batch 300/718, Loss: 1.6634\n",
            "Batch 400/718, Loss: 1.6588\n",
            "Batch 500/718, Loss: 1.8255\n",
            "Batch 600/718, Loss: 1.8142\n",
            "Batch 700/718, Loss: 1.8837\n",
            "Epoch [14/20]\n",
            "Train Loss: 1.6812, Train Acc: 31.64%\n",
            "Val Loss: 1.5428, Val Acc: 44.62%\n",
            "Time: 47.63s\n",
            "--------------------------------------------------\n",
            "Batch 0/718, Loss: 1.7091\n",
            "Batch 100/718, Loss: 1.6897\n",
            "Batch 200/718, Loss: 1.8281\n",
            "Batch 300/718, Loss: 1.7050\n",
            "Batch 400/718, Loss: 1.6149\n",
            "Batch 500/718, Loss: 1.4942\n",
            "Batch 600/718, Loss: 1.5352\n",
            "Batch 700/718, Loss: 1.4670\n",
            "Epoch [15/20]\n",
            "Train Loss: 1.6804, Train Acc: 31.94%\n",
            "Val Loss: 1.5667, Val Acc: 44.15%\n",
            "Time: 48.27s\n",
            "--------------------------------------------------\n",
            "Batch 0/718, Loss: 1.6470\n",
            "Batch 100/718, Loss: 1.2329\n",
            "Batch 200/718, Loss: 1.7844\n",
            "Batch 300/718, Loss: 1.6591\n",
            "Batch 400/718, Loss: 1.8000\n",
            "Batch 500/718, Loss: 1.8865\n",
            "Batch 600/718, Loss: 1.6128\n",
            "Batch 700/718, Loss: 1.6585\n",
            "Epoch [16/20]\n",
            "Train Loss: 1.6530, Train Acc: 32.67%\n",
            "Val Loss: 1.5585, Val Acc: 42.28%\n",
            "Time: 50.28s\n",
            "--------------------------------------------------\n",
            "Early stopping at epoch 16\n",
            "\n",
            "Training completed in 780.47s\n",
            "Best validation accuracy: 44.88%\n"
          ]
        }
      ],
      "source": [
        "print(\"\\nStarting training...\")\n",
        "train_losses, train_accs = [], []\n",
        "val_losses, val_accs = [], []\n",
        "best_val_acc = 0.0\n",
        "patience_counter = 0\n",
        "early_stop_patience = CONFIG['early_stop_patience']\n",
        "\n",
        "start_time = time.time()\n",
        "\n",
        "for epoch in range(CONFIG['epochs']):\n",
        "    epoch_start = time.time()\n",
        "\n",
        "    # Train\n",
        "    train_loss, train_acc = train_epoch(model, train_loader, criterion, optimizer, device)\n",
        "\n",
        "    # Validate\n",
        "    val_loss, val_acc, val_preds, val_targets = validate_epoch(model, val_loader, criterion, device)\n",
        "\n",
        "    # Store metrics\n",
        "    train_losses.append(train_loss)\n",
        "    train_accs.append(train_acc)\n",
        "    val_losses.append(val_loss)\n",
        "    val_accs.append(val_acc)\n",
        "\n",
        "    epoch_time = time.time() - epoch_start\n",
        "\n",
        "    # Log to wandb\n",
        "    wandb.log({\n",
        "        'epoch': epoch + 1,\n",
        "        'train_loss': train_loss,\n",
        "        'train_accuracy': train_acc,\n",
        "        'val_loss': val_loss,\n",
        "        'val_accuracy': val_acc,\n",
        "        'epoch_time': epoch_time,\n",
        "        'learning_rate': optimizer.param_groups[0]['lr']\n",
        "    })\n",
        "\n",
        "    print(f'Epoch [{epoch+1}/{CONFIG[\"epochs\"]}]')\n",
        "    print(f'Train Loss: {train_loss:.4f}, Train Acc: {train_acc:.2f}%')\n",
        "    print(f'Val Loss: {val_loss:.4f}, Val Acc: {val_acc:.2f}%')\n",
        "    print(f'Time: {epoch_time:.2f}s')\n",
        "    print('-' * 50)\n",
        "\n",
        "    # Save best model\n",
        "    if val_acc > best_val_acc:\n",
        "        best_val_acc = val_acc\n",
        "        torch.save(model.state_dict(), 'simple_cnn_best.pth')\n",
        "        print(f'New best validation accuracy: {best_val_acc:.2f}%')\n",
        "        patience_counter = 0\n",
        "    else:\n",
        "        patience_counter += 1\n",
        "\n",
        "    # Early stopping\n",
        "    if patience_counter >= early_stop_patience:\n",
        "        print(f'Early stopping at epoch {epoch+1}')\n",
        "        break\n",
        "\n",
        "total_time = time.time() - start_time\n",
        "print(f'\\nTraining completed in {total_time:.2f}s')\n",
        "print(f'Best validation accuracy: {best_val_acc:.2f}%')"
      ]
    },
    {
      "cell_type": "code",
      "execution_count": 94,
      "id": "yaLkuDoWuj4y",
      "metadata": {
        "colab": {
          "base_uri": "https://localhost:8080/",
          "height": 454
        },
        "id": "yaLkuDoWuj4y",
        "outputId": "7c76bad7-0f30-4324-f775-b6187614147a"
      },
      "outputs": [
        {
          "data": {
            "image/png": "[encoded data removed]",
            "text/plain": [
              "<Figure size 1500x500 with 3 Axes>"
            ]
          },
          "metadata": {},
          "output_type": "display_data"
        }
      ],
      "source": [
        "\n",
        "# Plot training curves\n",
        "plt.figure(figsize=(15, 5))\n",
        "\n",
        "plt.subplot(1, 3, 1)\n",
        "plt.plot(train_losses, label='Train Loss', color='blue')\n",
        "plt.plot(val_losses, label='Val Loss', color='red')\n",
        "plt.xlabel('Epoch')\n",
        "plt.ylabel('Loss')\n",
        "plt.title('Training and Validation Loss')\n",
        "plt.legend()\n",
        "plt.grid(True)\n",
        "\n",
        "plt.subplot(1, 3, 2)\n",
        "plt.plot(train_accs, label='Train Acc', color='blue')\n",
        "plt.plot(val_accs, label='Val Acc', color='red')\n",
        "plt.xlabel('Epoch')\n",
        "plt.ylabel('Accuracy (%)')\n",
        "plt.title('Training and Validation Accuracy')\n",
        "plt.legend()\n",
        "plt.grid(True)\n",
        "\n",
        "plt.subplot(1, 3, 3)\n",
        "plt.plot(np.array(train_accs) - np.array(val_accs), label='Acc Gap', color='green')\n",
        "plt.xlabel('Epoch')\n",
        "plt.ylabel('Train - Val Accuracy (%)')\n",
        "plt.title('Overfitting Indicator')\n",
        "plt.legend()\n",
        "plt.grid(True)\n",
        "plt.axhline(y=0, color='black', linestyle='--', alpha=0.5)\n",
        "\n",
        "plt.tight_layout()\n",
        "plt.savefig('simple_cnn_training_curves.png', dpi=300, bbox_inches='tight')\n",
        "plt.show()"
      ]
    },
    {
      "cell_type": "markdown",
      "id": "jOyq8NG2usFF",
      "metadata": {
        "id": "jOyq8NG2usFF"
      },
      "source": [
        "## load bst model"
      ]
    },
    {
      "cell_type": "code",
      "execution_count": 95,
      "id": "2UWCjKHgup88",
      "metadata": {
        "colab": {
          "base_uri": "https://localhost:8080/"
        },
        "id": "2UWCjKHgup88",
        "outputId": "a392012d-0592-41a8-f0e8-472ab093c3cf"
      },
      "outputs": [
        {
          "name": "stdout",
          "output_type": "stream",
          "text": [
            "Final validation accuracy: 44.88%\n",
            "\n",
            "Classification Report:\n",
            "              precision    recall  f1-score   support\n",
            "\n",
            "       Angry       0.37      0.20      0.26       799\n",
            "     Disgust       0.54      0.16      0.25        87\n",
            "        Fear       0.23      0.13      0.17       820\n",
            "       Happy       0.68      0.78      0.73      1443\n",
            "         Sad       0.29      0.51      0.37       966\n",
            "    Surprise       0.62      0.73      0.67       634\n",
            "     Neutral       0.31      0.21      0.25       993\n",
            "\n",
            "    accuracy                           0.45      5742\n",
            "   macro avg       0.43      0.39      0.38      5742\n",
            "weighted avg       0.43      0.45      0.43      5742\n",
            "\n"
          ]
        }
      ],
      "source": [
        "\n",
        "# Load best model for final evaluation\n",
        "model.load_state_dict(torch.load('simple_cnn_best.pth'))\n",
        "\n",
        "# Final validation with best model\n",
        "final_val_loss, final_val_acc, final_preds, final_targets = validate_epoch(\n",
        "    model, val_loader, criterion, device\n",
        ")\n",
        "\n",
        "print(f'Final validation accuracy: {final_val_acc:.2f}%')\n",
        "\n",
        "# Classification report\n",
        "expression_mapping = {\n",
        "    0: 'Angry', 1: 'Disgust', 2: 'Fear', 3: 'Happy',\n",
        "    4: 'Sad', 5: 'Surprise', 6: 'Neutral'\n",
        "}\n",
        "\n",
        "class_names = [expression_mapping[i] for i in range(7)]\n",
        "class_report = classification_report(\n",
        "    final_targets, final_preds,\n",
        "    target_names=class_names,\n",
        "    output_dict=True\n",
        ")\n",
        "\n",
        "print(\"\\nClassification Report:\")\n",
        "print(classification_report(final_targets, final_preds, target_names=class_names))\n"
      ]
    },
    {
      "cell_type": "markdown",
      "id": "ChD6EnJcN1RY",
      "metadata": {
        "id": "ChD6EnJcN1RY"
      },
      "source": [
        "##  Confusion Matrix"
      ]
    },
    {
      "cell_type": "code",
      "execution_count": 96,
      "id": "3CuKlTInuwtc",
      "metadata": {
        "colab": {
          "base_uri": "https://localhost:8080/",
          "height": 929
        },
        "id": "3CuKlTInuwtc",
        "outputId": "5a020f59-aad0-44e1-c2fb-562a18b3d33d"
      },
      "outputs": [
        {
          "data": {
            "image/png": "[encoded data removed]",
            "text/plain": [
              "<Figure size 1000x800 with 2 Axes>"
            ]
          },
          "metadata": {},
          "output_type": "display_data"
        },
        {
          "name": "stdout",
          "output_type": "stream",
          "text": [
            "Angry: 19.9% (799 samples)\n",
            "Disgust: 16.1% (87 samples)\n",
            "Fear: 13.3% (820 samples)\n",
            "Happy: 78.2% (1443 samples)\n",
            "Sad: 51.2% (966 samples)\n",
            "Surprise: 73.0% (634 samples)\n",
            "Neutral: 21.0% (993 samples)\n"
          ]
        }
      ],
      "source": [
        "import matplotlib.pyplot as plt\n",
        "import seaborn as sns\n",
        "cm = confusion_matrix(final_targets, final_preds)\n",
        "plt.figure(figsize=(10, 8))\n",
        "sns.heatmap(cm, annot=True, fmt='d', cmap='Blues',\n",
        "            xticklabels=class_names, yticklabels=class_names)\n",
        "plt.title('Confusion Matrix - Simple CNN')\n",
        "plt.xlabel('Predicted')\n",
        "plt.ylabel('Actual')\n",
        "plt.tight_layout()\n",
        "plt.savefig('simple_cnn_confusion_matrix.png', dpi=300, bbox_inches='tight')\n",
        "plt.show()\n",
        "\n",
        "# Analyze per-class performance\n",
        "per_class_acc = []\n",
        "for i in range(7):\n",
        "    class_mask = np.array(final_targets) == i\n",
        "    if class_mask.sum() > 0:\n",
        "        class_acc = (np.array(final_preds)[class_mask] == i).mean() * 100\n",
        "        per_class_acc.append(class_acc)\n",
        "        print(f'{class_names[i]}: {class_acc:.1f}% ({class_mask.sum()} samples)')\n",
        "\n",
        "# Log final results to wandb\n",
        "wandb.log({\n",
        "    'final_val_accuracy': final_val_acc,\n",
        "    'final_val_loss': final_val_loss,\n",
        "    'training_curves': wandb.Image('simple_cnn_training_curves.png'),\n",
        "    'confusion_matrix': wandb.Image('simple_cnn_confusion_matrix.png'),\n",
        "    'classification_report': class_report,\n",
        "    'total_training_time': total_time,\n",
        "    'best_epoch': np.argmax(val_accs) + 1\n",
        "})"
      ]
    },
    {
      "cell_type": "markdown",
      "id": "DjDei671uxmM",
      "metadata": {
        "id": "DjDei671uxmM"
      },
      "source": [
        "# Analyzis"
      ]
    },
    {
      "cell_type": "code",
      "execution_count": 97,
      "id": "6lj0uRwsu0qF",
      "metadata": {
        "colab": {
          "base_uri": "https://localhost:8080/",
          "height": 1000
        },
        "id": "6lj0uRwsu0qF",
        "outputId": "5615c0f9-393f-4c75-db76-e646cf39333e"
      },
      "outputs": [
        {
          "name": "stdout",
          "output_type": "stream",
          "text": [
            "\n",
            "============================================================\n",
            "SIMPLE CNN BASELINE ANALYSIS\n",
            "============================================================\n",
            "\n",
            "Overfitting Analysis:\n",
            "Final Training Accuracy: 32.67%\n",
            "Final Validation Accuracy: 44.88%\n",
            "Accuracy Gap: -12.21%\n",
            "🟡 GOOD GENERALIZATION: Small gap between train and validation\n",
            "🔴 UNDERFITTING: Both accuracies are low\n",
            "   - Model too simple for the task\n",
            "   - Need more capacity or different architecture\n",
            "\n",
            "Learning Curve Analysis:\n",
            "Best epoch: 11\n",
            "Early stopping could have saved 9 epochs\n",
            "🔴 VALIDATION ACCURACY DECLINING: Clear overfitting in later epochs\n",
            "\n",
            "Per-class Performance:\n",
            "Best performing class: Happy (78.2%)\n",
            "Worst performing class: Fear (13.3%)\n",
            "Performance variance: 26.0%\n",
            "\n",
            "Model Complexity:\n",
            "Total parameters: 2,456,519\n",
            "Model size: ~9.4 MB (float32)\n",
            "Training time: 780.5s (39.0s/epoch)\n",
            "\n",
            "🔬 RECOMMENDATIONS FOR NEXT EXPERIMENTS:\n",
            "1. Architecture: Try deeper CNN with more layers\n",
            "2. Regularization: Add batch normalization, more dropout\n",
            "3. Data: Implement data augmentation to reduce overfitting\n",
            "4. Optimization: Try different learning rates, schedulers\n",
            "5. Loss: Consider weighted loss for class imbalance\n",
            "\n",
            "✅ Simple CNN baseline complete!\n",
            "📊 Results logged to Wandb\n",
            "💾 Best model saved as 'simple_cnn_best.pth'\n"
          ]
        },
        {
          "data": {
            "text/html": [],
            "text/plain": [
              "<IPython.core.display.HTML object>"
            ]
          },
          "metadata": {},
          "output_type": "display_data"
        },
        {
          "data": {
            "text/html": [
              "<br>    <style><br>        .wandb-row {<br>            display: flex;<br>            flex-direction: row;<br>            flex-wrap: wrap;<br>            justify-content: flex-start;<br>            width: 100%;<br>        }<br>        .wandb-col {<br>            display: flex;<br>            flex-direction: column;<br>            flex-basis: 100%;<br>            flex: 1;<br>            padding: 10px;<br>        }<br>    </style><br><div class=\"wandb-row\"><div class=\"wandb-col\"><h3>Run history:</h3><br/><table class=\"wandb\"><tr><td>best_epoch</td><td>▁</td></tr><tr><td>epoch</td><td>▁▁▂▂▃▃▄▄▅▅▆▆▇▇██</td></tr><tr><td>epoch_time</td><td>▇▂█▂▂▂▇▃▄▄▄▆▁▂▃▇</td></tr><tr><td>final_val_accuracy</td><td>▁</td></tr><tr><td>final_val_loss</td><td>▁</td></tr><tr><td>learning_rate</td><td>▁▁▁▁▁▁▁▁▁▁▁▁▁▁▁▁</td></tr><tr><td>model_parameters</td><td>▁</td></tr><tr><td>total_training_time</td><td>▁</td></tr><tr><td>train_accuracy</td><td>▁▄▄▅▅▆▆▆▇▇▇▇▇███</td></tr><tr><td>train_loss</td><td>█▆▅▄▄▃▃▃▃▂▃▂▂▂▂▁</td></tr><tr><td>trainable_parameters</td><td>▁</td></tr><tr><td>val_accuracy</td><td>▁▃▄▅▆▆▇▆▇▇█████▇</td></tr><tr><td>val_loss</td><td>█▆▅▄▄▃▃▂▃▃▂▁▁▁▁▁</td></tr></table><br/></div><div class=\"wandb-col\"><h3>Run summary:</h3><br/><table class=\"wandb\"><tr><td>best_epoch</td><td>11</td></tr><tr><td>epoch</td><td>16</td></tr><tr><td>epoch_time</td><td>50.28393</td></tr><tr><td>final_val_accuracy</td><td>44.87983</td></tr><tr><td>final_val_loss</td><td>1.56909</td></tr><tr><td>learning_rate</td><td>0.001</td></tr><tr><td>model_parameters</td><td>2456519</td></tr><tr><td>total_training_time</td><td>780.47476</td></tr><tr><td>train_accuracy</td><td>32.67297</td></tr><tr><td>train_loss</td><td>1.65296</td></tr><tr><td>trainable_parameters</td><td>2456519</td></tr><tr><td>val_accuracy</td><td>42.28492</td></tr><tr><td>val_loss</td><td>1.55847</td></tr></table><br/></div></div>"
            ],
            "text/plain": [
              "<IPython.core.display.HTML object>"
            ]
          },
          "metadata": {},
          "output_type": "display_data"
        },
        {
          "data": {
            "text/html": [
              " View run <strong style=\"color:#cdcd00\">simple_cnn_20250530_182227</strong> at: <a href='https://wandb.ai/ellekvirikashvili-free-university-of-tbilisi-/facial-expression-recognition/runs/gt7u2tte' target=\"_blank\">https://wandb.ai/ellekvirikashvili-free-university-of-tbilisi-/facial-expression-recognition/runs/gt7u2tte</a><br> View project at: <a href='https://wandb.ai/ellekvirikashvili-free-university-of-tbilisi-/facial-expression-recognition' target=\"_blank\">https://wandb.ai/ellekvirikashvili-free-university-of-tbilisi-/facial-expression-recognition</a><br>Synced 5 W&B file(s), 2 media file(s), 0 artifact file(s) and 0 other file(s)"
            ],
            "text/plain": [
              "<IPython.core.display.HTML object>"
            ]
          },
          "metadata": {},
          "output_type": "display_data"
        },
        {
          "data": {
            "text/html": [
              "Find logs at: <code>./wandb/run-20250530_182227-gt7u2tte/logs</code>"
            ],
            "text/plain": [
              "<IPython.core.display.HTML object>"
            ]
          },
          "metadata": {},
          "output_type": "display_data"
        }
      ],
      "source": [
        "\n",
        "# Analysis of results\n",
        "print(\"\\n\" + \"=\"*60)\n",
        "print(\"SIMPLE CNN BASELINE ANALYSIS\")\n",
        "print(\"=\"*60)\n",
        "\n",
        "# Check for overfitting/underfitting\n",
        "final_train_acc = train_accs[-1]\n",
        "acc_gap = final_train_acc - final_val_acc\n",
        "\n",
        "print(f\"\\nOverfitting Analysis:\")\n",
        "print(f\"Final Training Accuracy: {final_train_acc:.2f}%\")\n",
        "print(f\"Final Validation Accuracy: {final_val_acc:.2f}%\")\n",
        "print(f\"Accuracy Gap: {acc_gap:.2f}%\")\n",
        "\n",
        "if acc_gap > 10:\n",
        "    print(\"🔴 OVERFITTING DETECTED: Large gap between train and validation accuracy\")\n",
        "    print(\"   - Model memorizing training data\")\n",
        "    print(\"   - Need regularization (dropout, data augmentation)\")\n",
        "elif acc_gap < 5:\n",
        "    print(\"🟡 GOOD GENERALIZATION: Small gap between train and validation\")\n",
        "    if final_val_acc < 50:\n",
        "        print(\"🔴 UNDERFITTING: Both accuracies are low\")\n",
        "        print(\"   - Model too simple for the task\")\n",
        "        print(\"   - Need more capacity or different architecture\")\n",
        "    else:\n",
        "        print(\"✅ BALANCED MODEL: Good generalization\")\n",
        "else:\n",
        "    print(\"🟡 MILD OVERFITTING: Moderate gap, could be improved\")\n",
        "\n",
        "# Learning curve analysis\n",
        "print(f\"\\nLearning Curve Analysis:\")\n",
        "print(f\"Best epoch: {np.argmax(val_accs) + 1}\")\n",
        "print(f\"Early stopping could have saved {CONFIG['epochs'] - np.argmax(val_accs) - 1} epochs\")\n",
        "\n",
        "if val_accs[-1] < max(val_accs) * 0.95:\n",
        "    print(\"🔴 VALIDATION ACCURACY DECLINING: Clear overfitting in later epochs\")\n",
        "else:\n",
        "    print(\"✅ STABLE LEARNING: No significant decline in validation performance\")\n",
        "\n",
        "# Performance insights\n",
        "worst_class = class_names[np.argmin(per_class_acc)]\n",
        "best_class = class_names[np.argmax(per_class_acc)]\n",
        "\n",
        "print(f\"\\nPer-class Performance:\")\n",
        "print(f\"Best performing class: {best_class} ({max(per_class_acc):.1f}%)\")\n",
        "print(f\"Worst performing class: {worst_class} ({min(per_class_acc):.1f}%)\")\n",
        "print(f\"Performance variance: {np.std(per_class_acc):.1f}%\")\n",
        "\n",
        "# Model complexity analysis\n",
        "print(f\"\\nModel Complexity:\")\n",
        "print(f\"Total parameters: {total_params:,}\")\n",
        "print(f\"Model size: ~{total_params * 4 / 1024 / 1024:.1f} MB (float32)\")\n",
        "print(f\"Training time: {total_time:.1f}s ({total_time/CONFIG['epochs']:.1f}s/epoch)\")\n",
        "\n",
        "# Recommendations for next experiments\n",
        "print(f\"\\n🔬 RECOMMENDATIONS FOR NEXT EXPERIMENTS:\")\n",
        "print(f\"1. Architecture: Try deeper CNN with more layers\")\n",
        "print(f\"2. Regularization: Add batch normalization, more dropout\")\n",
        "print(f\"3. Data: Implement data augmentation to reduce overfitting\")\n",
        "print(f\"4. Optimization: Try different learning rates, schedulers\")\n",
        "print(f\"5. Loss: Consider weighted loss for class imbalance\")\n",
        "\n",
        "# Save experiment summary\n",
        "experiment_summary = {\n",
        "    'model_name': CONFIG['model_name'],\n",
        "    'final_val_accuracy': final_val_acc,\n",
        "    'best_val_accuracy': best_val_acc,\n",
        "    'final_train_accuracy': final_train_acc,\n",
        "    'overfitting_gap': acc_gap,\n",
        "    'total_parameters': total_params,\n",
        "    'training_time': total_time,\n",
        "    'best_epoch': int(np.argmax(val_accs) + 1),\n",
        "    'per_class_accuracy': dict(zip(class_names, per_class_acc)),\n",
        "    'key_findings': {\n",
        "        'overfitting_detected': acc_gap > 10,\n",
        "        'underfitting_detected': final_val_acc < 40,\n",
        "        'early_stopping_beneficial': val_accs[-1] < max(val_accs) * 0.95,\n",
        "        'class_imbalance_impact': max(per_class_acc) - min(per_class_acc) > 20\n",
        "    }\n",
        "}\n",
        "\n",
        "# Log summary\n",
        "wandb.log({'experiment_summary': experiment_summary})\n",
        "\n",
        "print(f\"\\n✅ Simple CNN baseline complete!\")\n",
        "print(f\"📊 Results logged to Wandb\")\n",
        "print(f\"💾 Best model saved as 'simple_cnn_best.pth'\")\n",
        "\n",
        "wandb.finish()"
      ]
    }
  ],
  "metadata": {
    "accelerator": "GPU",
    "colab": {
      "gpuType": "T4",
      "include_colab_link": true,
      "provenance": []
    },
    "kernelspec": {
      "display_name": "Python 3",
      "name": "python3"
    },
    "language_info": {
      "name": "python",
      "version": "3.13.3"
    }
  },
  "nbformat": 4,
  "nbformat_minor": 5
}
