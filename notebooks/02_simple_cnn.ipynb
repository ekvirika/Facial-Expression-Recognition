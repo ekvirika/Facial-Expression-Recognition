{
  "cells": [
    {
      "cell_type": "markdown",
      "metadata": {
        "id": "view-in-github",
        "colab_type": "text"
      },
      "source": [
        "<a href=\"https://colab.research.google.com/github/ekvirika/Facial-Expression-Recognition/blob/main/notebooks/02_simple_cnn.ipynb\" target=\"_parent\"><img src=\"https://colab.research.google.com/assets/colab-badge.svg\" alt=\"Open In Colab\"/></a>"
      ]
    },
    {
      "cell_type": "code",
      "execution_count": 1,
      "id": "wbo7YhsKtC9W",
      "metadata": {
        "colab": {
          "base_uri": "https://localhost:8080/"
        },
        "id": "wbo7YhsKtC9W",
        "outputId": "726e6945-20b1-451b-8c48-2e3055c284c8"
      },
      "outputs": [
        {
          "output_type": "stream",
          "name": "stdout",
          "text": [
            "Mounted at /content/drive\n"
          ]
        }
      ],
      "source": [
        "from google.colab import drive\n",
        "drive.mount('/content/drive')"
      ]
    },
    {
      "cell_type": "code",
      "execution_count": 2,
      "id": "-bO7jJJStOhQ",
      "metadata": {
        "colab": {
          "base_uri": "https://localhost:8080/"
        },
        "collapsed": true,
        "id": "-bO7jJJStOhQ",
        "outputId": "abcd1e6b-0bfa-4793-b8d7-f1591a6102d1"
      },
      "outputs": [
        {
          "output_type": "stream",
          "name": "stdout",
          "text": [
            "Requirement already satisfied: wandb in /usr/local/lib/python3.11/dist-packages (0.19.11)\n",
            "Requirement already satisfied: torch in /usr/local/lib/python3.11/dist-packages (2.6.0+cu124)\n",
            "Requirement already satisfied: torchvision in /usr/local/lib/python3.11/dist-packages (0.21.0+cu124)\n",
            "Requirement already satisfied: pandas in /usr/local/lib/python3.11/dist-packages (2.2.2)\n",
            "Requirement already satisfied: numpy in /usr/local/lib/python3.11/dist-packages (2.0.2)\n",
            "Requirement already satisfied: matplotlib in /usr/local/lib/python3.11/dist-packages (3.10.0)\n",
            "Requirement already satisfied: seaborn in /usr/local/lib/python3.11/dist-packages (0.13.2)\n",
            "Requirement already satisfied: scikit-learn in /usr/local/lib/python3.11/dist-packages (1.6.1)\n",
            "Requirement already satisfied: click!=8.0.0,>=7.1 in /usr/local/lib/python3.11/dist-packages (from wandb) (8.2.1)\n",
            "Requirement already satisfied: docker-pycreds>=0.4.0 in /usr/local/lib/python3.11/dist-packages (from wandb) (0.4.0)\n",
            "Requirement already satisfied: gitpython!=3.1.29,>=1.0.0 in /usr/local/lib/python3.11/dist-packages (from wandb) (3.1.44)\n",
            "Requirement already satisfied: platformdirs in /usr/local/lib/python3.11/dist-packages (from wandb) (4.3.8)\n",
            "Requirement already satisfied: protobuf!=4.21.0,!=5.28.0,<7,>=3.19.0 in /usr/local/lib/python3.11/dist-packages (from wandb) (5.29.4)\n",
            "Requirement already satisfied: psutil>=5.0.0 in /usr/local/lib/python3.11/dist-packages (from wandb) (5.9.5)\n",
            "Requirement already satisfied: pydantic<3 in /usr/local/lib/python3.11/dist-packages (from wandb) (2.11.4)\n",
            "Requirement already satisfied: pyyaml in /usr/local/lib/python3.11/dist-packages (from wandb) (6.0.2)\n",
            "Requirement already satisfied: requests<3,>=2.0.0 in /usr/local/lib/python3.11/dist-packages (from wandb) (2.32.3)\n",
            "Requirement already satisfied: sentry-sdk>=2.0.0 in /usr/local/lib/python3.11/dist-packages (from wandb) (2.29.1)\n",
            "Requirement already satisfied: setproctitle in /usr/local/lib/python3.11/dist-packages (from wandb) (1.3.6)\n",
            "Requirement already satisfied: setuptools in /usr/local/lib/python3.11/dist-packages (from wandb) (75.2.0)\n",
            "Requirement already satisfied: typing-extensions<5,>=4.4 in /usr/local/lib/python3.11/dist-packages (from wandb) (4.13.2)\n",
            "Requirement already satisfied: filelock in /usr/local/lib/python3.11/dist-packages (from torch) (3.18.0)\n",
            "Requirement already satisfied: networkx in /usr/local/lib/python3.11/dist-packages (from torch) (3.4.2)\n",
            "Requirement already satisfied: jinja2 in /usr/local/lib/python3.11/dist-packages (from torch) (3.1.6)\n",
            "Requirement already satisfied: fsspec in /usr/local/lib/python3.11/dist-packages (from torch) (2025.3.2)\n",
            "Collecting nvidia-cuda-nvrtc-cu12==12.4.127 (from torch)\n",
            "  Downloading nvidia_cuda_nvrtc_cu12-12.4.127-py3-none-manylinux2014_x86_64.whl.metadata (1.5 kB)\n",
            "Collecting nvidia-cuda-runtime-cu12==12.4.127 (from torch)\n",
            "  Downloading nvidia_cuda_runtime_cu12-12.4.127-py3-none-manylinux2014_x86_64.whl.metadata (1.5 kB)\n",
            "Collecting nvidia-cuda-cupti-cu12==12.4.127 (from torch)\n",
            "  Downloading nvidia_cuda_cupti_cu12-12.4.127-py3-none-manylinux2014_x86_64.whl.metadata (1.6 kB)\n",
            "Collecting nvidia-cudnn-cu12==9.1.0.70 (from torch)\n",
            "  Downloading nvidia_cudnn_cu12-9.1.0.70-py3-none-manylinux2014_x86_64.whl.metadata (1.6 kB)\n",
            "Collecting nvidia-cublas-cu12==12.4.5.8 (from torch)\n",
            "  Downloading nvidia_cublas_cu12-12.4.5.8-py3-none-manylinux2014_x86_64.whl.metadata (1.5 kB)\n",
            "Collecting nvidia-cufft-cu12==11.2.1.3 (from torch)\n",
            "  Downloading nvidia_cufft_cu12-11.2.1.3-py3-none-manylinux2014_x86_64.whl.metadata (1.5 kB)\n",
            "Collecting nvidia-curand-cu12==10.3.5.147 (from torch)\n",
            "  Downloading nvidia_curand_cu12-10.3.5.147-py3-none-manylinux2014_x86_64.whl.metadata (1.5 kB)\n",
            "Collecting nvidia-cusolver-cu12==11.6.1.9 (from torch)\n",
            "  Downloading nvidia_cusolver_cu12-11.6.1.9-py3-none-manylinux2014_x86_64.whl.metadata (1.6 kB)\n",
            "Collecting nvidia-cusparse-cu12==12.3.1.170 (from torch)\n",
            "  Downloading nvidia_cusparse_cu12-12.3.1.170-py3-none-manylinux2014_x86_64.whl.metadata (1.6 kB)\n",
            "Requirement already satisfied: nvidia-cusparselt-cu12==0.6.2 in /usr/local/lib/python3.11/dist-packages (from torch) (0.6.2)\n",
            "Requirement already satisfied: nvidia-nccl-cu12==2.21.5 in /usr/local/lib/python3.11/dist-packages (from torch) (2.21.5)\n",
            "Requirement already satisfied: nvidia-nvtx-cu12==12.4.127 in /usr/local/lib/python3.11/dist-packages (from torch) (12.4.127)\n",
            "Collecting nvidia-nvjitlink-cu12==12.4.127 (from torch)\n",
            "  Downloading nvidia_nvjitlink_cu12-12.4.127-py3-none-manylinux2014_x86_64.whl.metadata (1.5 kB)\n",
            "Requirement already satisfied: triton==3.2.0 in /usr/local/lib/python3.11/dist-packages (from torch) (3.2.0)\n",
            "Requirement already satisfied: sympy==1.13.1 in /usr/local/lib/python3.11/dist-packages (from torch) (1.13.1)\n",
            "Requirement already satisfied: mpmath<1.4,>=1.1.0 in /usr/local/lib/python3.11/dist-packages (from sympy==1.13.1->torch) (1.3.0)\n",
            "Requirement already satisfied: pillow!=8.3.*,>=5.3.0 in /usr/local/lib/python3.11/dist-packages (from torchvision) (11.2.1)\n",
            "Requirement already satisfied: python-dateutil>=2.8.2 in /usr/local/lib/python3.11/dist-packages (from pandas) (2.9.0.post0)\n",
            "Requirement already satisfied: pytz>=2020.1 in /usr/local/lib/python3.11/dist-packages (from pandas) (2025.2)\n",
            "Requirement already satisfied: tzdata>=2022.7 in /usr/local/lib/python3.11/dist-packages (from pandas) (2025.2)\n",
            "Requirement already satisfied: contourpy>=1.0.1 in /usr/local/lib/python3.11/dist-packages (from matplotlib) (1.3.2)\n",
            "Requirement already satisfied: cycler>=0.10 in /usr/local/lib/python3.11/dist-packages (from matplotlib) (0.12.1)\n",
            "Requirement already satisfied: fonttools>=4.22.0 in /usr/local/lib/python3.11/dist-packages (from matplotlib) (4.58.0)\n",
            "Requirement already satisfied: kiwisolver>=1.3.1 in /usr/local/lib/python3.11/dist-packages (from matplotlib) (1.4.8)\n",
            "Requirement already satisfied: packaging>=20.0 in /usr/local/lib/python3.11/dist-packages (from matplotlib) (24.2)\n",
            "Requirement already satisfied: pyparsing>=2.3.1 in /usr/local/lib/python3.11/dist-packages (from matplotlib) (3.2.3)\n",
            "Requirement already satisfied: scipy>=1.6.0 in /usr/local/lib/python3.11/dist-packages (from scikit-learn) (1.15.3)\n",
            "Requirement already satisfied: joblib>=1.2.0 in /usr/local/lib/python3.11/dist-packages (from scikit-learn) (1.5.0)\n",
            "Requirement already satisfied: threadpoolctl>=3.1.0 in /usr/local/lib/python3.11/dist-packages (from scikit-learn) (3.6.0)\n",
            "Requirement already satisfied: six>=1.4.0 in /usr/local/lib/python3.11/dist-packages (from docker-pycreds>=0.4.0->wandb) (1.17.0)\n",
            "Requirement already satisfied: gitdb<5,>=4.0.1 in /usr/local/lib/python3.11/dist-packages (from gitpython!=3.1.29,>=1.0.0->wandb) (4.0.12)\n",
            "Requirement already satisfied: annotated-types>=0.6.0 in /usr/local/lib/python3.11/dist-packages (from pydantic<3->wandb) (0.7.0)\n",
            "Requirement already satisfied: pydantic-core==2.33.2 in /usr/local/lib/python3.11/dist-packages (from pydantic<3->wandb) (2.33.2)\n",
            "Requirement already satisfied: typing-inspection>=0.4.0 in /usr/local/lib/python3.11/dist-packages (from pydantic<3->wandb) (0.4.1)\n",
            "Requirement already satisfied: charset-normalizer<4,>=2 in /usr/local/lib/python3.11/dist-packages (from requests<3,>=2.0.0->wandb) (3.4.2)\n",
            "Requirement already satisfied: idna<4,>=2.5 in /usr/local/lib/python3.11/dist-packages (from requests<3,>=2.0.0->wandb) (3.10)\n",
            "Requirement already satisfied: urllib3<3,>=1.21.1 in /usr/local/lib/python3.11/dist-packages (from requests<3,>=2.0.0->wandb) (2.4.0)\n",
            "Requirement already satisfied: certifi>=2017.4.17 in /usr/local/lib/python3.11/dist-packages (from requests<3,>=2.0.0->wandb) (2025.4.26)\n",
            "Requirement already satisfied: MarkupSafe>=2.0 in /usr/local/lib/python3.11/dist-packages (from jinja2->torch) (3.0.2)\n",
            "Requirement already satisfied: smmap<6,>=3.0.1 in /usr/local/lib/python3.11/dist-packages (from gitdb<5,>=4.0.1->gitpython!=3.1.29,>=1.0.0->wandb) (5.0.2)\n",
            "Downloading nvidia_cublas_cu12-12.4.5.8-py3-none-manylinux2014_x86_64.whl (363.4 MB)\n",
            "\u001b[2K   \u001b[90m━━━━━━━━━━━━━━━━━━━━━━━━━━━━━━━━━━━━━━━━\u001b[0m \u001b[32m363.4/363.4 MB\u001b[0m \u001b[31m4.8 MB/s\u001b[0m eta \u001b[36m0:00:00\u001b[0m\n",
            "\u001b[?25hDownloading nvidia_cuda_cupti_cu12-12.4.127-py3-none-manylinux2014_x86_64.whl (13.8 MB)\n",
            "\u001b[2K   \u001b[90m━━━━━━━━━━━━━━━━━━━━━━━━━━━━━━━━━━━━━━━━\u001b[0m \u001b[32m13.8/13.8 MB\u001b[0m \u001b[31m122.4 MB/s\u001b[0m eta \u001b[36m0:00:00\u001b[0m\n",
            "\u001b[?25hDownloading nvidia_cuda_nvrtc_cu12-12.4.127-py3-none-manylinux2014_x86_64.whl (24.6 MB)\n",
            "\u001b[2K   \u001b[90m━━━━━━━━━━━━━━━━━━━━━━━━━━━━━━━━━━━━━━━━\u001b[0m \u001b[32m24.6/24.6 MB\u001b[0m \u001b[31m93.2 MB/s\u001b[0m eta \u001b[36m0:00:00\u001b[0m\n",
            "\u001b[?25hDownloading nvidia_cuda_runtime_cu12-12.4.127-py3-none-manylinux2014_x86_64.whl (883 kB)\n",
            "\u001b[2K   \u001b[90m━━━━━━━━━━━━━━━━━━━━━━━━━━━━━━━━━━━━━━━━\u001b[0m \u001b[32m883.7/883.7 kB\u001b[0m \u001b[31m59.8 MB/s\u001b[0m eta \u001b[36m0:00:00\u001b[0m\n",
            "\u001b[?25hDownloading nvidia_cudnn_cu12-9.1.0.70-py3-none-manylinux2014_x86_64.whl (664.8 MB)\n",
            "\u001b[2K   \u001b[90m━━━━━━━━━━━━━━━━━━━━━━━━━━━━━━━━━━━━━━━━\u001b[0m \u001b[32m664.8/664.8 MB\u001b[0m \u001b[31m2.5 MB/s\u001b[0m eta \u001b[36m0:00:00\u001b[0m\n",
            "\u001b[?25hDownloading nvidia_cufft_cu12-11.2.1.3-py3-none-manylinux2014_x86_64.whl (211.5 MB)\n",
            "\u001b[2K   \u001b[90m━━━━━━━━━━━━━━━━━━━━━━━━━━━━━━━━━━━━━━━━\u001b[0m \u001b[32m211.5/211.5 MB\u001b[0m \u001b[31m5.5 MB/s\u001b[0m eta \u001b[36m0:00:00\u001b[0m\n",
            "\u001b[?25hDownloading nvidia_curand_cu12-10.3.5.147-py3-none-manylinux2014_x86_64.whl (56.3 MB)\n",
            "\u001b[2K   \u001b[90m━━━━━━━━━━━━━━━━━━━━━━━━━━━━━━━━━━━━━━━━\u001b[0m \u001b[32m56.3/56.3 MB\u001b[0m \u001b[31m13.2 MB/s\u001b[0m eta \u001b[36m0:00:00\u001b[0m\n",
            "\u001b[?25hDownloading nvidia_cusolver_cu12-11.6.1.9-py3-none-manylinux2014_x86_64.whl (127.9 MB)\n",
            "\u001b[2K   \u001b[90m━━━━━━━━━━━━━━━━━━━━━━━━━━━━━━━━━━━━━━━━\u001b[0m \u001b[32m127.9/127.9 MB\u001b[0m \u001b[31m7.1 MB/s\u001b[0m eta \u001b[36m0:00:00\u001b[0m\n",
            "\u001b[?25hDownloading nvidia_cusparse_cu12-12.3.1.170-py3-none-manylinux2014_x86_64.whl (207.5 MB)\n",
            "\u001b[2K   \u001b[90m━━━━━━━━━━━━━━━━━━━━━━━━━━━━━━━━━━━━━━━━\u001b[0m \u001b[32m207.5/207.5 MB\u001b[0m \u001b[31m9.5 MB/s\u001b[0m eta \u001b[36m0:00:00\u001b[0m\n",
            "\u001b[?25hDownloading nvidia_nvjitlink_cu12-12.4.127-py3-none-manylinux2014_x86_64.whl (21.1 MB)\n",
            "\u001b[2K   \u001b[90m━━━━━━━━━━━━━━━━━━━━━━━━━━━━━━━━━━━━━━━━\u001b[0m \u001b[32m21.1/21.1 MB\u001b[0m \u001b[31m96.0 MB/s\u001b[0m eta \u001b[36m0:00:00\u001b[0m\n",
            "\u001b[?25hInstalling collected packages: nvidia-nvjitlink-cu12, nvidia-curand-cu12, nvidia-cufft-cu12, nvidia-cuda-runtime-cu12, nvidia-cuda-nvrtc-cu12, nvidia-cuda-cupti-cu12, nvidia-cublas-cu12, nvidia-cusparse-cu12, nvidia-cudnn-cu12, nvidia-cusolver-cu12\n",
            "  Attempting uninstall: nvidia-nvjitlink-cu12\n",
            "    Found existing installation: nvidia-nvjitlink-cu12 12.5.82\n",
            "    Uninstalling nvidia-nvjitlink-cu12-12.5.82:\n",
            "      Successfully uninstalled nvidia-nvjitlink-cu12-12.5.82\n",
            "  Attempting uninstall: nvidia-curand-cu12\n",
            "    Found existing installation: nvidia-curand-cu12 10.3.6.82\n",
            "    Uninstalling nvidia-curand-cu12-10.3.6.82:\n",
            "      Successfully uninstalled nvidia-curand-cu12-10.3.6.82\n",
            "  Attempting uninstall: nvidia-cufft-cu12\n",
            "    Found existing installation: nvidia-cufft-cu12 11.2.3.61\n",
            "    Uninstalling nvidia-cufft-cu12-11.2.3.61:\n",
            "      Successfully uninstalled nvidia-cufft-cu12-11.2.3.61\n",
            "  Attempting uninstall: nvidia-cuda-runtime-cu12\n",
            "    Found existing installation: nvidia-cuda-runtime-cu12 12.5.82\n",
            "    Uninstalling nvidia-cuda-runtime-cu12-12.5.82:\n",
            "      Successfully uninstalled nvidia-cuda-runtime-cu12-12.5.82\n",
            "  Attempting uninstall: nvidia-cuda-nvrtc-cu12\n",
            "    Found existing installation: nvidia-cuda-nvrtc-cu12 12.5.82\n",
            "    Uninstalling nvidia-cuda-nvrtc-cu12-12.5.82:\n",
            "      Successfully uninstalled nvidia-cuda-nvrtc-cu12-12.5.82\n",
            "  Attempting uninstall: nvidia-cuda-cupti-cu12\n",
            "    Found existing installation: nvidia-cuda-cupti-cu12 12.5.82\n",
            "    Uninstalling nvidia-cuda-cupti-cu12-12.5.82:\n",
            "      Successfully uninstalled nvidia-cuda-cupti-cu12-12.5.82\n",
            "  Attempting uninstall: nvidia-cublas-cu12\n",
            "    Found existing installation: nvidia-cublas-cu12 12.5.3.2\n",
            "    Uninstalling nvidia-cublas-cu12-12.5.3.2:\n",
            "      Successfully uninstalled nvidia-cublas-cu12-12.5.3.2\n",
            "  Attempting uninstall: nvidia-cusparse-cu12\n",
            "    Found existing installation: nvidia-cusparse-cu12 12.5.1.3\n",
            "    Uninstalling nvidia-cusparse-cu12-12.5.1.3:\n",
            "      Successfully uninstalled nvidia-cusparse-cu12-12.5.1.3\n",
            "  Attempting uninstall: nvidia-cudnn-cu12\n",
            "    Found existing installation: nvidia-cudnn-cu12 9.3.0.75\n",
            "    Uninstalling nvidia-cudnn-cu12-9.3.0.75:\n",
            "      Successfully uninstalled nvidia-cudnn-cu12-9.3.0.75\n",
            "  Attempting uninstall: nvidia-cusolver-cu12\n",
            "    Found existing installation: nvidia-cusolver-cu12 11.6.3.83\n",
            "    Uninstalling nvidia-cusolver-cu12-11.6.3.83:\n",
            "      Successfully uninstalled nvidia-cusolver-cu12-11.6.3.83\n",
            "Successfully installed nvidia-cublas-cu12-12.4.5.8 nvidia-cuda-cupti-cu12-12.4.127 nvidia-cuda-nvrtc-cu12-12.4.127 nvidia-cuda-runtime-cu12-12.4.127 nvidia-cudnn-cu12-9.1.0.70 nvidia-cufft-cu12-11.2.1.3 nvidia-curand-cu12-10.3.5.147 nvidia-cusolver-cu12-11.6.1.9 nvidia-cusparse-cu12-12.3.1.170 nvidia-nvjitlink-cu12-12.4.127\n",
            "Requirement already satisfied: kaggle in /usr/local/lib/python3.11/dist-packages (1.7.4.5)\n",
            "Requirement already satisfied: bleach in /usr/local/lib/python3.11/dist-packages (from kaggle) (6.2.0)\n",
            "Requirement already satisfied: certifi>=14.05.14 in /usr/local/lib/python3.11/dist-packages (from kaggle) (2025.4.26)\n",
            "Requirement already satisfied: charset-normalizer in /usr/local/lib/python3.11/dist-packages (from kaggle) (3.4.2)\n",
            "Requirement already satisfied: idna in /usr/local/lib/python3.11/dist-packages (from kaggle) (3.10)\n",
            "Requirement already satisfied: protobuf in /usr/local/lib/python3.11/dist-packages (from kaggle) (5.29.4)\n",
            "Requirement already satisfied: python-dateutil>=2.5.3 in /usr/local/lib/python3.11/dist-packages (from kaggle) (2.9.0.post0)\n",
            "Requirement already satisfied: python-slugify in /usr/local/lib/python3.11/dist-packages (from kaggle) (8.0.4)\n",
            "Requirement already satisfied: requests in /usr/local/lib/python3.11/dist-packages (from kaggle) (2.32.3)\n",
            "Requirement already satisfied: setuptools>=21.0.0 in /usr/local/lib/python3.11/dist-packages (from kaggle) (75.2.0)\n",
            "Requirement already satisfied: six>=1.10 in /usr/local/lib/python3.11/dist-packages (from kaggle) (1.17.0)\n",
            "Requirement already satisfied: text-unidecode in /usr/local/lib/python3.11/dist-packages (from kaggle) (1.3)\n",
            "Requirement already satisfied: tqdm in /usr/local/lib/python3.11/dist-packages (from kaggle) (4.67.1)\n",
            "Requirement already satisfied: urllib3>=1.15.1 in /usr/local/lib/python3.11/dist-packages (from kaggle) (2.4.0)\n",
            "Requirement already satisfied: webencodings in /usr/local/lib/python3.11/dist-packages (from kaggle) (0.5.1)\n"
          ]
        }
      ],
      "source": [
        "# Install required packages\n",
        "!pip install wandb torch torchvision pandas numpy matplotlib seaborn\n",
        "\n",
        "# Set up Kaggle API\n",
        "!pip install kaggle"
      ]
    },
    {
      "cell_type": "code",
      "execution_count": 3,
      "id": "d8C1uZCRtaUB",
      "metadata": {
        "id": "d8C1uZCRtaUB"
      },
      "outputs": [],
      "source": [
        "# Upload your kaggle.json to Colab and run:\n",
        "!mkdir -p ~/.kaggle\n",
        "!cp /content/drive/MyDrive/ColabNotebooks/kaggle_API_credentials/kaggle.json ~/.kaggle/kaggle.json\n",
        "! chmod 600 ~/.kaggle/kaggle.json"
      ]
    },
    {
      "cell_type": "code",
      "execution_count": 4,
      "id": "grXZd0wAtmhA",
      "metadata": {
        "colab": {
          "base_uri": "https://localhost:8080/"
        },
        "id": "grXZd0wAtmhA",
        "outputId": "5f8357e8-92c7-4d18-91be-a8e3febf656d"
      },
      "outputs": [
        {
          "output_type": "stream",
          "name": "stdout",
          "text": [
            "Downloading challenges-in-representation-learning-facial-expression-recognition-challenge.zip to /content\n",
            " 81% 231M/285M [00:00<00:00, 449MB/s]\n",
            "100% 285M/285M [00:00<00:00, 465MB/s]\n"
          ]
        }
      ],
      "source": [
        "# Download the dataset\n",
        "!kaggle competitions download -c challenges-in-representation-learning-facial-expression-recognition-challenge\n",
        "!unzip -q challenges-in-representation-learning-facial-expression-recognition-challenge.zip\n"
      ]
    },
    {
      "cell_type": "code",
      "execution_count": 5,
      "id": "644b4919",
      "metadata": {
        "id": "644b4919"
      },
      "outputs": [],
      "source": [
        "import pandas as pd\n",
        "import numpy as np\n",
        "import matplotlib.pyplot as plt\n",
        "import torch\n",
        "import torch.nn as nn\n",
        "import torch.optim as optim\n",
        "import torch.nn.functional as F\n",
        "from torch.utils.data import Dataset, DataLoader\n",
        "import torchvision.transforms as transforms\n",
        "from sklearn.metrics import classification_report, confusion_matrix\n",
        "import wandb\n",
        "import time\n",
        "from datetime import datetime\n",
        "from sklearn.model_selection import train_test_split"
      ]
    },
    {
      "cell_type": "code",
      "execution_count": 18,
      "id": "06a61dcf",
      "metadata": {
        "colab": {
          "base_uri": "https://localhost:8080/"
        },
        "id": "06a61dcf",
        "outputId": "e2b04e8a-8c2e-4c21-bca3-6a319f01f5b5"
      },
      "outputs": [
        {
          "output_type": "stream",
          "name": "stdout",
          "text": [
            "Using device: cuda\n"
          ]
        }
      ],
      "source": [
        "# Set device\n",
        "device = torch.device('cuda' if torch.cuda.is_available() else 'cpu')\n",
        "print(f\"Using device: {device}\")\n",
        "\n",
        "# Configuration\n",
        "CONFIG = {\n",
        "    'model_name': 'simple_cnn',\n",
        "    'batch_size': 32,\n",
        "    'learning_rate': 0.001,\n",
        "    'epochs': 20,\n",
        "    'image_size': 48,\n",
        "    'num_classes': 7,\n",
        "    'random_seed': 42,\n",
        "    'early_stop_patience': 5,  # More aggressive early stopping\n",
        "\n",
        "}\n",
        "\n",
        "# Set random seeds for reproducibility\n",
        "torch.manual_seed(CONFIG['random_seed'])\n",
        "np.random.seed(CONFIG['random_seed'])\n"
      ]
    },
    {
      "cell_type": "code",
      "source": [
        "# Initialize wandb\n",
        "wandb.init(\n",
        "    project=\"facial-expression-recognition\",\n",
        "    name=f\"{CONFIG['model_name']}_{datetime.now().strftime('%Y%m%d_%H%M%S')}\",\n",
        "    config=CONFIG,\n",
        "    job_type=\"training\"\n",
        ")"
      ],
      "metadata": {
        "colab": {
          "base_uri": "https://localhost:8080/",
          "height": 231
        },
        "id": "P1S28mnVHuzA",
        "outputId": "1cb1f3c4-fd1a-41d6-80db-fc7c517eb5d4"
      },
      "id": "P1S28mnVHuzA",
      "execution_count": 7,
      "outputs": [
        {
          "output_type": "display_data",
          "data": {
            "text/plain": [
              "<IPython.core.display.Javascript object>"
            ],
            "application/javascript": [
              "\n",
              "        window._wandbApiKey = new Promise((resolve, reject) => {\n",
              "            function loadScript(url) {\n",
              "            return new Promise(function(resolve, reject) {\n",
              "                let newScript = document.createElement(\"script\");\n",
              "                newScript.onerror = reject;\n",
              "                newScript.onload = resolve;\n",
              "                document.body.appendChild(newScript);\n",
              "                newScript.src = url;\n",
              "            });\n",
              "            }\n",
              "            loadScript(\"https://cdn.jsdelivr.net/npm/postmate/build/postmate.min.js\").then(() => {\n",
              "            const iframe = document.createElement('iframe')\n",
              "            iframe.style.cssText = \"width:0;height:0;border:none\"\n",
              "            document.body.appendChild(iframe)\n",
              "            const handshake = new Postmate({\n",
              "                container: iframe,\n",
              "                url: 'https://wandb.ai/authorize'\n",
              "            });\n",
              "            const timeout = setTimeout(() => reject(\"Couldn't auto authenticate\"), 5000)\n",
              "            handshake.then(function(child) {\n",
              "                child.on('authorize', data => {\n",
              "                    clearTimeout(timeout)\n",
              "                    resolve(data)\n",
              "                });\n",
              "            });\n",
              "            })\n",
              "        });\n",
              "    "
            ]
          },
          "metadata": {}
        },
        {
          "output_type": "stream",
          "name": "stderr",
          "text": [
            "\u001b[34m\u001b[1mwandb\u001b[0m: \u001b[33mWARNING\u001b[0m If you're specifying your api key in code, ensure this code is not shared publicly.\n",
            "\u001b[34m\u001b[1mwandb\u001b[0m: \u001b[33mWARNING\u001b[0m Consider setting the WANDB_API_KEY environment variable, or running `wandb login` from the command line.\n",
            "\u001b[34m\u001b[1mwandb\u001b[0m: No netrc file found, creating one.\n",
            "\u001b[34m\u001b[1mwandb\u001b[0m: Appending key for api.wandb.ai to your netrc file: /root/.netrc\n",
            "\u001b[34m\u001b[1mwandb\u001b[0m: Currently logged in as: \u001b[33mellekvirikashvili\u001b[0m (\u001b[33mellekvirikashvili-free-university-of-tbilisi-\u001b[0m) to \u001b[32mhttps://api.wandb.ai\u001b[0m. Use \u001b[1m`wandb login --relogin`\u001b[0m to force relogin\n"
          ]
        },
        {
          "output_type": "display_data",
          "data": {
            "text/plain": [
              "<IPython.core.display.HTML object>"
            ],
            "text/html": [
              "Tracking run with wandb version 0.19.11"
            ]
          },
          "metadata": {}
        },
        {
          "output_type": "display_data",
          "data": {
            "text/plain": [
              "<IPython.core.display.HTML object>"
            ],
            "text/html": [
              "Run data is saved locally in <code>/content/wandb/run-20250530_173001-uxblb7xc</code>"
            ]
          },
          "metadata": {}
        },
        {
          "output_type": "display_data",
          "data": {
            "text/plain": [
              "<IPython.core.display.HTML object>"
            ],
            "text/html": [
              "Syncing run <strong><a href='https://wandb.ai/ellekvirikashvili-free-university-of-tbilisi-/facial-expression-recognition/runs/uxblb7xc' target=\"_blank\">simple_cnn_20250530_172955</a></strong> to <a href='https://wandb.ai/ellekvirikashvili-free-university-of-tbilisi-/facial-expression-recognition' target=\"_blank\">Weights & Biases</a> (<a href='https://wandb.me/developer-guide' target=\"_blank\">docs</a>)<br>"
            ]
          },
          "metadata": {}
        },
        {
          "output_type": "display_data",
          "data": {
            "text/plain": [
              "<IPython.core.display.HTML object>"
            ],
            "text/html": [
              " View project at <a href='https://wandb.ai/ellekvirikashvili-free-university-of-tbilisi-/facial-expression-recognition' target=\"_blank\">https://wandb.ai/ellekvirikashvili-free-university-of-tbilisi-/facial-expression-recognition</a>"
            ]
          },
          "metadata": {}
        },
        {
          "output_type": "display_data",
          "data": {
            "text/plain": [
              "<IPython.core.display.HTML object>"
            ],
            "text/html": [
              " View run at <a href='https://wandb.ai/ellekvirikashvili-free-university-of-tbilisi-/facial-expression-recognition/runs/uxblb7xc' target=\"_blank\">https://wandb.ai/ellekvirikashvili-free-university-of-tbilisi-/facial-expression-recognition/runs/uxblb7xc</a>"
            ]
          },
          "metadata": {}
        },
        {
          "output_type": "execute_result",
          "data": {
            "text/html": [
              "<button onClick=\"this.nextSibling.style.display='block';this.style.display='none';\">Display W&B run</button><iframe src='https://wandb.ai/ellekvirikashvili-free-university-of-tbilisi-/facial-expression-recognition/runs/uxblb7xc?jupyter=true' style='border:none;width:100%;height:420px;display:none;'></iframe>"
            ],
            "text/plain": [
              "<wandb.sdk.wandb_run.Run at 0x7d03dc7248d0>"
            ]
          },
          "metadata": {},
          "execution_count": 7
        }
      ]
    },
    {
      "cell_type": "markdown",
      "id": "f6202101",
      "metadata": {
        "id": "f6202101"
      },
      "source": [
        "# Custom Dataset Class"
      ]
    },
    {
      "cell_type": "code",
      "execution_count": 8,
      "id": "953f6bff",
      "metadata": {
        "id": "953f6bff"
      },
      "outputs": [],
      "source": [
        "# Custom Dataset Class\n",
        "class FERDataset(Dataset):\n",
        "    def __init__(self, dataframe, indices, transform=None):\n",
        "        self.data = dataframe.iloc[indices].reset_index(drop=True)\n",
        "        self.transform = transform\n",
        "\n",
        "    def __len__(self):\n",
        "        return len(self.data)\n",
        "\n",
        "    def __getitem__(self, idx):\n",
        "        # Get pixel data and convert to image\n",
        "        pixels = self.data.iloc[idx]['pixels']\n",
        "        image = np.array(pixels.split(), dtype=np.uint8).reshape(48, 48)\n",
        "\n",
        "        # Convert to PIL format for transforms\n",
        "        image = image.astype(np.float32) / 255.0  # Normalize to [0,1]\n",
        "        image = torch.from_numpy(image).unsqueeze(0)  # Add channel dimension\n",
        "\n",
        "        if self.transform:\n",
        "            image = self.transform(image)\n",
        "\n",
        "        label = int(self.data.iloc[idx]['emotion'])\n",
        "\n",
        "        return image, label"
      ]
    },
    {
      "cell_type": "markdown",
      "id": "7UeJV6F3sdsT",
      "metadata": {
        "id": "7UeJV6F3sdsT"
      },
      "source": [
        "#  Define Simple CNN Model\n"
      ]
    },
    {
      "cell_type": "code",
      "execution_count": 11,
      "id": "oXPMjtHIscVk",
      "metadata": {
        "id": "oXPMjtHIscVk"
      },
      "outputs": [],
      "source": [
        "class SimpleCNN(nn.Module):\n",
        "        def __init__(self, num_classes=7):\n",
        "            super(SimpleCNN, self).__init__()\n",
        "\n",
        "            # Feature extraction layers\n",
        "            self.conv1 = nn.Conv2d(1, 32, kernel_size=3, padding=1)\n",
        "            self.bn1 = nn.BatchNorm2d(32) # Add BatchNorm\n",
        "\n",
        "            self.conv2 = nn.Conv2d(32, 64, kernel_size=3, padding=1)\n",
        "            self.bn2 = nn.BatchNorm2d(64) # Add BatchNorm\n",
        "\n",
        "            self.conv3 = nn.Conv2d(64, 128, kernel_size=3, padding=1)\n",
        "            self.bn3 = nn.BatchNorm2d(128) # Add BatchNorm\n",
        "\n",
        "            self.pool = nn.MaxPool2d(2, 2)\n",
        "            self.dropout = nn.Dropout(0.5)\n",
        "\n",
        "            self.fc1 = nn.Linear(128 * 6 * 6, 512)\n",
        "            self.fc2 = nn.Linear(512, num_classes)\n",
        "\n",
        "        def forward(self, x):\n",
        "            x = self.pool(F.relu(self.bn1(self.conv1(x)))) # Apply BatchNorm\n",
        "            x = self.pool(F.relu(self.bn2(self.conv2(x)))) # Apply BatchNorm\n",
        "            x = self.pool(F.relu(self.bn3(self.conv3(x)))) # Apply BatchNorm\n",
        "\n",
        "            x = x.view(x.size(0), -1)\n",
        "\n",
        "            x = F.relu(self.fc1(x))\n",
        "            x = self.dropout(x)\n",
        "            x = self.fc2(x)\n",
        "\n",
        "            return x"
      ]
    },
    {
      "cell_type": "markdown",
      "id": "3eZ7laA4skVN",
      "metadata": {
        "id": "3eZ7laA4skVN"
      },
      "source": [
        "# Load data"
      ]
    },
    {
      "cell_type": "code",
      "execution_count": 12,
      "id": "xqtIpz3fsiu6",
      "metadata": {
        "colab": {
          "base_uri": "https://localhost:8080/"
        },
        "id": "xqtIpz3fsiu6",
        "outputId": "2ebccee0-4b65-4534-ded3-7fca6b270609"
      },
      "outputs": [
        {
          "output_type": "stream",
          "name": "stdout",
          "text": [
            "Loading data...\n",
            "Training samples: 22967\n",
            "Validation samples: 5742\n"
          ]
        }
      ],
      "source": [
        "# Load data\n",
        "print(\"Loading data...\")\n",
        "train_df = pd.read_csv('train.csv')\n",
        "train_indices, val_indices = train_test_split(\n",
        "    range(len(train_df)),\n",
        "    test_size=0.2,\n",
        "    stratify=train_df['emotion'],\n",
        "    random_state=42\n",
        ")\n",
        "\n",
        "\n",
        "# Create datasets (no augmentation for baseline)\n",
        "# Add data augmentation\n",
        "train_transform = transforms.Compose([\n",
        "    transforms.RandomHorizontalFlip(), # Randomly flip the image horizontally\n",
        "    transforms.RandomRotation(10),     # Randomly rotate the image by up to 10 degrees\n",
        "    transforms.ColorJitter(brightness=0.2, contrast=0.2), # Randomly change brightness and contrast\n",
        "    transforms.Normalize(mean=[0.5], std=[0.5]) # Normalize to [-1, 1] - keep this\n",
        "])\n",
        "\n",
        "val_transform = transforms.Compose([\n",
        "    transforms.Normalize(mean=[0.5], std=[0.5])\n",
        "])\n",
        "\n",
        "train_dataset = FERDataset(train_df, train_indices, transform=train_transform)\n",
        "val_dataset = FERDataset(train_df, val_indices, transform=val_transform)\n",
        "\n",
        "# Create data loaders\n",
        "train_loader = DataLoader(\n",
        "    train_dataset,\n",
        "    batch_size=CONFIG['batch_size'],\n",
        "    shuffle=True,\n",
        "    num_workers=2\n",
        ")\n",
        "\n",
        "val_loader = DataLoader(\n",
        "    val_dataset,\n",
        "    batch_size=CONFIG['batch_size'],\n",
        "    shuffle=False,\n",
        "    num_workers=2\n",
        ")\n",
        "\n",
        "print(f\"Training samples: {len(train_dataset)}\")\n",
        "print(f\"Validation samples: {len(val_dataset)}\")"
      ]
    },
    {
      "cell_type": "markdown",
      "id": "cTdPZV0AuTN4",
      "metadata": {
        "id": "cTdPZV0AuTN4"
      },
      "source": [
        "# Training"
      ]
    },
    {
      "cell_type": "markdown",
      "id": "zsdkLiTAuIob",
      "metadata": {
        "id": "zsdkLiTAuIob"
      },
      "source": [
        "## Initialize model\n"
      ]
    },
    {
      "cell_type": "code",
      "execution_count": 13,
      "id": "mBxY-pASuHJc",
      "metadata": {
        "colab": {
          "base_uri": "https://localhost:8080/"
        },
        "id": "mBxY-pASuHJc",
        "outputId": "70bdc858-e1a2-4d3b-84da-be1022df9184"
      },
      "outputs": [
        {
          "output_type": "stream",
          "name": "stdout",
          "text": [
            "Model Parameters: 2,456,519 total, 2,456,519 trainable\n"
          ]
        }
      ],
      "source": [
        "model = SimpleCNN(num_classes=CONFIG['num_classes']).to(device)\n",
        "\n",
        "# Count parameters\n",
        "total_params = sum(p.numel() for p in model.parameters())\n",
        "trainable_params = sum(p.numel() for p in model.parameters() if p.requires_grad)\n",
        "\n",
        "print(f\"Model Parameters: {total_params:,} total, {trainable_params:,} trainable\")\n",
        "\n",
        "# Log model info\n",
        "wandb.log({\n",
        "    \"model_parameters\": total_params,\n",
        "    \"trainable_parameters\": trainable_params\n",
        "})\n"
      ]
    },
    {
      "cell_type": "code",
      "execution_count": 14,
      "id": "WtGaIeY9uL-_",
      "metadata": {
        "id": "WtGaIeY9uL-_"
      },
      "outputs": [],
      "source": [
        "\n",
        "# Define loss and optimizer\n",
        "criterion = nn.CrossEntropyLoss()\n",
        "optimizer = optim.Adam(model.parameters(), lr=CONFIG['learning_rate'])"
      ]
    },
    {
      "cell_type": "markdown",
      "id": "RRkO-zF0uO2-",
      "metadata": {
        "id": "RRkO-zF0uO2-"
      },
      "source": [
        "## Training Function"
      ]
    },
    {
      "cell_type": "code",
      "execution_count": 15,
      "id": "dt9Up7vHuOZO",
      "metadata": {
        "id": "dt9Up7vHuOZO"
      },
      "outputs": [],
      "source": [
        "def train_epoch(model, train_loader, criterion, optimizer, device):\n",
        "    model.train()\n",
        "    running_loss = 0.0\n",
        "    correct = 0\n",
        "    total = 0\n",
        "\n",
        "    for batch_idx, (data, target) in enumerate(train_loader):\n",
        "        data, target = data.to(device), target.to(device)\n",
        "\n",
        "        optimizer.zero_grad()\n",
        "        output = model(data)\n",
        "        loss = criterion(output, target)\n",
        "        loss.backward()\n",
        "        optimizer.step()\n",
        "\n",
        "        running_loss += loss.item()\n",
        "        _, predicted = torch.max(output.data, 1)\n",
        "        total += target.size(0)\n",
        "        correct += (predicted == target).sum().item()\n",
        "\n",
        "        if batch_idx % 100 == 0:\n",
        "            print(f'Batch {batch_idx}/{len(train_loader)}, Loss: {loss.item():.4f}')\n",
        "\n",
        "    epoch_loss = running_loss / len(train_loader)\n",
        "    epoch_acc = 100.0 * correct / total\n",
        "\n",
        "    return epoch_loss, epoch_acc\n"
      ]
    },
    {
      "cell_type": "markdown",
      "id": "y9hU3Z69uYg-",
      "metadata": {
        "id": "y9hU3Z69uYg-"
      },
      "source": [
        "## Validation function"
      ]
    },
    {
      "cell_type": "code",
      "execution_count": 16,
      "id": "bZ8_GPuyuYEU",
      "metadata": {
        "id": "bZ8_GPuyuYEU"
      },
      "outputs": [],
      "source": [
        "# Validation function\n",
        "def validate_epoch(model, val_loader, criterion, device):\n",
        "    model.eval()\n",
        "    running_loss = 0.0\n",
        "    correct = 0\n",
        "    total = 0\n",
        "    all_preds = []\n",
        "    all_targets = []\n",
        "\n",
        "    with torch.no_grad():\n",
        "        for data, target in val_loader:\n",
        "            data, target = data.to(device), target.to(device)\n",
        "            output = model(data)\n",
        "            loss = criterion(output, target)\n",
        "\n",
        "            running_loss += loss.item()\n",
        "            _, predicted = torch.max(output.data, 1)\n",
        "            total += target.size(0)\n",
        "            correct += (predicted == target).sum().item()\n",
        "\n",
        "            all_preds.extend(predicted.cpu().numpy())\n",
        "            all_targets.extend(target.cpu().numpy())\n",
        "\n",
        "    epoch_loss = running_loss / len(val_loader)\n",
        "    epoch_acc = 100.0 * correct / total\n",
        "\n",
        "    return epoch_loss, epoch_acc, all_preds, all_targets\n"
      ]
    },
    {
      "cell_type": "markdown",
      "id": "zFUubbEFueMn",
      "metadata": {
        "id": "zFUubbEFueMn"
      },
      "source": [
        "## Training Loop"
      ]
    },
    {
      "cell_type": "code",
      "execution_count": 19,
      "id": "JB7-quGnudYv",
      "metadata": {
        "colab": {
          "base_uri": "https://localhost:8080/"
        },
        "id": "JB7-quGnudYv",
        "outputId": "39c02660-428e-4711-d558-ba1c32b39b88"
      },
      "outputs": [
        {
          "output_type": "stream",
          "name": "stdout",
          "text": [
            "\n",
            "Starting training...\n",
            "Batch 0/718, Loss: 1.7282\n",
            "Batch 100/718, Loss: 1.7734\n",
            "Batch 200/718, Loss: 1.7513\n",
            "Batch 300/718, Loss: 1.6336\n",
            "Batch 400/718, Loss: 1.4527\n",
            "Batch 500/718, Loss: 1.6287\n",
            "Batch 600/718, Loss: 1.7224\n",
            "Batch 700/718, Loss: 1.5866\n",
            "Epoch [1/20]\n",
            "Train Loss: 1.6921, Train Acc: 31.51%\n",
            "Val Loss: 1.4864, Val Acc: 41.43%\n",
            "Time: 36.81s\n",
            "--------------------------------------------------\n",
            "New best validation accuracy: 41.43%\n",
            "Batch 0/718, Loss: 1.6380\n",
            "Batch 100/718, Loss: 1.4849\n",
            "Batch 200/718, Loss: 1.6835\n",
            "Batch 300/718, Loss: 1.5884\n",
            "Batch 400/718, Loss: 1.7233\n",
            "Batch 500/718, Loss: 1.7007\n",
            "Batch 600/718, Loss: 1.5992\n",
            "Batch 700/718, Loss: 1.5344\n",
            "Epoch [2/20]\n",
            "Train Loss: 1.5478, Train Acc: 39.10%\n",
            "Val Loss: 1.4349, Val Acc: 43.28%\n",
            "Time: 40.04s\n",
            "--------------------------------------------------\n",
            "New best validation accuracy: 43.28%\n",
            "Batch 0/718, Loss: 1.7342\n",
            "Batch 100/718, Loss: 1.3999\n",
            "Batch 200/718, Loss: 1.5813\n",
            "Batch 300/718, Loss: 1.4162\n",
            "Batch 400/718, Loss: 1.4797\n",
            "Batch 500/718, Loss: 1.6401\n",
            "Batch 600/718, Loss: 1.5973\n",
            "Batch 700/718, Loss: 1.5517\n",
            "Epoch [3/20]\n",
            "Train Loss: 1.4818, Train Acc: 42.10%\n",
            "Val Loss: 1.3509, Val Acc: 48.19%\n",
            "Time: 38.32s\n",
            "--------------------------------------------------\n",
            "New best validation accuracy: 48.19%\n",
            "Batch 0/718, Loss: 1.5071\n",
            "Batch 100/718, Loss: 1.8014\n",
            "Batch 200/718, Loss: 1.7401\n",
            "Batch 300/718, Loss: 1.6350\n",
            "Batch 400/718, Loss: 1.6894\n",
            "Batch 500/718, Loss: 1.4705\n",
            "Batch 600/718, Loss: 1.3659\n",
            "Batch 700/718, Loss: 1.4396\n",
            "Epoch [4/20]\n",
            "Train Loss: 1.4415, Train Acc: 43.80%\n",
            "Val Loss: 1.3167, Val Acc: 49.77%\n",
            "Time: 39.19s\n",
            "--------------------------------------------------\n",
            "New best validation accuracy: 49.77%\n",
            "Batch 0/718, Loss: 1.5248\n",
            "Batch 100/718, Loss: 1.2402\n",
            "Batch 200/718, Loss: 1.4940\n",
            "Batch 300/718, Loss: 1.3891\n",
            "Batch 400/718, Loss: 1.3473\n",
            "Batch 500/718, Loss: 1.4841\n",
            "Batch 600/718, Loss: 1.7005\n",
            "Batch 700/718, Loss: 1.3386\n",
            "Epoch [5/20]\n",
            "Train Loss: 1.3966, Train Acc: 45.93%\n",
            "Val Loss: 1.2651, Val Acc: 51.17%\n",
            "Time: 37.04s\n",
            "--------------------------------------------------\n",
            "New best validation accuracy: 51.17%\n",
            "Batch 0/718, Loss: 1.5109\n",
            "Batch 100/718, Loss: 1.3605\n",
            "Batch 200/718, Loss: 1.4865\n",
            "Batch 300/718, Loss: 1.4616\n",
            "Batch 400/718, Loss: 1.0970\n",
            "Batch 500/718, Loss: 1.4643\n",
            "Batch 600/718, Loss: 1.6181\n",
            "Batch 700/718, Loss: 1.4260\n",
            "Epoch [6/20]\n",
            "Train Loss: 1.3738, Train Acc: 47.26%\n",
            "Val Loss: 1.2392, Val Acc: 53.15%\n",
            "Time: 39.05s\n",
            "--------------------------------------------------\n",
            "New best validation accuracy: 53.15%\n",
            "Batch 0/718, Loss: 1.2263\n",
            "Batch 100/718, Loss: 1.3801\n",
            "Batch 200/718, Loss: 1.2519\n",
            "Batch 300/718, Loss: 1.6395\n",
            "Batch 400/718, Loss: 1.5184\n",
            "Batch 500/718, Loss: 1.4294\n",
            "Batch 600/718, Loss: 1.3389\n",
            "Batch 700/718, Loss: 1.6060\n",
            "Epoch [7/20]\n",
            "Train Loss: 1.3452, Train Acc: 48.62%\n",
            "Val Loss: 1.2278, Val Acc: 53.38%\n",
            "Time: 38.16s\n",
            "--------------------------------------------------\n",
            "New best validation accuracy: 53.38%\n",
            "Batch 0/718, Loss: 1.4072\n",
            "Batch 100/718, Loss: 1.4137\n",
            "Batch 200/718, Loss: 1.4715\n",
            "Batch 300/718, Loss: 1.1459\n",
            "Batch 400/718, Loss: 1.4323\n",
            "Batch 500/718, Loss: 1.3195\n",
            "Batch 600/718, Loss: 1.3431\n",
            "Batch 700/718, Loss: 1.5160\n",
            "Epoch [8/20]\n",
            "Train Loss: 1.3235, Train Acc: 49.15%\n",
            "Val Loss: 1.1863, Val Acc: 55.36%\n",
            "Time: 38.76s\n",
            "--------------------------------------------------\n",
            "New best validation accuracy: 55.36%\n",
            "Batch 0/718, Loss: 1.2050\n",
            "Batch 100/718, Loss: 1.5085\n",
            "Batch 200/718, Loss: 1.2537\n",
            "Batch 300/718, Loss: 1.6911\n",
            "Batch 400/718, Loss: 1.2646\n",
            "Batch 500/718, Loss: 1.3230\n",
            "Batch 600/718, Loss: 1.2157\n",
            "Batch 700/718, Loss: 1.5595\n",
            "Epoch [9/20]\n",
            "Train Loss: 1.3078, Train Acc: 50.16%\n",
            "Val Loss: 1.1824, Val Acc: 55.36%\n",
            "Time: 37.91s\n",
            "--------------------------------------------------\n",
            "Batch 0/718, Loss: 1.1127\n",
            "Batch 100/718, Loss: 1.2118\n",
            "Batch 200/718, Loss: 1.2674\n",
            "Batch 300/718, Loss: 1.0949\n",
            "Batch 400/718, Loss: 1.4070\n",
            "Batch 500/718, Loss: 1.2529\n",
            "Batch 600/718, Loss: 1.1239\n",
            "Batch 700/718, Loss: 1.1821\n",
            "Epoch [10/20]\n",
            "Train Loss: 1.2918, Train Acc: 50.43%\n",
            "Val Loss: 1.1570, Val Acc: 56.74%\n",
            "Time: 39.16s\n",
            "--------------------------------------------------\n",
            "New best validation accuracy: 56.74%\n",
            "Batch 0/718, Loss: 1.4007\n",
            "Batch 100/718, Loss: 1.5142\n",
            "Batch 200/718, Loss: 1.3137\n",
            "Batch 300/718, Loss: 1.5797\n",
            "Batch 400/718, Loss: 1.1745\n",
            "Batch 500/718, Loss: 1.6513\n",
            "Batch 600/718, Loss: 1.3116\n",
            "Batch 700/718, Loss: 1.5010\n",
            "Epoch [11/20]\n",
            "Train Loss: 1.2862, Train Acc: 50.89%\n",
            "Val Loss: 1.1477, Val Acc: 56.91%\n",
            "Time: 38.50s\n",
            "--------------------------------------------------\n",
            "New best validation accuracy: 56.91%\n",
            "Batch 0/718, Loss: 1.4952\n",
            "Batch 100/718, Loss: 1.5858\n",
            "Batch 200/718, Loss: 1.0144\n",
            "Batch 300/718, Loss: 1.3368\n",
            "Batch 400/718, Loss: 1.2636\n",
            "Batch 500/718, Loss: 1.2282\n",
            "Batch 600/718, Loss: 1.4514\n",
            "Batch 700/718, Loss: 1.2744\n",
            "Epoch [12/20]\n",
            "Train Loss: 1.2664, Train Acc: 51.38%\n",
            "Val Loss: 1.1455, Val Acc: 56.91%\n",
            "Time: 36.51s\n",
            "--------------------------------------------------\n",
            "Batch 0/718, Loss: 1.4943\n",
            "Batch 100/718, Loss: 1.3410\n",
            "Batch 200/718, Loss: 1.3612\n",
            "Batch 300/718, Loss: 1.2191\n",
            "Batch 400/718, Loss: 1.1772\n",
            "Batch 500/718, Loss: 1.3276\n",
            "Batch 600/718, Loss: 1.3116\n",
            "Batch 700/718, Loss: 1.1727\n",
            "Epoch [13/20]\n",
            "Train Loss: 1.2530, Train Acc: 52.15%\n",
            "Val Loss: 1.1599, Val Acc: 55.05%\n",
            "Time: 38.65s\n",
            "--------------------------------------------------\n",
            "Batch 0/718, Loss: 1.4128\n",
            "Batch 100/718, Loss: 1.1680\n",
            "Batch 200/718, Loss: 1.1606\n",
            "Batch 300/718, Loss: 1.2107\n",
            "Batch 400/718, Loss: 1.0303\n",
            "Batch 500/718, Loss: 1.2298\n",
            "Batch 600/718, Loss: 1.4341\n",
            "Batch 700/718, Loss: 1.4045\n",
            "Epoch [14/20]\n",
            "Train Loss: 1.2390, Train Acc: 52.58%\n",
            "Val Loss: 1.1416, Val Acc: 58.03%\n",
            "Time: 36.78s\n",
            "--------------------------------------------------\n",
            "New best validation accuracy: 58.03%\n",
            "Batch 0/718, Loss: 1.2804\n",
            "Batch 100/718, Loss: 1.1315\n",
            "Batch 200/718, Loss: 1.1999\n",
            "Batch 300/718, Loss: 1.1667\n",
            "Batch 400/718, Loss: 1.3578\n",
            "Batch 500/718, Loss: 1.2427\n",
            "Batch 600/718, Loss: 1.0808\n",
            "Batch 700/718, Loss: 1.1634\n",
            "Epoch [15/20]\n",
            "Train Loss: 1.2375, Train Acc: 52.54%\n",
            "Val Loss: 1.1282, Val Acc: 58.12%\n",
            "Time: 38.67s\n",
            "--------------------------------------------------\n",
            "New best validation accuracy: 58.12%\n",
            "Batch 0/718, Loss: 1.2873\n",
            "Batch 100/718, Loss: 1.4485\n",
            "Batch 200/718, Loss: 1.3388\n",
            "Batch 300/718, Loss: 1.0261\n",
            "Batch 400/718, Loss: 1.0396\n",
            "Batch 500/718, Loss: 1.1426\n",
            "Batch 600/718, Loss: 1.0679\n",
            "Batch 700/718, Loss: 1.2483\n",
            "Epoch [16/20]\n",
            "Train Loss: 1.2241, Train Acc: 53.22%\n",
            "Val Loss: 1.1051, Val Acc: 59.07%\n",
            "Time: 38.50s\n",
            "--------------------------------------------------\n",
            "New best validation accuracy: 59.07%\n",
            "Batch 0/718, Loss: 1.4270\n",
            "Batch 100/718, Loss: 1.0503\n",
            "Batch 200/718, Loss: 1.2438\n",
            "Batch 300/718, Loss: 1.5462\n",
            "Batch 400/718, Loss: 1.4010\n",
            "Batch 500/718, Loss: 1.3405\n",
            "Batch 600/718, Loss: 1.1426\n",
            "Batch 700/718, Loss: 1.1655\n",
            "Epoch [17/20]\n",
            "Train Loss: 1.2111, Train Acc: 53.81%\n",
            "Val Loss: 1.1331, Val Acc: 57.24%\n",
            "Time: 38.54s\n",
            "--------------------------------------------------\n",
            "Batch 0/718, Loss: 1.0375\n",
            "Batch 100/718, Loss: 1.0476\n",
            "Batch 200/718, Loss: 1.6921\n",
            "Batch 300/718, Loss: 1.1728\n",
            "Batch 400/718, Loss: 1.1065\n",
            "Batch 500/718, Loss: 1.2025\n",
            "Batch 600/718, Loss: 1.1457\n",
            "Batch 700/718, Loss: 1.1592\n",
            "Epoch [18/20]\n",
            "Train Loss: 1.2063, Train Acc: 53.90%\n",
            "Val Loss: 1.1345, Val Acc: 57.59%\n",
            "Time: 36.28s\n",
            "--------------------------------------------------\n",
            "Batch 0/718, Loss: 0.9635\n",
            "Batch 100/718, Loss: 0.9378\n",
            "Batch 200/718, Loss: 1.0444\n",
            "Batch 300/718, Loss: 1.4733\n",
            "Batch 400/718, Loss: 1.0335\n",
            "Batch 500/718, Loss: 0.9808\n",
            "Batch 600/718, Loss: 1.2512\n",
            "Batch 700/718, Loss: 1.1562\n",
            "Epoch [19/20]\n",
            "Train Loss: 1.1937, Train Acc: 54.51%\n",
            "Val Loss: 1.1065, Val Acc: 59.11%\n",
            "Time: 38.96s\n",
            "--------------------------------------------------\n",
            "New best validation accuracy: 59.11%\n",
            "Batch 0/718, Loss: 1.1235\n",
            "Batch 100/718, Loss: 1.2970\n",
            "Batch 200/718, Loss: 1.4508\n",
            "Batch 300/718, Loss: 1.2378\n",
            "Batch 400/718, Loss: 1.2624\n",
            "Batch 500/718, Loss: 1.4343\n",
            "Batch 600/718, Loss: 1.3169\n",
            "Batch 700/718, Loss: 0.9579\n",
            "Epoch [20/20]\n",
            "Train Loss: 1.1825, Train Acc: 55.08%\n",
            "Val Loss: 1.1020, Val Acc: 57.89%\n",
            "Time: 36.64s\n",
            "--------------------------------------------------\n",
            "\n",
            "Training completed in 762.90s\n",
            "Best validation accuracy: 59.11%\n"
          ]
        }
      ],
      "source": [
        "print(\"\\nStarting training...\")\n",
        "train_losses, train_accs = [], []\n",
        "val_losses, val_accs = [], []\n",
        "best_val_acc = 0.0\n",
        "patience_counter = 0\n",
        "early_stop_patience = CONFIG['early_stop_patience']\n",
        "\n",
        "start_time = time.time()\n",
        "\n",
        "for epoch in range(CONFIG['epochs']):\n",
        "    epoch_start = time.time()\n",
        "\n",
        "    # Train\n",
        "    train_loss, train_acc = train_epoch(model, train_loader, criterion, optimizer, device)\n",
        "\n",
        "    # Validate\n",
        "    val_loss, val_acc, val_preds, val_targets = validate_epoch(model, val_loader, criterion, device)\n",
        "\n",
        "    # Store metrics\n",
        "    train_losses.append(train_loss)\n",
        "    train_accs.append(train_acc)\n",
        "    val_losses.append(val_loss)\n",
        "    val_accs.append(val_acc)\n",
        "\n",
        "    epoch_time = time.time() - epoch_start\n",
        "\n",
        "    # Log to wandb\n",
        "    wandb.log({\n",
        "        'epoch': epoch + 1,\n",
        "        'train_loss': train_loss,\n",
        "        'train_accuracy': train_acc,\n",
        "        'val_loss': val_loss,\n",
        "        'val_accuracy': val_acc,\n",
        "        'epoch_time': epoch_time,\n",
        "        'learning_rate': optimizer.param_groups[0]['lr']\n",
        "    })\n",
        "\n",
        "    print(f'Epoch [{epoch+1}/{CONFIG[\"epochs\"]}]')\n",
        "    print(f'Train Loss: {train_loss:.4f}, Train Acc: {train_acc:.2f}%')\n",
        "    print(f'Val Loss: {val_loss:.4f}, Val Acc: {val_acc:.2f}%')\n",
        "    print(f'Time: {epoch_time:.2f}s')\n",
        "    print('-' * 50)\n",
        "\n",
        "    # Save best model\n",
        "    if val_acc > best_val_acc:\n",
        "        best_val_acc = val_acc\n",
        "        torch.save(model.state_dict(), 'simple_cnn_best.pth')\n",
        "        print(f'New best validation accuracy: {best_val_acc:.2f}%')\n",
        "        patience_counter = 0\n",
        "    else:\n",
        "        patience_counter += 1\n",
        "\n",
        "    # Early stopping\n",
        "    if patience_counter >= early_stop_patience:\n",
        "        print(f'Early stopping at epoch {epoch+1}')\n",
        "        break\n",
        "\n",
        "total_time = time.time() - start_time\n",
        "print(f'\\nTraining completed in {total_time:.2f}s')\n",
        "print(f'Best validation accuracy: {best_val_acc:.2f}%')"
      ]
    },
    {
      "cell_type": "code",
      "execution_count": 20,
      "id": "yaLkuDoWuj4y",
      "metadata": {
        "id": "yaLkuDoWuj4y",
        "colab": {
          "base_uri": "https://localhost:8080/",
          "height": 454
        },
        "outputId": "d5f5354c-3386-466c-b37d-3a329a4dd8ea"
      },
      "outputs": [
        {
          "output_type": "display_data",
          "data": {
            "text/plain": [
              "<Figure size 1500x500 with 3 Axes>"
            ],
            "image/png": "[encoded data removed]"
          },
          "metadata": {}
        }
      ],
      "source": [
        "\n",
        "# Plot training curves\n",
        "plt.figure(figsize=(15, 5))\n",
        "\n",
        "plt.subplot(1, 3, 1)\n",
        "plt.plot(train_losses, label='Train Loss', color='blue')\n",
        "plt.plot(val_losses, label='Val Loss', color='red')\n",
        "plt.xlabel('Epoch')\n",
        "plt.ylabel('Loss')\n",
        "plt.title('Training and Validation Loss')\n",
        "plt.legend()\n",
        "plt.grid(True)\n",
        "\n",
        "plt.subplot(1, 3, 2)\n",
        "plt.plot(train_accs, label='Train Acc', color='blue')\n",
        "plt.plot(val_accs, label='Val Acc', color='red')\n",
        "plt.xlabel('Epoch')\n",
        "plt.ylabel('Accuracy (%)')\n",
        "plt.title('Training and Validation Accuracy')\n",
        "plt.legend()\n",
        "plt.grid(True)\n",
        "\n",
        "plt.subplot(1, 3, 3)\n",
        "plt.plot(np.array(train_accs) - np.array(val_accs), label='Acc Gap', color='green')\n",
        "plt.xlabel('Epoch')\n",
        "plt.ylabel('Train - Val Accuracy (%)')\n",
        "plt.title('Overfitting Indicator')\n",
        "plt.legend()\n",
        "plt.grid(True)\n",
        "plt.axhline(y=0, color='black', linestyle='--', alpha=0.5)\n",
        "\n",
        "plt.tight_layout()\n",
        "plt.savefig('simple_cnn_training_curves.png', dpi=300, bbox_inches='tight')\n",
        "plt.show()"
      ]
    },
    {
      "cell_type": "markdown",
      "id": "jOyq8NG2usFF",
      "metadata": {
        "id": "jOyq8NG2usFF"
      },
      "source": [
        "## load bst model"
      ]
    },
    {
      "cell_type": "code",
      "execution_count": 21,
      "id": "2UWCjKHgup88",
      "metadata": {
        "id": "2UWCjKHgup88",
        "colab": {
          "base_uri": "https://localhost:8080/"
        },
        "outputId": "9302d82b-700e-4605-f535-c9eb5988c4bf"
      },
      "outputs": [
        {
          "output_type": "stream",
          "name": "stdout",
          "text": [
            "Final validation accuracy: 59.11%\n",
            "\n",
            "Classification Report:\n",
            "              precision    recall  f1-score   support\n",
            "\n",
            "       Angry       0.49      0.47      0.48       799\n",
            "     Disgust       0.00      0.00      0.00        87\n",
            "        Fear       0.49      0.15      0.23       820\n",
            "       Happy       0.79      0.88      0.83      1443\n",
            "         Sad       0.43      0.58      0.49       966\n",
            "    Surprise       0.75      0.68      0.72       634\n",
            "     Neutral       0.51      0.63      0.57       993\n",
            "\n",
            "    accuracy                           0.59      5742\n",
            "   macro avg       0.49      0.49      0.47      5742\n",
            "weighted avg       0.58      0.59      0.57      5742\n",
            "\n"
          ]
        },
        {
          "output_type": "stream",
          "name": "stderr",
          "text": [
            "/usr/local/lib/python3.11/dist-packages/sklearn/metrics/_classification.py:1565: UndefinedMetricWarning: Precision is ill-defined and being set to 0.0 in labels with no predicted samples. Use `zero_division` parameter to control this behavior.\n",
            "  _warn_prf(average, modifier, f\"{metric.capitalize()} is\", len(result))\n",
            "/usr/local/lib/python3.11/dist-packages/sklearn/metrics/_classification.py:1565: UndefinedMetricWarning: Precision is ill-defined and being set to 0.0 in labels with no predicted samples. Use `zero_division` parameter to control this behavior.\n",
            "  _warn_prf(average, modifier, f\"{metric.capitalize()} is\", len(result))\n",
            "/usr/local/lib/python3.11/dist-packages/sklearn/metrics/_classification.py:1565: UndefinedMetricWarning: Precision is ill-defined and being set to 0.0 in labels with no predicted samples. Use `zero_division` parameter to control this behavior.\n",
            "  _warn_prf(average, modifier, f\"{metric.capitalize()} is\", len(result))\n",
            "/usr/local/lib/python3.11/dist-packages/sklearn/metrics/_classification.py:1565: UndefinedMetricWarning: Precision is ill-defined and being set to 0.0 in labels with no predicted samples. Use `zero_division` parameter to control this behavior.\n",
            "  _warn_prf(average, modifier, f\"{metric.capitalize()} is\", len(result))\n",
            "/usr/local/lib/python3.11/dist-packages/sklearn/metrics/_classification.py:1565: UndefinedMetricWarning: Precision is ill-defined and being set to 0.0 in labels with no predicted samples. Use `zero_division` parameter to control this behavior.\n",
            "  _warn_prf(average, modifier, f\"{metric.capitalize()} is\", len(result))\n",
            "/usr/local/lib/python3.11/dist-packages/sklearn/metrics/_classification.py:1565: UndefinedMetricWarning: Precision is ill-defined and being set to 0.0 in labels with no predicted samples. Use `zero_division` parameter to control this behavior.\n",
            "  _warn_prf(average, modifier, f\"{metric.capitalize()} is\", len(result))\n"
          ]
        }
      ],
      "source": [
        "\n",
        "# Load best model for final evaluation\n",
        "model.load_state_dict(torch.load('simple_cnn_best.pth'))\n",
        "\n",
        "# Final validation with best model\n",
        "final_val_loss, final_val_acc, final_preds, final_targets = validate_epoch(\n",
        "    model, val_loader, criterion, device\n",
        ")\n",
        "\n",
        "print(f'Final validation accuracy: {final_val_acc:.2f}%')\n",
        "\n",
        "# Classification report\n",
        "expression_mapping = {\n",
        "    0: 'Angry', 1: 'Disgust', 2: 'Fear', 3: 'Happy',\n",
        "    4: 'Sad', 5: 'Surprise', 6: 'Neutral'\n",
        "}\n",
        "\n",
        "class_names = [expression_mapping[i] for i in range(7)]\n",
        "class_report = classification_report(\n",
        "    final_targets, final_preds,\n",
        "    target_names=class_names,\n",
        "    output_dict=True\n",
        ")\n",
        "\n",
        "print(\"\\nClassification Report:\")\n",
        "print(classification_report(final_targets, final_preds, target_names=class_names))\n"
      ]
    },
    {
      "cell_type": "markdown",
      "source": [
        "##  Confusion Matrix"
      ],
      "metadata": {
        "id": "ChD6EnJcN1RY"
      },
      "id": "ChD6EnJcN1RY"
    },
    {
      "cell_type": "code",
      "execution_count": 22,
      "id": "3CuKlTInuwtc",
      "metadata": {
        "id": "3CuKlTInuwtc",
        "colab": {
          "base_uri": "https://localhost:8080/",
          "height": 929
        },
        "outputId": "f740e12b-9d38-4bff-e3e5-30f022aff0e7"
      },
      "outputs": [
        {
          "output_type": "display_data",
          "data": {
            "text/plain": [
              "<Figure size 1000x800 with 2 Axes>"
            ],
            "image/png": "[encoded data removed]"
          },
          "metadata": {}
        },
        {
          "output_type": "stream",
          "name": "stdout",
          "text": [
            "Angry: 47.2% (799 samples)\n",
            "Disgust: 0.0% (87 samples)\n",
            "Fear: 15.0% (820 samples)\n",
            "Happy: 87.9% (1443 samples)\n",
            "Sad: 58.5% (966 samples)\n",
            "Surprise: 68.5% (634 samples)\n",
            "Neutral: 63.0% (993 samples)\n"
          ]
        }
      ],
      "source": [
        "import matplotlib.pyplot as plt\n",
        "import seaborn as sns\n",
        "cm = confusion_matrix(final_targets, final_preds)\n",
        "plt.figure(figsize=(10, 8))\n",
        "sns.heatmap(cm, annot=True, fmt='d', cmap='Blues',\n",
        "            xticklabels=class_names, yticklabels=class_names)\n",
        "plt.title('Confusion Matrix - Simple CNN')\n",
        "plt.xlabel('Predicted')\n",
        "plt.ylabel('Actual')\n",
        "plt.tight_layout()\n",
        "plt.savefig('simple_cnn_confusion_matrix.png', dpi=300, bbox_inches='tight')\n",
        "plt.show()\n",
        "\n",
        "# Analyze per-class performance\n",
        "per_class_acc = []\n",
        "for i in range(7):\n",
        "    class_mask = np.array(final_targets) == i\n",
        "    if class_mask.sum() > 0:\n",
        "        class_acc = (np.array(final_preds)[class_mask] == i).mean() * 100\n",
        "        per_class_acc.append(class_acc)\n",
        "        print(f'{class_names[i]}: {class_acc:.1f}% ({class_mask.sum()} samples)')\n",
        "\n",
        "# Log final results to wandb\n",
        "wandb.log({\n",
        "    'final_val_accuracy': final_val_acc,\n",
        "    'final_val_loss': final_val_loss,\n",
        "    'training_curves': wandb.Image('simple_cnn_training_curves.png'),\n",
        "    'confusion_matrix': wandb.Image('simple_cnn_confusion_matrix.png'),\n",
        "    'classification_report': class_report,\n",
        "    'total_training_time': total_time,\n",
        "    'best_epoch': np.argmax(val_accs) + 1\n",
        "})"
      ]
    },
    {
      "cell_type": "markdown",
      "id": "DjDei671uxmM",
      "metadata": {
        "id": "DjDei671uxmM"
      },
      "source": [
        "# Analyzis"
      ]
    },
    {
      "cell_type": "code",
      "execution_count": 23,
      "id": "6lj0uRwsu0qF",
      "metadata": {
        "id": "6lj0uRwsu0qF",
        "colab": {
          "base_uri": "https://localhost:8080/",
          "height": 1000
        },
        "outputId": "e3a849ef-7008-4a35-8fd9-7664e5d24416"
      },
      "outputs": [
        {
          "output_type": "stream",
          "name": "stdout",
          "text": [
            "\n",
            "============================================================\n",
            "SIMPLE CNN BASELINE ANALYSIS\n",
            "============================================================\n",
            "\n",
            "Overfitting Analysis:\n",
            "Final Training Accuracy: 55.08%\n",
            "Final Validation Accuracy: 59.11%\n",
            "Accuracy Gap: -4.02%\n",
            "🟡 GOOD GENERALIZATION: Small gap between train and validation\n",
            "✅ BALANCED MODEL: Good generalization\n",
            "\n",
            "Learning Curve Analysis:\n",
            "Best epoch: 19\n",
            "Early stopping could have saved 1 epochs\n",
            "✅ STABLE LEARNING: No significant decline in validation performance\n",
            "\n",
            "Per-class Performance:\n",
            "Best performing class: Happy (87.9%)\n",
            "Worst performing class: Disgust (0.0%)\n",
            "Performance variance: 28.6%\n",
            "\n",
            "Model Complexity:\n",
            "Total parameters: 2,456,519\n",
            "Model size: ~9.4 MB (float32)\n",
            "Training time: 762.9s (38.1s/epoch)\n",
            "\n",
            "🔬 RECOMMENDATIONS FOR NEXT EXPERIMENTS:\n",
            "1. Architecture: Try deeper CNN with more layers\n",
            "2. Regularization: Add batch normalization, more dropout\n",
            "3. Data: Implement data augmentation to reduce overfitting\n",
            "4. Optimization: Try different learning rates, schedulers\n",
            "5. Loss: Consider weighted loss for class imbalance\n",
            "\n",
            "✅ Simple CNN baseline complete!\n",
            "📊 Results logged to Wandb\n",
            "💾 Best model saved as 'simple_cnn_best.pth'\n"
          ]
        },
        {
          "output_type": "display_data",
          "data": {
            "text/plain": [
              "<IPython.core.display.HTML object>"
            ],
            "text/html": []
          },
          "metadata": {}
        },
        {
          "output_type": "display_data",
          "data": {
            "text/plain": [
              "<IPython.core.display.HTML object>"
            ],
            "text/html": [
              "<br>    <style><br>        .wandb-row {<br>            display: flex;<br>            flex-direction: row;<br>            flex-wrap: wrap;<br>            justify-content: flex-start;<br>            width: 100%;<br>        }<br>        .wandb-col {<br>            display: flex;<br>            flex-direction: column;<br>            flex-basis: 100%;<br>            flex: 1;<br>            padding: 10px;<br>        }<br>    </style><br><div class=\"wandb-row\"><div class=\"wandb-col\"><h3>Run history:</h3><br/><table class=\"wandb\"><tr><td>best_epoch</td><td>▁</td></tr><tr><td>epoch</td><td>▁▁▂▂▂▃▃▄▄▄▅▅▅▆▆▇▇▇██</td></tr><tr><td>epoch_time</td><td>▂█▅▆▂▆▄▆▄▆▅▁▅▂▅▅▅▁▆▂</td></tr><tr><td>final_val_accuracy</td><td>▁</td></tr><tr><td>final_val_loss</td><td>▁</td></tr><tr><td>learning_rate</td><td>▁▁▁▁▁▁▁▁▁▁▁▁▁▁▁▁▁▁▁▁</td></tr><tr><td>model_parameters</td><td>▁</td></tr><tr><td>total_training_time</td><td>▁</td></tr><tr><td>train_accuracy</td><td>▁▃▄▅▅▆▆▆▇▇▇▇▇▇▇▇████</td></tr><tr><td>train_loss</td><td>█▆▅▅▄▄▃▃▃▃▂▂▂▂▂▂▁▁▁▁</td></tr><tr><td>trainable_parameters</td><td>▁</td></tr><tr><td>val_accuracy</td><td>▁▂▄▄▅▆▆▇▇▇▇▇▆███▇▇██</td></tr><tr><td>val_loss</td><td>█▇▆▅▄▃▃▃▂▂▂▂▂▂▁▁▂▂▁▁</td></tr></table><br/></div><div class=\"wandb-col\"><h3>Run summary:</h3><br/><table class=\"wandb\"><tr><td>best_epoch</td><td>19</td></tr><tr><td>epoch</td><td>20</td></tr><tr><td>epoch_time</td><td>36.64309</td></tr><tr><td>final_val_accuracy</td><td>59.10832</td></tr><tr><td>final_val_loss</td><td>1.10648</td></tr><tr><td>learning_rate</td><td>0.001</td></tr><tr><td>model_parameters</td><td>2456519</td></tr><tr><td>total_training_time</td><td>762.89525</td></tr><tr><td>train_accuracy</td><td>55.08338</td></tr><tr><td>train_loss</td><td>1.18247</td></tr><tr><td>trainable_parameters</td><td>2456519</td></tr><tr><td>val_accuracy</td><td>57.88924</td></tr><tr><td>val_loss</td><td>1.10201</td></tr></table><br/></div></div>"
            ]
          },
          "metadata": {}
        },
        {
          "output_type": "display_data",
          "data": {
            "text/plain": [
              "<IPython.core.display.HTML object>"
            ],
            "text/html": [
              " View run <strong style=\"color:#cdcd00\">simple_cnn_20250530_172955</strong> at: <a href='https://wandb.ai/ellekvirikashvili-free-university-of-tbilisi-/facial-expression-recognition/runs/uxblb7xc' target=\"_blank\">https://wandb.ai/ellekvirikashvili-free-university-of-tbilisi-/facial-expression-recognition/runs/uxblb7xc</a><br> View project at: <a href='https://wandb.ai/ellekvirikashvili-free-university-of-tbilisi-/facial-expression-recognition' target=\"_blank\">https://wandb.ai/ellekvirikashvili-free-university-of-tbilisi-/facial-expression-recognition</a><br>Synced 5 W&B file(s), 2 media file(s), 0 artifact file(s) and 0 other file(s)"
            ]
          },
          "metadata": {}
        },
        {
          "output_type": "display_data",
          "data": {
            "text/plain": [
              "<IPython.core.display.HTML object>"
            ],
            "text/html": [
              "Find logs at: <code>./wandb/run-20250530_173001-uxblb7xc/logs</code>"
            ]
          },
          "metadata": {}
        }
      ],
      "source": [
        "\n",
        "# Analysis of results\n",
        "print(\"\\n\" + \"=\"*60)\n",
        "print(\"SIMPLE CNN BASELINE ANALYSIS\")\n",
        "print(\"=\"*60)\n",
        "\n",
        "# Check for overfitting/underfitting\n",
        "final_train_acc = train_accs[-1]\n",
        "acc_gap = final_train_acc - final_val_acc\n",
        "\n",
        "print(f\"\\nOverfitting Analysis:\")\n",
        "print(f\"Final Training Accuracy: {final_train_acc:.2f}%\")\n",
        "print(f\"Final Validation Accuracy: {final_val_acc:.2f}%\")\n",
        "print(f\"Accuracy Gap: {acc_gap:.2f}%\")\n",
        "\n",
        "if acc_gap > 10:\n",
        "    print(\"🔴 OVERFITTING DETECTED: Large gap between train and validation accuracy\")\n",
        "    print(\"   - Model memorizing training data\")\n",
        "    print(\"   - Need regularization (dropout, data augmentation)\")\n",
        "elif acc_gap < 5:\n",
        "    print(\"🟡 GOOD GENERALIZATION: Small gap between train and validation\")\n",
        "    if final_val_acc < 50:\n",
        "        print(\"🔴 UNDERFITTING: Both accuracies are low\")\n",
        "        print(\"   - Model too simple for the task\")\n",
        "        print(\"   - Need more capacity or different architecture\")\n",
        "    else:\n",
        "        print(\"✅ BALANCED MODEL: Good generalization\")\n",
        "else:\n",
        "    print(\"🟡 MILD OVERFITTING: Moderate gap, could be improved\")\n",
        "\n",
        "# Learning curve analysis\n",
        "print(f\"\\nLearning Curve Analysis:\")\n",
        "print(f\"Best epoch: {np.argmax(val_accs) + 1}\")\n",
        "print(f\"Early stopping could have saved {CONFIG['epochs'] - np.argmax(val_accs) - 1} epochs\")\n",
        "\n",
        "if val_accs[-1] < max(val_accs) * 0.95:\n",
        "    print(\"🔴 VALIDATION ACCURACY DECLINING: Clear overfitting in later epochs\")\n",
        "else:\n",
        "    print(\"✅ STABLE LEARNING: No significant decline in validation performance\")\n",
        "\n",
        "# Performance insights\n",
        "worst_class = class_names[np.argmin(per_class_acc)]\n",
        "best_class = class_names[np.argmax(per_class_acc)]\n",
        "\n",
        "print(f\"\\nPer-class Performance:\")\n",
        "print(f\"Best performing class: {best_class} ({max(per_class_acc):.1f}%)\")\n",
        "print(f\"Worst performing class: {worst_class} ({min(per_class_acc):.1f}%)\")\n",
        "print(f\"Performance variance: {np.std(per_class_acc):.1f}%\")\n",
        "\n",
        "# Model complexity analysis\n",
        "print(f\"\\nModel Complexity:\")\n",
        "print(f\"Total parameters: {total_params:,}\")\n",
        "print(f\"Model size: ~{total_params * 4 / 1024 / 1024:.1f} MB (float32)\")\n",
        "print(f\"Training time: {total_time:.1f}s ({total_time/CONFIG['epochs']:.1f}s/epoch)\")\n",
        "\n",
        "# Recommendations for next experiments\n",
        "print(f\"\\n🔬 RECOMMENDATIONS FOR NEXT EXPERIMENTS:\")\n",
        "print(f\"1. Architecture: Try deeper CNN with more layers\")\n",
        "print(f\"2. Regularization: Add batch normalization, more dropout\")\n",
        "print(f\"3. Data: Implement data augmentation to reduce overfitting\")\n",
        "print(f\"4. Optimization: Try different learning rates, schedulers\")\n",
        "print(f\"5. Loss: Consider weighted loss for class imbalance\")\n",
        "\n",
        "# Save experiment summary\n",
        "experiment_summary = {\n",
        "    'model_name': CONFIG['model_name'],\n",
        "    'final_val_accuracy': final_val_acc,\n",
        "    'best_val_accuracy': best_val_acc,\n",
        "    'final_train_accuracy': final_train_acc,\n",
        "    'overfitting_gap': acc_gap,\n",
        "    'total_parameters': total_params,\n",
        "    'training_time': total_time,\n",
        "    'best_epoch': int(np.argmax(val_accs) + 1),\n",
        "    'per_class_accuracy': dict(zip(class_names, per_class_acc)),\n",
        "    'key_findings': {\n",
        "        'overfitting_detected': acc_gap > 10,\n",
        "        'underfitting_detected': final_val_acc < 40,\n",
        "        'early_stopping_beneficial': val_accs[-1] < max(val_accs) * 0.95,\n",
        "        'class_imbalance_impact': max(per_class_acc) - min(per_class_acc) > 20\n",
        "    }\n",
        "}\n",
        "\n",
        "# Log summary\n",
        "wandb.log({'experiment_summary': experiment_summary})\n",
        "\n",
        "print(f\"\\n✅ Simple CNN baseline complete!\")\n",
        "print(f\"📊 Results logged to Wandb\")\n",
        "print(f\"💾 Best model saved as 'simple_cnn_best.pth'\")\n",
        "\n",
        "wandb.finish()"
      ]
    }
  ],
  "metadata": {
    "accelerator": "GPU",
    "colab": {
      "gpuType": "T4",
      "provenance": [],
      "include_colab_link": true
    },
    "kernelspec": {
      "display_name": "Python 3",
      "name": "python3"
    },
    "language_info": {
      "name": "python",
      "version": "3.13.3"
    }
  },
  "nbformat": 4,
  "nbformat_minor": 5
}